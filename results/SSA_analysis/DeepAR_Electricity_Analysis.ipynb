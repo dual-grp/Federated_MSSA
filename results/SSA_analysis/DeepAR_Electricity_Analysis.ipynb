{
  "cells": [
    {
      "cell_type": "code",
      "execution_count": 1,
      "metadata": {
        "colab": {
          "base_uri": "https://localhost:8080/"
        },
        "id": "9sX0ywfhhvQN",
        "outputId": "91dc2915-c657-424d-a037-9a4a485ff90f"
      },
      "outputs": [],
      "source": [
        "# !pip install --upgrade mxnet==1.6.0\n",
        "# !pip install gluonts"
      ]
    },
    {
      "cell_type": "code",
      "execution_count": 2,
      "metadata": {
        "id": "hEIWFE88p22H"
      },
      "outputs": [],
      "source": [
        "# Import libraries\n",
        "import os\n",
        "import numpy as np\n",
        "import torch\n",
        "import pandas as pd"
      ]
    },
    {
      "cell_type": "code",
      "execution_count": 3,
      "metadata": {
        "colab": {
          "base_uri": "https://localhost:8080/"
        },
        "id": "XqR0tpCGp7Qu",
        "outputId": "be22bf68-198d-489b-f161-50f2905e38ca"
      },
      "outputs": [
        {
          "name": "stdout",
          "output_type": "stream",
          "text": [
            "Files are ready\n"
          ]
        }
      ],
      "source": [
        "# Download Electricity Dataset\n",
        "file = \"LD2011_2014_clean.txt\"\n",
        "isExist = os.path.exists(file)\n",
        "if not isExist:\n",
        "    !wget https://archive.ics.uci.edu/ml/machine-learning-databases/00321/LD2011_2014.txt.zip\n",
        "    !unzip LD2011_2014.txt.zip\n",
        "    # change commas to dots\n",
        "    !sed 's/,/./g' LD2011_2014.txt > LD2011_2014_clean.txt\n",
        "else: \n",
        "    print(f\"Files are ready\")"
      ]
    },
    {
      "cell_type": "code",
      "execution_count": 4,
      "metadata": {
        "colab": {
          "base_uri": "https://localhost:8080/"
        },
        "id": "RKc14NdKp97G",
        "outputId": "03501062-92d9-4c8d-ce39-59d00e19c280"
      },
      "outputs": [
        {
          "name": "stdout",
          "output_type": "stream",
          "text": [
            "Data loaded..\n",
            "Data aggregated by hour\n"
          ]
        },
        {
          "data": {
            "text/plain": [
              "(26304, 370)"
            ]
          },
          "execution_count": 4,
          "metadata": {},
          "output_type": "execute_result"
        }
      ],
      "source": [
        "\"\"\"Preprocess data\"\"\"\n",
        "data = pd.read_csv('LD2011_2014_clean.txt', delimiter = ';')\n",
        "#remove data before 2012\n",
        "data = data.iloc[8760*4:]\n",
        "print('Data loaded..')\n",
        "data_2 = data.copy()\n",
        "#pick the first 20 houses\n",
        "data_2 = data_2.iloc[:,:]\n",
        "# Aggregate\n",
        "data_2['time'] =pd.to_datetime(data_2['Unnamed: 0']).dt.ceil('1h') \n",
        "data_2 = data_2.drop(['Unnamed: 0'], axis = 1)\n",
        "agg_dict = {}\n",
        "for col in data_2.columns[:-1]:\n",
        "    agg_dict[col] ='mean'\n",
        "aggregated_data = data_2.groupby(['time']).agg(agg_dict)\n",
        "print('Data aggregated by hour')\n",
        "aggregated_data.shape"
      ]
    },
    {
      "cell_type": "code",
      "execution_count": 5,
      "metadata": {
        "colab": {
          "base_uri": "https://localhost:8080/",
          "height": 498
        },
        "id": "WUMNV86BqIEF",
        "outputId": "47ffcfa8-8c00-4429-aa1e-894e7635ab6d"
      },
      "outputs": [
        {
          "data": {
            "text/html": [
              "<div>\n",
              "<style scoped>\n",
              "    .dataframe tbody tr th:only-of-type {\n",
              "        vertical-align: middle;\n",
              "    }\n",
              "\n",
              "    .dataframe tbody tr th {\n",
              "        vertical-align: top;\n",
              "    }\n",
              "\n",
              "    .dataframe thead th {\n",
              "        text-align: right;\n",
              "    }\n",
              "</style>\n",
              "<table border=\"1\" class=\"dataframe\">\n",
              "  <thead>\n",
              "    <tr style=\"text-align: right;\">\n",
              "      <th></th>\n",
              "      <th>MT_001</th>\n",
              "      <th>MT_002</th>\n",
              "      <th>MT_003</th>\n",
              "      <th>MT_004</th>\n",
              "      <th>MT_005</th>\n",
              "      <th>MT_006</th>\n",
              "      <th>MT_007</th>\n",
              "      <th>MT_008</th>\n",
              "      <th>MT_009</th>\n",
              "      <th>MT_010</th>\n",
              "      <th>...</th>\n",
              "      <th>MT_361</th>\n",
              "      <th>MT_362</th>\n",
              "      <th>MT_363</th>\n",
              "      <th>MT_364</th>\n",
              "      <th>MT_365</th>\n",
              "      <th>MT_366</th>\n",
              "      <th>MT_367</th>\n",
              "      <th>MT_368</th>\n",
              "      <th>MT_369</th>\n",
              "      <th>MT_370</th>\n",
              "    </tr>\n",
              "    <tr>\n",
              "      <th>time</th>\n",
              "      <th></th>\n",
              "      <th></th>\n",
              "      <th></th>\n",
              "      <th></th>\n",
              "      <th></th>\n",
              "      <th></th>\n",
              "      <th></th>\n",
              "      <th></th>\n",
              "      <th></th>\n",
              "      <th></th>\n",
              "      <th></th>\n",
              "      <th></th>\n",
              "      <th></th>\n",
              "      <th></th>\n",
              "      <th></th>\n",
              "      <th></th>\n",
              "      <th></th>\n",
              "      <th></th>\n",
              "      <th></th>\n",
              "      <th></th>\n",
              "      <th></th>\n",
              "    </tr>\n",
              "  </thead>\n",
              "  <tbody>\n",
              "    <tr>\n",
              "      <th>2012-01-01 01:00:00</th>\n",
              "      <td>-0.193637</td>\n",
              "      <td>-0.767048</td>\n",
              "      <td>5.979015</td>\n",
              "      <td>0.750556</td>\n",
              "      <td>1.297119</td>\n",
              "      <td>2.562526</td>\n",
              "      <td>0.380006</td>\n",
              "      <td>0.420689</td>\n",
              "      <td>0.936652</td>\n",
              "      <td>1.237010</td>\n",
              "      <td>...</td>\n",
              "      <td>-0.925467</td>\n",
              "      <td>-0.660711</td>\n",
              "      <td>-0.611351</td>\n",
              "      <td>-0.924599</td>\n",
              "      <td>-1.182866</td>\n",
              "      <td>0.055241</td>\n",
              "      <td>-0.298429</td>\n",
              "      <td>-0.970811</td>\n",
              "      <td>-0.867907</td>\n",
              "      <td>-1.312616</td>\n",
              "    </tr>\n",
              "    <tr>\n",
              "      <th>2012-01-01 02:00:00</th>\n",
              "      <td>-0.088516</td>\n",
              "      <td>-0.711666</td>\n",
              "      <td>5.979015</td>\n",
              "      <td>0.723940</td>\n",
              "      <td>1.174705</td>\n",
              "      <td>2.419487</td>\n",
              "      <td>0.131533</td>\n",
              "      <td>0.362440</td>\n",
              "      <td>0.666522</td>\n",
              "      <td>1.016322</td>\n",
              "      <td>...</td>\n",
              "      <td>-0.968145</td>\n",
              "      <td>-0.718147</td>\n",
              "      <td>-0.862776</td>\n",
              "      <td>-0.926923</td>\n",
              "      <td>-1.177477</td>\n",
              "      <td>-0.195217</td>\n",
              "      <td>-0.111780</td>\n",
              "      <td>-0.964607</td>\n",
              "      <td>-0.923605</td>\n",
              "      <td>-1.312616</td>\n",
              "    </tr>\n",
              "    <tr>\n",
              "      <th>2012-01-01 03:00:00</th>\n",
              "      <td>-0.193637</td>\n",
              "      <td>-0.739357</td>\n",
              "      <td>5.979015</td>\n",
              "      <td>0.710631</td>\n",
              "      <td>0.964851</td>\n",
              "      <td>1.573172</td>\n",
              "      <td>0.090121</td>\n",
              "      <td>-0.263732</td>\n",
              "      <td>0.500288</td>\n",
              "      <td>0.616982</td>\n",
              "      <td>...</td>\n",
              "      <td>-1.023433</td>\n",
              "      <td>-0.710625</td>\n",
              "      <td>-0.879452</td>\n",
              "      <td>-0.931572</td>\n",
              "      <td>-1.177477</td>\n",
              "      <td>-0.289139</td>\n",
              "      <td>-0.478750</td>\n",
              "      <td>-1.119708</td>\n",
              "      <td>-1.044284</td>\n",
              "      <td>-1.312616</td>\n",
              "    </tr>\n",
              "    <tr>\n",
              "      <th>2012-01-01 04:00:00</th>\n",
              "      <td>-0.088516</td>\n",
              "      <td>-0.877811</td>\n",
              "      <td>5.979015</td>\n",
              "      <td>-0.194342</td>\n",
              "      <td>0.037999</td>\n",
              "      <td>0.059340</td>\n",
              "      <td>-0.179057</td>\n",
              "      <td>-0.948152</td>\n",
              "      <td>-0.559453</td>\n",
              "      <td>-0.391876</td>\n",
              "      <td>...</td>\n",
              "      <td>-1.228097</td>\n",
              "      <td>-0.732505</td>\n",
              "      <td>-0.896128</td>\n",
              "      <td>-0.957141</td>\n",
              "      <td>-1.139759</td>\n",
              "      <td>-0.289139</td>\n",
              "      <td>-1.696712</td>\n",
              "      <td>-1.175544</td>\n",
              "      <td>-1.102634</td>\n",
              "      <td>-1.312616</td>\n",
              "    </tr>\n",
              "    <tr>\n",
              "      <th>2012-01-01 05:00:00</th>\n",
              "      <td>-0.141076</td>\n",
              "      <td>-0.905502</td>\n",
              "      <td>5.979015</td>\n",
              "      <td>-0.726679</td>\n",
              "      <td>-0.259294</td>\n",
              "      <td>-0.524736</td>\n",
              "      <td>-0.365412</td>\n",
              "      <td>-1.297643</td>\n",
              "      <td>-0.351661</td>\n",
              "      <td>-0.539002</td>\n",
              "      <td>...</td>\n",
              "      <td>-1.179598</td>\n",
              "      <td>-0.753702</td>\n",
              "      <td>-0.901901</td>\n",
              "      <td>-0.961790</td>\n",
              "      <td>-1.182866</td>\n",
              "      <td>-0.383061</td>\n",
              "      <td>-1.707784</td>\n",
              "      <td>-1.169340</td>\n",
              "      <td>-1.072133</td>\n",
              "      <td>-1.312616</td>\n",
              "    </tr>\n",
              "  </tbody>\n",
              "</table>\n",
              "<p>5 rows × 370 columns</p>\n",
              "</div>"
            ],
            "text/plain": [
              "                       MT_001    MT_002    MT_003    MT_004    MT_005  \\\n",
              "time                                                                    \n",
              "2012-01-01 01:00:00 -0.193637 -0.767048  5.979015  0.750556  1.297119   \n",
              "2012-01-01 02:00:00 -0.088516 -0.711666  5.979015  0.723940  1.174705   \n",
              "2012-01-01 03:00:00 -0.193637 -0.739357  5.979015  0.710631  0.964851   \n",
              "2012-01-01 04:00:00 -0.088516 -0.877811  5.979015 -0.194342  0.037999   \n",
              "2012-01-01 05:00:00 -0.141076 -0.905502  5.979015 -0.726679 -0.259294   \n",
              "\n",
              "                       MT_006    MT_007    MT_008    MT_009    MT_010  ...  \\\n",
              "time                                                                   ...   \n",
              "2012-01-01 01:00:00  2.562526  0.380006  0.420689  0.936652  1.237010  ...   \n",
              "2012-01-01 02:00:00  2.419487  0.131533  0.362440  0.666522  1.016322  ...   \n",
              "2012-01-01 03:00:00  1.573172  0.090121 -0.263732  0.500288  0.616982  ...   \n",
              "2012-01-01 04:00:00  0.059340 -0.179057 -0.948152 -0.559453 -0.391876  ...   \n",
              "2012-01-01 05:00:00 -0.524736 -0.365412 -1.297643 -0.351661 -0.539002  ...   \n",
              "\n",
              "                       MT_361    MT_362    MT_363    MT_364    MT_365  \\\n",
              "time                                                                    \n",
              "2012-01-01 01:00:00 -0.925467 -0.660711 -0.611351 -0.924599 -1.182866   \n",
              "2012-01-01 02:00:00 -0.968145 -0.718147 -0.862776 -0.926923 -1.177477   \n",
              "2012-01-01 03:00:00 -1.023433 -0.710625 -0.879452 -0.931572 -1.177477   \n",
              "2012-01-01 04:00:00 -1.228097 -0.732505 -0.896128 -0.957141 -1.139759   \n",
              "2012-01-01 05:00:00 -1.179598 -0.753702 -0.901901 -0.961790 -1.182866   \n",
              "\n",
              "                       MT_366    MT_367    MT_368    MT_369    MT_370  \n",
              "time                                                                   \n",
              "2012-01-01 01:00:00  0.055241 -0.298429 -0.970811 -0.867907 -1.312616  \n",
              "2012-01-01 02:00:00 -0.195217 -0.111780 -0.964607 -0.923605 -1.312616  \n",
              "2012-01-01 03:00:00 -0.289139 -0.478750 -1.119708 -1.044284 -1.312616  \n",
              "2012-01-01 04:00:00 -0.289139 -1.696712 -1.175544 -1.102634 -1.312616  \n",
              "2012-01-01 05:00:00 -0.383061 -1.707784 -1.169340 -1.072133 -1.312616  \n",
              "\n",
              "[5 rows x 370 columns]"
            ]
          },
          "execution_count": 5,
          "metadata": {},
          "output_type": "execute_result"
        }
      ],
      "source": [
        "\"\"\"Normalize data\"\"\"\n",
        "from sklearn.preprocessing import StandardScaler, MinMaxScaler\n",
        "Std_normalization = 1\n",
        "if Std_normalization:\n",
        "    scaler = StandardScaler()\n",
        "    temp = scaler.fit_transform(aggregated_data)\n",
        "    norm_means = scaler.mean_\n",
        "    norm_std = scaler.scale_\n",
        "else:\n",
        "    scaler = MinMaxScaler()\n",
        "    temp = scaler.fit_transform(aggregated_data)\n",
        "global data_4\n",
        "normalized_data = pd.DataFrame(temp, index=aggregated_data.index, columns = aggregated_data.columns)\n",
        "\n",
        "# Check normalized data\n",
        "normalized_data.head()"
      ]
    },
    {
      "cell_type": "code",
      "execution_count": 6,
      "metadata": {
        "id": "IOq6_MPvtFKc"
      },
      "outputs": [],
      "source": [
        "from gluonts.mx import DeepAREstimator\n",
        "from gluonts.mx import Trainer"
      ]
    },
    {
      "cell_type": "code",
      "execution_count": 7,
      "metadata": {
        "colab": {
          "base_uri": "https://localhost:8080/"
        },
        "id": "FOg4NllkuAC0",
        "outputId": "8527033d-9df2-42d0-d216-5f610079fad0"
      },
      "outputs": [
        {
          "name": "stderr",
          "output_type": "stream",
          "text": [
            "/home/tung6100/.local/lib/python3.8/site-packages/IPython/core/interactiveshell.py:3135: UserWarning: Parsing '18-12-2014' in DD/MM/YYYY format. Provide format or specify infer_datetime_format=True for consistent parsing.\n",
            "  has_raised = await self.run_ast_nodes(code_ast.body, cell_name,\n"
          ]
        }
      ],
      "source": [
        "# Hyper-parameters\n",
        "n_clients = 370\n",
        "prediction_length = 24\n",
        "freq = \"1H\"\n",
        "train_start = pd.Period(\"01-01-2012\", freq=freq) \n",
        "test_start = pd.Period(\"18-12-2014\", freq=freq)\n",
        "missing_percentage = 60"
      ]
    },
    {
      "cell_type": "code",
      "execution_count": 8,
      "metadata": {
        "colab": {
          "base_uri": "https://localhost:8080/",
          "height": 498
        },
        "id": "ro9zim-4dwvY",
        "outputId": "19bb5e15-d29b-4520-eeed-2908db169355"
      },
      "outputs": [
        {
          "data": {
            "text/html": [
              "<div>\n",
              "<style scoped>\n",
              "    .dataframe tbody tr th:only-of-type {\n",
              "        vertical-align: middle;\n",
              "    }\n",
              "\n",
              "    .dataframe tbody tr th {\n",
              "        vertical-align: top;\n",
              "    }\n",
              "\n",
              "    .dataframe thead th {\n",
              "        text-align: right;\n",
              "    }\n",
              "</style>\n",
              "<table border=\"1\" class=\"dataframe\">\n",
              "  <thead>\n",
              "    <tr style=\"text-align: right;\">\n",
              "      <th></th>\n",
              "      <th>MT_001</th>\n",
              "      <th>MT_002</th>\n",
              "      <th>MT_003</th>\n",
              "      <th>MT_004</th>\n",
              "      <th>MT_005</th>\n",
              "      <th>MT_006</th>\n",
              "      <th>MT_007</th>\n",
              "      <th>MT_008</th>\n",
              "      <th>MT_009</th>\n",
              "      <th>MT_010</th>\n",
              "      <th>...</th>\n",
              "      <th>MT_361</th>\n",
              "      <th>MT_362</th>\n",
              "      <th>MT_363</th>\n",
              "      <th>MT_364</th>\n",
              "      <th>MT_365</th>\n",
              "      <th>MT_366</th>\n",
              "      <th>MT_367</th>\n",
              "      <th>MT_368</th>\n",
              "      <th>MT_369</th>\n",
              "      <th>MT_370</th>\n",
              "    </tr>\n",
              "    <tr>\n",
              "      <th>time</th>\n",
              "      <th></th>\n",
              "      <th></th>\n",
              "      <th></th>\n",
              "      <th></th>\n",
              "      <th></th>\n",
              "      <th></th>\n",
              "      <th></th>\n",
              "      <th></th>\n",
              "      <th></th>\n",
              "      <th></th>\n",
              "      <th></th>\n",
              "      <th></th>\n",
              "      <th></th>\n",
              "      <th></th>\n",
              "      <th></th>\n",
              "      <th></th>\n",
              "      <th></th>\n",
              "      <th></th>\n",
              "      <th></th>\n",
              "      <th></th>\n",
              "      <th></th>\n",
              "    </tr>\n",
              "  </thead>\n",
              "  <tbody>\n",
              "    <tr>\n",
              "      <th>2012-01-01 01:00:00</th>\n",
              "      <td>-0.193637</td>\n",
              "      <td>0.000000</td>\n",
              "      <td>0.000000</td>\n",
              "      <td>0.750556</td>\n",
              "      <td>1.297119</td>\n",
              "      <td>2.562526</td>\n",
              "      <td>0.380006</td>\n",
              "      <td>0.420689</td>\n",
              "      <td>0.936652</td>\n",
              "      <td>1.237010</td>\n",
              "      <td>...</td>\n",
              "      <td>0.000000</td>\n",
              "      <td>-0.660711</td>\n",
              "      <td>-0.611351</td>\n",
              "      <td>-0.924599</td>\n",
              "      <td>-1.182866</td>\n",
              "      <td>0.000000</td>\n",
              "      <td>-0.298429</td>\n",
              "      <td>0.000000</td>\n",
              "      <td>-0.867907</td>\n",
              "      <td>-1.312616</td>\n",
              "    </tr>\n",
              "    <tr>\n",
              "      <th>2012-01-01 02:00:00</th>\n",
              "      <td>-0.088516</td>\n",
              "      <td>-0.711666</td>\n",
              "      <td>5.979015</td>\n",
              "      <td>0.723940</td>\n",
              "      <td>0.000000</td>\n",
              "      <td>0.000000</td>\n",
              "      <td>0.131533</td>\n",
              "      <td>0.362440</td>\n",
              "      <td>0.000000</td>\n",
              "      <td>1.016322</td>\n",
              "      <td>...</td>\n",
              "      <td>0.000000</td>\n",
              "      <td>-0.718147</td>\n",
              "      <td>-0.862776</td>\n",
              "      <td>-0.926923</td>\n",
              "      <td>-1.177477</td>\n",
              "      <td>-0.195217</td>\n",
              "      <td>-0.111780</td>\n",
              "      <td>-0.964607</td>\n",
              "      <td>-0.923605</td>\n",
              "      <td>-1.312616</td>\n",
              "    </tr>\n",
              "    <tr>\n",
              "      <th>2012-01-01 03:00:00</th>\n",
              "      <td>-0.193637</td>\n",
              "      <td>-0.739357</td>\n",
              "      <td>0.000000</td>\n",
              "      <td>0.710631</td>\n",
              "      <td>0.000000</td>\n",
              "      <td>0.000000</td>\n",
              "      <td>0.090121</td>\n",
              "      <td>-0.263732</td>\n",
              "      <td>0.500288</td>\n",
              "      <td>0.616982</td>\n",
              "      <td>...</td>\n",
              "      <td>-1.023433</td>\n",
              "      <td>-0.710625</td>\n",
              "      <td>-0.879452</td>\n",
              "      <td>-0.931572</td>\n",
              "      <td>-1.177477</td>\n",
              "      <td>0.000000</td>\n",
              "      <td>0.000000</td>\n",
              "      <td>-1.119708</td>\n",
              "      <td>-1.044284</td>\n",
              "      <td>0.000000</td>\n",
              "    </tr>\n",
              "    <tr>\n",
              "      <th>2012-01-01 04:00:00</th>\n",
              "      <td>0.000000</td>\n",
              "      <td>-0.877811</td>\n",
              "      <td>5.979015</td>\n",
              "      <td>-0.194342</td>\n",
              "      <td>0.037999</td>\n",
              "      <td>0.059340</td>\n",
              "      <td>-0.179057</td>\n",
              "      <td>-0.948152</td>\n",
              "      <td>0.000000</td>\n",
              "      <td>-0.391876</td>\n",
              "      <td>...</td>\n",
              "      <td>-1.228097</td>\n",
              "      <td>-0.732505</td>\n",
              "      <td>-0.896128</td>\n",
              "      <td>-0.957141</td>\n",
              "      <td>0.000000</td>\n",
              "      <td>-0.289139</td>\n",
              "      <td>0.000000</td>\n",
              "      <td>-1.175544</td>\n",
              "      <td>0.000000</td>\n",
              "      <td>-1.312616</td>\n",
              "    </tr>\n",
              "    <tr>\n",
              "      <th>2012-01-01 05:00:00</th>\n",
              "      <td>0.000000</td>\n",
              "      <td>-0.905502</td>\n",
              "      <td>5.979015</td>\n",
              "      <td>-0.726679</td>\n",
              "      <td>-0.259294</td>\n",
              "      <td>0.000000</td>\n",
              "      <td>-0.365412</td>\n",
              "      <td>-1.297643</td>\n",
              "      <td>-0.351661</td>\n",
              "      <td>-0.539002</td>\n",
              "      <td>...</td>\n",
              "      <td>-1.179598</td>\n",
              "      <td>-0.753702</td>\n",
              "      <td>-0.901901</td>\n",
              "      <td>0.000000</td>\n",
              "      <td>-1.182866</td>\n",
              "      <td>0.000000</td>\n",
              "      <td>-1.707784</td>\n",
              "      <td>-1.169340</td>\n",
              "      <td>0.000000</td>\n",
              "      <td>-1.312616</td>\n",
              "    </tr>\n",
              "  </tbody>\n",
              "</table>\n",
              "<p>5 rows × 370 columns</p>\n",
              "</div>"
            ],
            "text/plain": [
              "                       MT_001    MT_002    MT_003    MT_004    MT_005  \\\n",
              "time                                                                    \n",
              "2012-01-01 01:00:00 -0.193637  0.000000  0.000000  0.750556  1.297119   \n",
              "2012-01-01 02:00:00 -0.088516 -0.711666  5.979015  0.723940  0.000000   \n",
              "2012-01-01 03:00:00 -0.193637 -0.739357  0.000000  0.710631  0.000000   \n",
              "2012-01-01 04:00:00  0.000000 -0.877811  5.979015 -0.194342  0.037999   \n",
              "2012-01-01 05:00:00  0.000000 -0.905502  5.979015 -0.726679 -0.259294   \n",
              "\n",
              "                       MT_006    MT_007    MT_008    MT_009    MT_010  ...  \\\n",
              "time                                                                   ...   \n",
              "2012-01-01 01:00:00  2.562526  0.380006  0.420689  0.936652  1.237010  ...   \n",
              "2012-01-01 02:00:00  0.000000  0.131533  0.362440  0.000000  1.016322  ...   \n",
              "2012-01-01 03:00:00  0.000000  0.090121 -0.263732  0.500288  0.616982  ...   \n",
              "2012-01-01 04:00:00  0.059340 -0.179057 -0.948152  0.000000 -0.391876  ...   \n",
              "2012-01-01 05:00:00  0.000000 -0.365412 -1.297643 -0.351661 -0.539002  ...   \n",
              "\n",
              "                       MT_361    MT_362    MT_363    MT_364    MT_365  \\\n",
              "time                                                                    \n",
              "2012-01-01 01:00:00  0.000000 -0.660711 -0.611351 -0.924599 -1.182866   \n",
              "2012-01-01 02:00:00  0.000000 -0.718147 -0.862776 -0.926923 -1.177477   \n",
              "2012-01-01 03:00:00 -1.023433 -0.710625 -0.879452 -0.931572 -1.177477   \n",
              "2012-01-01 04:00:00 -1.228097 -0.732505 -0.896128 -0.957141  0.000000   \n",
              "2012-01-01 05:00:00 -1.179598 -0.753702 -0.901901  0.000000 -1.182866   \n",
              "\n",
              "                       MT_366    MT_367    MT_368    MT_369    MT_370  \n",
              "time                                                                   \n",
              "2012-01-01 01:00:00  0.000000 -0.298429  0.000000 -0.867907 -1.312616  \n",
              "2012-01-01 02:00:00 -0.195217 -0.111780 -0.964607 -0.923605 -1.312616  \n",
              "2012-01-01 03:00:00  0.000000  0.000000 -1.119708 -1.044284  0.000000  \n",
              "2012-01-01 04:00:00 -0.289139  0.000000 -1.175544  0.000000 -1.312616  \n",
              "2012-01-01 05:00:00  0.000000 -1.707784 -1.169340  0.000000 -1.312616  \n",
              "\n",
              "[5 rows x 370 columns]"
            ]
          },
          "execution_count": 8,
          "metadata": {},
          "output_type": "execute_result"
        }
      ],
      "source": [
        "\"\"\"\n",
        "\n",
        "Create missing values based on normal distribution random choice\n",
        "\n",
        "Input: \n",
        " - pd_data: 2d pandas data frame\n",
        " - missing_percentage: missing percentage <= 100\n",
        "\n",
        "Output:\n",
        " - return_data: 2d pandas with missed values\n",
        "\n",
        "\"\"\"\n",
        "def create_missing_data(pd_data, missing_percentage = 20):\n",
        "    if missing_percentage == 0: return pd_data\n",
        "    assert missing_percentage <= 100, \"missing percentage should be less than or equal 100%\"\n",
        "    np.random.seed(1993)\n",
        "    # Convert data frame to array\n",
        "    np_data = pd_data.to_numpy()\n",
        "    # Convert original data to 1d array - Because existing package only supports to randomly choose indices from 1d array\n",
        "    np_data_1d = np_data.flatten()\n",
        "    # Randomly choose missing index\n",
        "    total_elem = np_data_1d.shape[0]\n",
        "    number_of_missing_elem = int(missing_percentage*1.0*total_elem/100)\n",
        "    missing_index = np.random.choice(np.arange(total_elem), number_of_missing_elem, replace=False) # with replace = False, an index only is chosen 1 time\n",
        "    # Replace missing_index with 0\n",
        "    np_data_1d[missing_index] = 0\n",
        "    # Convert 1d array to 2d array\n",
        "    np_data_2d = np_data_1d.reshape(pd_data.shape[0], pd_data.shape[1])\n",
        "    # Convert 2d array to dataframe\n",
        "    cols_name = pd_data.columns\n",
        "    return_data = pd.DataFrame(np_data_2d, columns = cols_name)\n",
        "    return_data.index = pd_data.index\n",
        "    return return_data\n",
        "\n",
        "missing_df = create_missing_data(normalized_data, missing_percentage=20)\n",
        "missing_df.head()"
      ]
    },
    {
      "cell_type": "code",
      "execution_count": 9,
      "metadata": {
        "id": "Wa_KsFa9ztzj"
      },
      "outputs": [],
      "source": [
        "\"\"\"Function to split train and test dataset\"\"\"\n",
        "def set_train_test(n_clients=20):\n",
        "    data_train = normalized_data.iloc[:25968,:n_clients] #25600; 25968; 26082\n",
        "    data_test = normalized_data.iloc[25968:25968+24,:n_clients]\n",
        "    data_test_deepAR = normalized_data.iloc[:25968+prediction_length,:n_clients]\n",
        "    return data_train, data_test, data_test_deepAR"
      ]
    },
    {
      "cell_type": "code",
      "execution_count": 10,
      "metadata": {
        "colab": {
          "base_uri": "https://localhost:8080/"
        },
        "id": "DsxPAamwz1d7",
        "outputId": "922b1b52-940e-4ab1-adff-2a38593d9d2a"
      },
      "outputs": [
        {
          "data": {
            "text/plain": [
              "((25968, 370), (24, 370), (25992, 370))"
            ]
          },
          "execution_count": 10,
          "metadata": {},
          "output_type": "execute_result"
        }
      ],
      "source": [
        "\"\"\"Check train and test dataset\"\"\"\n",
        "data_train, data_test, data_test_deepAR = set_train_test(n_clients=n_clients)\n",
        "data_train.shape, data_test.shape, data_test_deepAR.shape"
      ]
    },
    {
      "cell_type": "code",
      "execution_count": 11,
      "metadata": {
        "colab": {
          "base_uri": "https://localhost:8080/",
          "height": 498
        },
        "id": "956URnmffF9Q",
        "outputId": "2cf2e171-20bb-419c-d34f-007a05afae82"
      },
      "outputs": [
        {
          "data": {
            "text/html": [
              "<div>\n",
              "<style scoped>\n",
              "    .dataframe tbody tr th:only-of-type {\n",
              "        vertical-align: middle;\n",
              "    }\n",
              "\n",
              "    .dataframe tbody tr th {\n",
              "        vertical-align: top;\n",
              "    }\n",
              "\n",
              "    .dataframe thead th {\n",
              "        text-align: right;\n",
              "    }\n",
              "</style>\n",
              "<table border=\"1\" class=\"dataframe\">\n",
              "  <thead>\n",
              "    <tr style=\"text-align: right;\">\n",
              "      <th></th>\n",
              "      <th>MT_001</th>\n",
              "      <th>MT_002</th>\n",
              "      <th>MT_003</th>\n",
              "      <th>MT_004</th>\n",
              "      <th>MT_005</th>\n",
              "      <th>MT_006</th>\n",
              "      <th>MT_007</th>\n",
              "      <th>MT_008</th>\n",
              "      <th>MT_009</th>\n",
              "      <th>MT_010</th>\n",
              "      <th>...</th>\n",
              "      <th>MT_361</th>\n",
              "      <th>MT_362</th>\n",
              "      <th>MT_363</th>\n",
              "      <th>MT_364</th>\n",
              "      <th>MT_365</th>\n",
              "      <th>MT_366</th>\n",
              "      <th>MT_367</th>\n",
              "      <th>MT_368</th>\n",
              "      <th>MT_369</th>\n",
              "      <th>MT_370</th>\n",
              "    </tr>\n",
              "    <tr>\n",
              "      <th>time</th>\n",
              "      <th></th>\n",
              "      <th></th>\n",
              "      <th></th>\n",
              "      <th></th>\n",
              "      <th></th>\n",
              "      <th></th>\n",
              "      <th></th>\n",
              "      <th></th>\n",
              "      <th></th>\n",
              "      <th></th>\n",
              "      <th></th>\n",
              "      <th></th>\n",
              "      <th></th>\n",
              "      <th></th>\n",
              "      <th></th>\n",
              "      <th></th>\n",
              "      <th></th>\n",
              "      <th></th>\n",
              "      <th></th>\n",
              "      <th></th>\n",
              "      <th></th>\n",
              "    </tr>\n",
              "  </thead>\n",
              "  <tbody>\n",
              "    <tr>\n",
              "      <th>2012-01-01 01:00:00</th>\n",
              "      <td>0.0</td>\n",
              "      <td>0.000000</td>\n",
              "      <td>0.000000</td>\n",
              "      <td>0.750556</td>\n",
              "      <td>0.000000</td>\n",
              "      <td>0.0</td>\n",
              "      <td>0.000000</td>\n",
              "      <td>0.000000</td>\n",
              "      <td>0.936652</td>\n",
              "      <td>0.000000</td>\n",
              "      <td>...</td>\n",
              "      <td>0.000000</td>\n",
              "      <td>0.000000</td>\n",
              "      <td>0.000000</td>\n",
              "      <td>-0.924599</td>\n",
              "      <td>-1.182866</td>\n",
              "      <td>0.000000</td>\n",
              "      <td>-0.298429</td>\n",
              "      <td>0.000000</td>\n",
              "      <td>-0.867907</td>\n",
              "      <td>-1.312616</td>\n",
              "    </tr>\n",
              "    <tr>\n",
              "      <th>2012-01-01 02:00:00</th>\n",
              "      <td>0.0</td>\n",
              "      <td>-0.711666</td>\n",
              "      <td>5.979015</td>\n",
              "      <td>0.723940</td>\n",
              "      <td>0.000000</td>\n",
              "      <td>0.0</td>\n",
              "      <td>0.000000</td>\n",
              "      <td>0.362440</td>\n",
              "      <td>0.000000</td>\n",
              "      <td>0.000000</td>\n",
              "      <td>...</td>\n",
              "      <td>0.000000</td>\n",
              "      <td>-0.718147</td>\n",
              "      <td>-0.862776</td>\n",
              "      <td>-0.926923</td>\n",
              "      <td>-1.177477</td>\n",
              "      <td>0.000000</td>\n",
              "      <td>-0.111780</td>\n",
              "      <td>-0.964607</td>\n",
              "      <td>-0.923605</td>\n",
              "      <td>-1.312616</td>\n",
              "    </tr>\n",
              "    <tr>\n",
              "      <th>2012-01-01 03:00:00</th>\n",
              "      <td>0.0</td>\n",
              "      <td>-0.739357</td>\n",
              "      <td>0.000000</td>\n",
              "      <td>0.000000</td>\n",
              "      <td>0.000000</td>\n",
              "      <td>0.0</td>\n",
              "      <td>0.000000</td>\n",
              "      <td>-0.263732</td>\n",
              "      <td>0.500288</td>\n",
              "      <td>0.616982</td>\n",
              "      <td>...</td>\n",
              "      <td>0.000000</td>\n",
              "      <td>0.000000</td>\n",
              "      <td>-0.879452</td>\n",
              "      <td>0.000000</td>\n",
              "      <td>0.000000</td>\n",
              "      <td>0.000000</td>\n",
              "      <td>0.000000</td>\n",
              "      <td>0.000000</td>\n",
              "      <td>-1.044284</td>\n",
              "      <td>0.000000</td>\n",
              "    </tr>\n",
              "    <tr>\n",
              "      <th>2012-01-01 04:00:00</th>\n",
              "      <td>0.0</td>\n",
              "      <td>0.000000</td>\n",
              "      <td>0.000000</td>\n",
              "      <td>0.000000</td>\n",
              "      <td>0.037999</td>\n",
              "      <td>0.0</td>\n",
              "      <td>-0.179057</td>\n",
              "      <td>0.000000</td>\n",
              "      <td>0.000000</td>\n",
              "      <td>0.000000</td>\n",
              "      <td>...</td>\n",
              "      <td>0.000000</td>\n",
              "      <td>0.000000</td>\n",
              "      <td>0.000000</td>\n",
              "      <td>-0.957141</td>\n",
              "      <td>0.000000</td>\n",
              "      <td>-0.289139</td>\n",
              "      <td>0.000000</td>\n",
              "      <td>-1.175544</td>\n",
              "      <td>0.000000</td>\n",
              "      <td>0.000000</td>\n",
              "    </tr>\n",
              "    <tr>\n",
              "      <th>2012-01-01 05:00:00</th>\n",
              "      <td>0.0</td>\n",
              "      <td>-0.905502</td>\n",
              "      <td>0.000000</td>\n",
              "      <td>0.000000</td>\n",
              "      <td>-0.259294</td>\n",
              "      <td>0.0</td>\n",
              "      <td>0.000000</td>\n",
              "      <td>0.000000</td>\n",
              "      <td>0.000000</td>\n",
              "      <td>-0.539002</td>\n",
              "      <td>...</td>\n",
              "      <td>-1.179598</td>\n",
              "      <td>0.000000</td>\n",
              "      <td>0.000000</td>\n",
              "      <td>0.000000</td>\n",
              "      <td>0.000000</td>\n",
              "      <td>0.000000</td>\n",
              "      <td>0.000000</td>\n",
              "      <td>-1.169340</td>\n",
              "      <td>0.000000</td>\n",
              "      <td>0.000000</td>\n",
              "    </tr>\n",
              "  </tbody>\n",
              "</table>\n",
              "<p>5 rows × 370 columns</p>\n",
              "</div>"
            ],
            "text/plain": [
              "                     MT_001    MT_002    MT_003    MT_004    MT_005  MT_006  \\\n",
              "time                                                                          \n",
              "2012-01-01 01:00:00     0.0  0.000000  0.000000  0.750556  0.000000     0.0   \n",
              "2012-01-01 02:00:00     0.0 -0.711666  5.979015  0.723940  0.000000     0.0   \n",
              "2012-01-01 03:00:00     0.0 -0.739357  0.000000  0.000000  0.000000     0.0   \n",
              "2012-01-01 04:00:00     0.0  0.000000  0.000000  0.000000  0.037999     0.0   \n",
              "2012-01-01 05:00:00     0.0 -0.905502  0.000000  0.000000 -0.259294     0.0   \n",
              "\n",
              "                       MT_007    MT_008    MT_009    MT_010  ...    MT_361  \\\n",
              "time                                                         ...             \n",
              "2012-01-01 01:00:00  0.000000  0.000000  0.936652  0.000000  ...  0.000000   \n",
              "2012-01-01 02:00:00  0.000000  0.362440  0.000000  0.000000  ...  0.000000   \n",
              "2012-01-01 03:00:00  0.000000 -0.263732  0.500288  0.616982  ...  0.000000   \n",
              "2012-01-01 04:00:00 -0.179057  0.000000  0.000000  0.000000  ...  0.000000   \n",
              "2012-01-01 05:00:00  0.000000  0.000000  0.000000 -0.539002  ... -1.179598   \n",
              "\n",
              "                       MT_362    MT_363    MT_364    MT_365    MT_366  \\\n",
              "time                                                                    \n",
              "2012-01-01 01:00:00  0.000000  0.000000 -0.924599 -1.182866  0.000000   \n",
              "2012-01-01 02:00:00 -0.718147 -0.862776 -0.926923 -1.177477  0.000000   \n",
              "2012-01-01 03:00:00  0.000000 -0.879452  0.000000  0.000000  0.000000   \n",
              "2012-01-01 04:00:00  0.000000  0.000000 -0.957141  0.000000 -0.289139   \n",
              "2012-01-01 05:00:00  0.000000  0.000000  0.000000  0.000000  0.000000   \n",
              "\n",
              "                       MT_367    MT_368    MT_369    MT_370  \n",
              "time                                                         \n",
              "2012-01-01 01:00:00 -0.298429  0.000000 -0.867907 -1.312616  \n",
              "2012-01-01 02:00:00 -0.111780 -0.964607 -0.923605 -1.312616  \n",
              "2012-01-01 03:00:00  0.000000  0.000000 -1.044284  0.000000  \n",
              "2012-01-01 04:00:00  0.000000 -1.175544  0.000000  0.000000  \n",
              "2012-01-01 05:00:00  0.000000 -1.169340  0.000000  0.000000  \n",
              "\n",
              "[5 rows x 370 columns]"
            ]
          },
          "execution_count": 11,
          "metadata": {},
          "output_type": "execute_result"
        }
      ],
      "source": [
        "# missing_percentage = 40\n",
        "data_train_missing_vals = create_missing_data(data_train, missing_percentage=missing_percentage)\n",
        "data_train_missing_vals.head()"
      ]
    },
    {
      "cell_type": "code",
      "execution_count": 12,
      "metadata": {
        "colab": {
          "base_uri": "https://localhost:8080/"
        },
        "id": "71t2yPCq377U",
        "outputId": "9508d76a-bcb5-43a5-8d33-02a8d3ad1732"
      },
      "outputs": [
        {
          "data": {
            "text/plain": [
              "(25968, 370)"
            ]
          },
          "execution_count": 12,
          "metadata": {},
          "output_type": "execute_result"
        }
      ],
      "source": [
        "data_train_missing_vals.iloc[:, :n_clients].to_numpy().shape"
      ]
    },
    {
      "cell_type": "code",
      "execution_count": 13,
      "metadata": {
        "colab": {
          "base_uri": "https://localhost:8080/"
        },
        "id": "jAF306kSz34D",
        "outputId": "d4aa663a-537d-4e5a-fcaf-3e0d60b296ec"
      },
      "outputs": [
        {
          "data": {
            "text/plain": [
              "(numpy.ndarray, (370, 25968), (370, 24), (370, 25992))"
            ]
          },
          "execution_count": 13,
          "metadata": {},
          "output_type": "execute_result"
        }
      ],
      "source": [
        "\"\"\"Convert data to numpy\"\"\"\n",
        "data_train_np = data_train_missing_vals.iloc[:, :n_clients].to_numpy()\n",
        "data_test_np = data_test.iloc[:, :n_clients].to_numpy()\n",
        "data_test_deepAR_np = data_test_deepAR.iloc[:, :n_clients].to_numpy()\n",
        "data_train_np = data_train_np.T\n",
        "data_test_np = data_test_np.T\n",
        "data_test_deepAR_np = data_test_deepAR_np.T\n",
        "# Check the type of data\n",
        "type(data_train_np), data_train_np.shape, data_test_np.shape, data_test_deepAR_np.shape"
      ]
    },
    {
      "cell_type": "code",
      "execution_count": 14,
      "metadata": {
        "id": "u5DO3FzP0Q73"
      },
      "outputs": [],
      "source": [
        "\"\"\"Create dataset for Gluont\"\"\"\n",
        "from gluonts.dataset.common import ListDataset\n",
        "# train dataset: cut the last window of length \"prediction_length\", add \"target\" and \"start\" fields\n",
        "train_ds = ListDataset(\n",
        "    [{\"target\": x, \"start\": train_start} for x in data_train_np[:, :-prediction_length]],\n",
        "    freq=freq,\n",
        ")\n",
        "# test dataset: use the whole dataset, add \"target\" and \"start\" fields\n",
        "test_ds = ListDataset(\n",
        "    [{\"target\": x, \"start\": train_start} for x in data_test_deepAR_np], freq=freq\n",
        ")"
      ]
    },
    {
      "cell_type": "code",
      "execution_count": 15,
      "metadata": {
        "id": "tpRmsXvFvXgg"
      },
      "outputs": [],
      "source": [
        "estimator = DeepAREstimator(freq=freq,\n",
        "                            prediction_length=prediction_length,\n",
        "                            trainer=Trainer(ctx=\"cpu\", epochs=5, learning_rate=1e-3, num_batches_per_epoch=100),\n",
        "                            )"
      ]
    },
    {
      "cell_type": "code",
      "execution_count": 16,
      "metadata": {
        "colab": {
          "base_uri": "https://localhost:8080/"
        },
        "id": "Qf_v9lTH19F2",
        "outputId": "1a570fd3-804a-44b6-a207-5f8cee18a950"
      },
      "outputs": [
        {
          "name": "stderr",
          "output_type": "stream",
          "text": [
            "100%|██████████| 100/100 [00:25<00:00,  3.93it/s, epoch=1/5, avg_epoch_loss=0.587]\n",
            "100%|██████████| 100/100 [00:24<00:00,  4.02it/s, epoch=2/5, avg_epoch_loss=0.532]\n",
            "100%|██████████| 100/100 [00:25<00:00,  3.98it/s, epoch=3/5, avg_epoch_loss=0.484]\n",
            "100%|██████████| 100/100 [00:25<00:00,  4.00it/s, epoch=4/5, avg_epoch_loss=0.494]\n",
            "100%|██████████| 100/100 [00:26<00:00,  3.83it/s, epoch=5/5, avg_epoch_loss=0.49]\n"
          ]
        }
      ],
      "source": [
        "predictor = estimator.train(training_data=train_ds)"
      ]
    },
    {
      "cell_type": "code",
      "execution_count": 17,
      "metadata": {
        "id": "0VL_iqZq-S2n"
      },
      "outputs": [],
      "source": [
        "from gluonts.evaluation import make_evaluation_predictions\n",
        "forecast_it, ts_it = make_evaluation_predictions(\n",
        "    dataset=test_ds,  \n",
        "    predictor=predictor,  \n",
        "    num_samples=1, \n",
        ")"
      ]
    },
    {
      "cell_type": "code",
      "execution_count": 18,
      "metadata": {
        "id": "a5x8_UmBAR6i"
      },
      "outputs": [
        {
          "name": "stdout",
          "output_type": "stream",
          "text": [
            "Obtaining time series conditioning values ...\n"
          ]
        },
        {
          "data": {
            "application/vnd.jupyter.widget-view+json": {
              "model_id": "e62b77fdf47b43fcb897980ce561e830",
              "version_major": 2,
              "version_minor": 0
            },
            "text/plain": [
              "  0%|          | 0/25992 [00:00<?, ?it/s]"
            ]
          },
          "metadata": {},
          "output_type": "display_data"
        },
        {
          "name": "stdout",
          "output_type": "stream",
          "text": [
            "Obtaining time series predictions ...\n"
          ]
        },
        {
          "data": {
            "application/vnd.jupyter.widget-view+json": {
              "model_id": "097141d7d6744770b45bc1cc61f071a8",
              "version_major": 2,
              "version_minor": 0
            },
            "text/plain": [
              "  0%|          | 0/25992 [00:00<?, ?it/s]"
            ]
          },
          "metadata": {},
          "output_type": "display_data"
        }
      ],
      "source": [
        "from tqdm.autonotebook import tqdm\n",
        "\n",
        "print(\"Obtaining time series conditioning values ...\")\n",
        "tss = list(tqdm(ts_it, total=data_test_deepAR_np.shape[1]))\n",
        "print(\"Obtaining time series predictions ...\")\n",
        "forecasts = list(tqdm(forecast_it, total=data_test_deepAR_np.shape[1]))"
      ]
    },
    {
      "cell_type": "code",
      "execution_count": 19,
      "metadata": {
        "id": "MrIVlCIHGFYi"
      },
      "outputs": [
        {
          "data": {
            "text/plain": [
              "370"
            ]
          },
          "execution_count": 19,
          "metadata": {},
          "output_type": "execute_result"
        }
      ],
      "source": [
        "len(tss)"
      ]
    },
    {
      "cell_type": "code",
      "execution_count": 20,
      "metadata": {
        "id": "zXd-e5QWA2ww"
      },
      "outputs": [],
      "source": [
        "import matplotlib.pyplot as plt\n",
        "\n",
        "def plot_prob_forecasts(ts_entry, forecast_entry):\n",
        "    plot_length = prediction_length\n",
        "    prediction_intervals = (80.0, 95.0)\n",
        "    legend = [\"observations\", \"median prediction\"] + [f\"{k}% prediction interval\" for k in prediction_intervals][::-1]\n",
        "\n",
        "    fig, ax = plt.subplots(1, 1, figsize=(10, 7))\n",
        "    ts_entry[-plot_length:].plot(ax=ax)  \n",
        "    forecast_entry.plot(prediction_intervals=prediction_intervals, color='g')\n",
        "    plt.grid(which=\"both\")\n",
        "    plt.legend(legend, loc=\"upper left\")\n",
        "    plt.show()"
      ]
    },
    {
      "cell_type": "code",
      "execution_count": 21,
      "metadata": {
        "id": "nBgv4IuXmGxw"
      },
      "outputs": [
        {
          "data": {
            "application/vnd.jupyter.widget-view+json": {
              "model_id": "8e199b9056cf498588d44a0de17f10d4",
              "version_major": 2,
              "version_minor": 0
            },
            "text/plain": [
              "  0%|          | 0/370 [00:00<?, ?it/s]"
            ]
          },
          "metadata": {},
          "output_type": "display_data"
        }
      ],
      "source": [
        "for i in tqdm(range(n_clients)):\n",
        "    ts_entry = tss[i]\n",
        "    forecast_entry = forecasts[i]\n",
        "    # plot_prob_forecasts(ts_entry, forecast_entry)"
      ]
    },
    {
      "cell_type": "code",
      "execution_count": 22,
      "metadata": {
        "id": "G5NrqzilBDiX"
      },
      "outputs": [
        {
          "data": {
            "application/vnd.jupyter.widget-view+json": {
              "model_id": "c9394cf75e834cde8407a98dbf3b35df",
              "version_major": 2,
              "version_minor": 0
            },
            "text/plain": [
              "  0%|          | 0/370 [00:00<?, ?it/s]"
            ]
          },
          "metadata": {},
          "output_type": "display_data"
        },
        {
          "data": {
            "text/plain": [
              "((370, 24), (370, 24))"
            ]
          },
          "execution_count": 22,
          "metadata": {},
          "output_type": "execute_result"
        }
      ],
      "source": [
        "list_diff = []\n",
        "y_pred = []\n",
        "y_true = []\n",
        "for i in tqdm(range(n_clients)):\n",
        "    ts_entry = tss[i]\n",
        "    ts_entry_np = ts_entry.to_numpy()\n",
        "    ts_entry_24h = ts_entry_np[-24:, :]\n",
        "    ts_entry_24h = ts_entry_24h.reshape(-1)\n",
        "    forecast_entry_24h = forecasts[i].mean\n",
        "    diff = ts_entry_24h - forecast_entry_24h\n",
        "    y_pred.append(forecast_entry_24h)\n",
        "    y_true.append(ts_entry_24h)\n",
        "    list_diff.append(diff)\n",
        "\n",
        "y_pred_np = np.array(y_pred)\n",
        "y_true_np = np.array(y_true)\n",
        "\n",
        "y_pred_np.shape, y_true_np.shape"
      ]
    },
    {
      "cell_type": "code",
      "execution_count": 23,
      "metadata": {
        "id": "M85gNrLkBPeK"
      },
      "outputs": [
        {
          "data": {
            "text/plain": [
              "(370, 24)"
            ]
          },
          "execution_count": 23,
          "metadata": {},
          "output_type": "execute_result"
        }
      ],
      "source": [
        "dif_matrix = np.array(list_diff)\n",
        "dif_matrix.shape"
      ]
    },
    {
      "cell_type": "code",
      "execution_count": 24,
      "metadata": {
        "id": "lgpTZ-VSlxNy"
      },
      "outputs": [
        {
          "data": {
            "text/plain": [
              "2.6396759"
            ]
          },
          "execution_count": 24,
          "metadata": {},
          "output_type": "execute_result"
        }
      ],
      "source": [
        "rmse = np.sqrt(np.mean(np.square(dif_matrix)))\n",
        "rmse"
      ]
    },
    {
      "cell_type": "code",
      "execution_count": 25,
      "metadata": {
        "id": "ktPjjqkC2WAQ"
      },
      "outputs": [],
      "source": [
        "from sklearn.metrics import mean_absolute_error as mae\n",
        "from sklearn.metrics import mean_squared_error as mse\n",
        "def evaluate_Testset(y_true, y_pred):\n",
        "    def mape(y_true, y_pred): \n",
        "      return np.mean(np.abs((y_true - y_pred) / y_true)) * 100\n",
        "    MSE = mse(y_true, y_pred)\n",
        "    RMSE = np.sqrt(MSE)\n",
        "    MAE = mae(y_true, y_pred)\n",
        "    MAPE = mape(y_true, y_pred)\n",
        "    return MSE, RMSE, MAE, MAPE\n",
        "\n",
        "def accuracy_Testset(y_true, y_pred):\n",
        "  diff_pred = list()\n",
        "  diff_true = list()\n",
        "  accuracy = 0.\n",
        "  for i in range(len(y_true)-1):\n",
        "      diff_pred.append(y_pred[i+1]-y_pred[i])\n",
        "      diff_true.append(y_true[i+1]-y_true[i])\n",
        "  count = sum(diff_pred[i] * diff_true[i] > 0 for i in range(len(diff_pred)))\n",
        "  accuracy = count/len(diff_pred) * 100\n",
        "  return accuracy"
      ]
    },
    {
      "cell_type": "code",
      "execution_count": 26,
      "metadata": {
        "id": "EAH86-FB2YZZ"
      },
      "outputs": [
        {
          "name": "stdout",
          "output_type": "stream",
          "text": [
            "MSE: 6.967889308929443, RMSE: 2.639676094055176, MAE: 1.159835934638977, MAPE: 270.5078601837158\n"
          ]
        }
      ],
      "source": [
        "MSE, RMSE, MAE, MAPE = evaluate_Testset(y_true_np, y_pred_np)\n",
        "acc = accuracy_Testset(y_true_np, y_pred_np)\n",
        "print(f\"MSE: {MSE}, RMSE: {RMSE}, MAE: {MAE}, MAPE: {MAPE}\")\n",
        "# print(f\"acc: {acc}\")"
      ]
    }
  ],
  "metadata": {
    "accelerator": "GPU",
    "colab": {
      "provenance": [],
      "toc_visible": true
    },
    "gpuClass": "standard",
    "kernelspec": {
      "display_name": "Python 3",
      "name": "python3"
    },
    "language_info": {
      "codemirror_mode": {
        "name": "ipython",
        "version": 3
      },
      "file_extension": ".py",
      "mimetype": "text/x-python",
      "name": "python",
      "nbconvert_exporter": "python",
      "pygments_lexer": "ipython3",
      "version": "3.8.10"
    }
  },
  "nbformat": 4,
  "nbformat_minor": 0
}
