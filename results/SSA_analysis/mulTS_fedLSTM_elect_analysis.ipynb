{
 "cells": [
  {
   "cell_type": "code",
   "execution_count": 1,
   "metadata": {},
   "outputs": [
    {
     "name": "stdout",
     "output_type": "stream",
     "text": [
      "/share/home/tung6100/phD/semester3/FedMSSA/FedSSA-mSSA/results/SSA_analysis\n"
     ]
    }
   ],
   "source": [
    "!pwd"
   ]
  },
  {
   "cell_type": "code",
   "execution_count": 2,
   "metadata": {},
   "outputs": [],
   "source": [
    "import os\n",
    "import numpy as np\n",
    "import pandas as pd\n",
    "import copy\n",
    "import matplotlib.pyplot as plt"
   ]
  },
  {
   "cell_type": "code",
   "execution_count": 3,
   "metadata": {},
   "outputs": [
    {
     "name": "stdout",
     "output_type": "stream",
     "text": [
      "Files are ready\n"
     ]
    }
   ],
   "source": [
    "# Load data\n",
    "file = \"LD2011_2014_clean.txt\"\n",
    "isExist = os.path.exists(file)\n",
    "if not isExist:\n",
    "    !wget https://archive.ics.uci.edu/ml/machine-learning-databases/00321/LD2011_2014.txt.zip\n",
    "    !unzip LD2011_2014.txt.zip\n",
    "    # change commas to dots\n",
    "    !sed 's/,/./g' LD2011_2014.txt > LD2011_2014_clean.txt\n",
    "else: \n",
    "    print(f\"Files are ready\")"
   ]
  },
  {
   "cell_type": "code",
   "execution_count": 4,
   "metadata": {},
   "outputs": [
    {
     "name": "stdout",
     "output_type": "stream",
     "text": [
      "/share/home/tung6100/phD/semester3/FedMSSA/FedSSA-mSSA\n"
     ]
    }
   ],
   "source": [
    "# Standardization data path\n",
    "%cd ../../"
   ]
  },
  {
   "cell_type": "code",
   "execution_count": 5,
   "metadata": {},
   "outputs": [],
   "source": [
    "# FedLSTM_Imputed_Elec370_num_user_10_L_80_dim_70_MP_0_W79_best"
   ]
  },
  {
   "cell_type": "code",
   "execution_count": 6,
   "metadata": {},
   "outputs": [
    {
     "data": {
      "text/plain": [
       "(10, 80, 11988)"
      ]
     },
     "execution_count": 6,
     "metadata": {},
     "output_type": "execute_result"
    }
   ],
   "source": [
    "'''Read data for each client'''\n",
    "DATA_TYPE = 1 # 1 is for hankel and 0 is for page\n",
    "datatype = \"hankel\" if DATA_TYPE else \"page\"\n",
    "n_users = 370\n",
    "missingVal = 40\n",
    "data_path = f\"results/imputed_data/mulTS/electricity_nusers_{n_users}_missing_{missingVal}\"\n",
    "\n",
    "M_ts = 324\n",
    "\n",
    "imputed_data = []\n",
    "\n",
    "for i in range(n_users):\n",
    "    file_name = f\"all_data_client_{i}.npy\"\n",
    "    file_path = os.path.join(data_path, file_name)\n",
    "    data_client_i = np.load(file_path)\n",
    "    imputed_data.append(data_client_i)\n",
    "\n",
    "imputed_data = np.array(imputed_data)\n",
    "imputed_data.shape"
   ]
  },
  {
   "cell_type": "code",
   "execution_count": 7,
   "metadata": {},
   "outputs": [
    {
     "data": {
      "text/plain": [
       "37"
      ]
     },
     "execution_count": 7,
     "metadata": {},
     "output_type": "execute_result"
    }
   ],
   "source": [
    "num_data_per_user = int(370/n_users)\n",
    "num_data_per_user"
   ]
  },
  {
   "cell_type": "code",
   "execution_count": 8,
   "metadata": {},
   "outputs": [
    {
     "data": {
      "text/plain": [
       "(370, 25920)"
      ]
     },
     "execution_count": 8,
     "metadata": {},
     "output_type": "execute_result"
    }
   ],
   "source": [
    "all_client_data = []\n",
    "for user in range(n_users):\n",
    "    data_client_i = imputed_data[user]\n",
    "    for n in range(num_data_per_user):\n",
    "        data_i = data_client_i[:, n*M_ts:(n+1)*M_ts]\n",
    "        data_i_flatten = data_i.flatten('F')\n",
    "        all_client_data.append(data_i_flatten)\n",
    "\n",
    "all_client_data = np.array(all_client_data)\n",
    "all_client_data.shape"
   ]
  },
  {
   "cell_type": "code",
   "execution_count": 9,
   "metadata": {},
   "outputs": [],
   "source": [
    "# '''Test retrieving data from the first client'''\n",
    "# client1_data = imputed_data[0, :, 324*2:324*(2+1)]\n",
    "# client1_flatten_data = client1_data.flatten('F')\n",
    "# client1_flatten_data.shape"
   ]
  },
  {
   "cell_type": "code",
   "execution_count": 10,
   "metadata": {},
   "outputs": [
    {
     "data": {
      "text/plain": [
       "[]"
      ]
     },
     "execution_count": 10,
     "metadata": {},
     "output_type": "execute_result"
    },
    {
     "data": {
      "image/png": "[encoded data removed]",
      "text/plain": [
       "<Figure size 432x288 with 1 Axes>"
      ]
     },
     "metadata": {
      "needs_background": "light"
     },
     "output_type": "display_data"
    }
   ],
   "source": [
    "client1_flatten_data = all_client_data[2]\n",
    "plt.plot(client1_flatten_data, label=\"imputed\")\n",
    "plt.legend()\n",
    "plt.plot()"
   ]
  },
  {
   "cell_type": "code",
   "execution_count": 11,
   "metadata": {},
   "outputs": [
    {
     "name": "stdout",
     "output_type": "stream",
     "text": [
      "Data loaded..\n",
      "Data aggregated by hour\n"
     ]
    },
    {
     "data": {
      "text/plain": [
       "(26304, 370)"
      ]
     },
     "execution_count": 11,
     "metadata": {},
     "output_type": "execute_result"
    }
   ],
   "source": [
    "# Jiayu4: solve mulTS prediction results\n",
    "\"\"\"Preprocess data\"\"\"\n",
    "data = pd.read_csv('results/SSA_analysis/LD2011_2014_clean.txt', delimiter = ';')\n",
    "#remove data before 2012\n",
    "data = data.iloc[8760*4:]\n",
    "print('Data loaded..')\n",
    "data_2 = data.copy()\n",
    "#pick the first 20 houses\n",
    "data_2 = data_2.iloc[:,:]\n",
    "# Aggregate\n",
    "data_2['time'] =pd.to_datetime(data_2['Unnamed: 0']).dt.ceil('1h') \n",
    "data_2 = data_2.drop(['Unnamed: 0'], axis = 1)\n",
    "agg_dict = {}\n",
    "for col in data_2.columns[:-1]:\n",
    "    agg_dict[col] ='mean'\n",
    "aggregated_data = data_2.groupby(['time']).agg(agg_dict)\n",
    "print('Data aggregated by hour')\n",
    "aggregated_data.shape"
   ]
  },
  {
   "cell_type": "code",
   "execution_count": 12,
   "metadata": {},
   "outputs": [],
   "source": [
    "from sklearn.preprocessing import StandardScaler, MinMaxScaler\n",
    "Std_normalization = 1\n",
    "if Std_normalization:\n",
    "    scaler = StandardScaler()\n",
    "    temp = scaler.fit_transform(aggregated_data)\n",
    "    norm_means = scaler.mean_\n",
    "    norm_std = scaler.scale_\n",
    "else:\n",
    "    scaler = MinMaxScaler()\n",
    "    temp = scaler.fit_transform(aggregated_data)\n",
    "global data_4\n",
    "normalized_data = pd.DataFrame(temp, index=aggregated_data.index, columns = aggregated_data.columns)"
   ]
  },
  {
   "cell_type": "code",
   "execution_count": 13,
   "metadata": {},
   "outputs": [],
   "source": [
    "def set_train_test():\n",
    "    data_train = normalized_data.iloc[:25968,:] #25600; 25968; 26082\n",
    "    data_test = normalized_data.iloc[25968:,:]\n",
    "    return data_train, data_test"
   ]
  },
  {
   "cell_type": "code",
   "execution_count": 14,
   "metadata": {},
   "outputs": [
    {
     "data": {
      "text/plain": [
       "((25968, 370), (336, 370))"
      ]
     },
     "execution_count": 14,
     "metadata": {},
     "output_type": "execute_result"
    }
   ],
   "source": [
    "data_train, data_test = set_train_test()\n",
    "data_train.shape, data_test.shape"
   ]
  },
  {
   "cell_type": "code",
   "execution_count": 15,
   "metadata": {},
   "outputs": [
    {
     "data": {
      "text/plain": [
       "(370, 25920)"
      ]
     },
     "execution_count": 15,
     "metadata": {},
     "output_type": "execute_result"
    }
   ],
   "source": [
    "data_train = data_train.iloc[25968%80:,:] # second range, note its not T%L+1 due to python index\n",
    "all_client_data = copy.deepcopy(data_train.values.T)\n",
    "\n",
    "all_client_data.shape"
   ]
  },
  {
   "cell_type": "code",
   "execution_count": 16,
   "metadata": {},
   "outputs": [],
   "source": [
    "def load_test_data():\n",
    "  results_path = f\"results/test_data/\"\n",
    "  file_name = f\"test_data_336steps.npy\"\n",
    "  file_path = os.path.join(results_path, file_name)\n",
    "  return_file = np.load(file_path)\n",
    "  return return_file"
   ]
  },
  {
   "cell_type": "code",
   "execution_count": 17,
   "metadata": {},
   "outputs": [],
   "source": [
    "from torch.utils.data import Dataset\n",
    "import torch\n",
    "# Create dataset\n",
    "class timeseries(Dataset):\n",
    "  def __init__(self, x, y):\n",
    "    self.x = torch.Tensor(x)\n",
    "    self.y = torch.Tensor(y)\n",
    "    self.len = x.shape[0]\n",
    "    # print(self.len)\n",
    "  def __getitem__(self, idx):\n",
    "    return self.x[idx], self.y[idx] \n",
    "  \n",
    "  def __len__(self):\n",
    "    return self.len"
   ]
  },
  {
   "cell_type": "code",
   "execution_count": 18,
   "metadata": {},
   "outputs": [
    {
     "data": {
      "text/plain": [
       "(370, 25920)"
      ]
     },
     "execution_count": 18,
     "metadata": {},
     "output_type": "execute_result"
    }
   ],
   "source": [
    "train_data = copy.deepcopy(all_client_data)\n",
    "train_data.shape"
   ]
  },
  {
   "cell_type": "code",
   "execution_count": 19,
   "metadata": {},
   "outputs": [
    {
     "data": {
      "text/plain": [
       "(370, 336)"
      ]
     },
     "execution_count": 19,
     "metadata": {},
     "output_type": "execute_result"
    }
   ],
   "source": [
    "test_data = load_test_data()\n",
    "test_data.shape"
   ]
  },
  {
   "cell_type": "code",
   "execution_count": 20,
   "metadata": {},
   "outputs": [],
   "source": [
    "# Define the test settings\n",
    "window = 40\n",
    "prediction_steps = 24\n",
    "num_TS = 370"
   ]
  },
  {
   "cell_type": "code",
   "execution_count": 21,
   "metadata": {},
   "outputs": [
    {
     "data": {
      "text/plain": [
       "((370, 40), (370, 24))"
      ]
     },
     "execution_count": 21,
     "metadata": {},
     "output_type": "execute_result"
    }
   ],
   "source": [
    "# Get the last window of train data\n",
    "last_window = train_data[:, -window:]\n",
    "\n",
    "# Get actual data for prediction steps\n",
    "# actual_steps = test_data[:, -prediction_steps:]\n",
    "actual_steps = test_data[:, :prediction_steps] # Jiayu4: solve mulTS prediction results\n",
    "\n",
    "last_window.shape, actual_steps.shape"
   ]
  },
  {
   "cell_type": "code",
   "execution_count": 22,
   "metadata": {},
   "outputs": [],
   "source": [
    "def create_np_data(user_test_data, prediction_steps=24):\n",
    "    x_test = []\n",
    "    y_test = []\n",
    "\n",
    "    for i in range(prediction_steps):\n",
    "        x_test.append(user_test_data[i:i+window])\n",
    "        y_test.append(user_test_data[i+window])\n",
    "    x_test = np.array(x_test)\n",
    "    y_test = np.array(y_test)\n",
    "    return x_test, y_test"
   ]
  },
  {
   "cell_type": "code",
   "execution_count": 23,
   "metadata": {},
   "outputs": [],
   "source": [
    "def load_model(model_name):\n",
    "    model_path = os.path.join(\"models\", \"mulTS\", \"Imputed_Elec370\", model_name + \".pt\")\n",
    "    model = torch.load(model_path)\n",
    "    return model"
   ]
  },
  {
   "cell_type": "code",
   "execution_count": 24,
   "metadata": {},
   "outputs": [
    {
     "name": "stdout",
     "output_type": "stream",
     "text": [
      "/share/home/tung6100/phD/semester3/FedMSSA/FedSSA-mSSA\n"
     ]
    }
   ],
   "source": [
    "!pwd"
   ]
  },
  {
   "cell_type": "code",
   "execution_count": 25,
   "metadata": {},
   "outputs": [
    {
     "data": {
      "text/plain": [
       "LSTM_nn(\n",
       "  (lstm): LSTM(1, 5, num_layers=3, batch_first=True)\n",
       "  (fc1): Linear(in_features=5, out_features=1, bias=True)\n",
       ")"
      ]
     },
     "execution_count": 25,
     "metadata": {},
     "output_type": "execute_result"
    }
   ],
   "source": [
    "model_name = f\"FedLSTM_Imputed_Elec370_num_user_{n_users}_L_80_dim_40_MP_{missingVal}_W40_{datatype}\"\n",
    "# model_name = f\"FedLSTM_Imputed_Elec370_num_user_{n_users}_L_80_dim_40_MP_{missingVal}_W79\"\n",
    "\n",
    "# model_name = \"FedLSTM_Imputed_Elec370_num_user_37_L_80_dim_40_MP_20_W40\"\n",
    "model = load_model(model_name)\n",
    "model"
   ]
  },
  {
   "cell_type": "code",
   "execution_count": 26,
   "metadata": {},
   "outputs": [
    {
     "data": {
      "text/plain": [
       "device(type='cuda')"
      ]
     },
     "execution_count": 26,
     "metadata": {},
     "output_type": "execute_result"
    }
   ],
   "source": [
    "device = torch.device('cuda' if torch.cuda.is_available() else 'cpu')\n",
    "device"
   ]
  },
  {
   "attachments": {},
   "cell_type": "markdown",
   "metadata": {},
   "source": [
    "# Config to get the performance:\n",
    "- missing 0: python3 main.py --dataset Imputed_Elec370 --algorithm FedLSTM --batch_size 64 --learning_rate 0.001 --fac 0.2 --num_global_iters 20 --local_epochs 1 --num_users 10 --mulTS 1 --missingVal 0 --datatype hankel\n"
   ]
  },
  {
   "cell_type": "code",
   "execution_count": 27,
   "metadata": {},
   "outputs": [
    {
     "name": "stderr",
     "output_type": "stream",
     "text": [
      "/home/tung6100/.local/lib/python3.8/site-packages/torch/nn/modules/rnn.py:761: UserWarning: RNN module weights are not part of single contiguous chunk of memory. This means they need to be compacted at every call, possibly greatly increasing memory usage. To compact weights again call flatten_parameters(). (Triggered internally at  ../aten/src/ATen/native/cudnn/RNN.cpp:926.)\n",
      "  result = _VF.lstm(input, hx, self._flat_weights, self.bias, self.num_layers,\n"
     ]
    },
    {
     "name": "stdout",
     "output_type": "stream",
     "text": [
      "RMSE FedMSSA + LSTM: 0.24857673048973083\n"
     ]
    }
   ],
   "source": [
    "diff_list = []\n",
    "y_pred = []\n",
    "y_true = []\n",
    "for user_id in range(num_TS):\n",
    "    # print(f\"----------Client {user_id}----------\")\n",
    "    user_last_window = last_window[user_id]\n",
    "    user_actual_steps = actual_steps[user_id]\n",
    "    user_test_data = np.concatenate((user_last_window, user_actual_steps), axis=None)\n",
    "    # print(f\"{user_last_window.shape}, {user_actual_steps.shape}, {user_test_data.shape}\")\n",
    "\n",
    "    \"\"\"Create input data for data model\"\"\"\n",
    "    # Create np data\n",
    "    x_test, y_test = create_np_data(user_test_data=user_test_data, prediction_steps=prediction_steps)\n",
    "    # Cretate dataset\n",
    "    test_set = timeseries(x_test, y_test)\n",
    "    # Prediction\n",
    "    input = test_set[:][0].view(-1,window,1)\n",
    "    actual = test_set[:][1].view(-1)\n",
    "    input = input.to(device)\n",
    "    test_pred = model(input).view(-1)\n",
    "    predictions_24 = test_pred.cpu().detach().numpy()\n",
    "    actual = actual.numpy()\n",
    "    diff = predictions_24 - actual\n",
    "    diff_list.append(diff)\n",
    "    # plt.plot(predictions_24, label='predicted')\n",
    "    # plt.plot(actual, label='original')\n",
    "    # plt.legend()\n",
    "    # plt.plot()\n",
    "    # plt.show()\n",
    "    # break\n",
    "    y_pred.append(predictions_24)\n",
    "    y_true.append(actual)\n",
    "diff_np = np.array(diff_list)\n",
    "rmse = np.sqrt(np.mean(np.square(diff_np)))\n",
    "print(f\"RMSE FedMSSA + LSTM: {rmse}\")"
   ]
  },
  {
   "cell_type": "code",
   "execution_count": 28,
   "metadata": {},
   "outputs": [
    {
     "data": {
      "text/plain": [
       "((370, 24), (370, 24))"
      ]
     },
     "execution_count": 28,
     "metadata": {},
     "output_type": "execute_result"
    }
   ],
   "source": [
    "y_pred_np = np.array(y_pred)\n",
    "y_true_np = np.array(y_true)\n",
    "\n",
    "y_pred_np.shape, y_true_np.shape"
   ]
  },
  {
   "cell_type": "code",
   "execution_count": 29,
   "metadata": {},
   "outputs": [],
   "source": [
    "from sklearn.metrics import mean_absolute_error as mae\n",
    "from sklearn.metrics import mean_squared_error as mse\n",
    "def evaluate_Testset(y_true, y_pred):\n",
    "    def mape(y_true, y_pred): \n",
    "      return np.mean(np.abs((y_true - y_pred) / y_true)) * 100\n",
    "    MSE = mse(y_true, y_pred)\n",
    "    RMSE = np.sqrt(MSE)\n",
    "    MAE = mae(y_true, y_pred)\n",
    "    MAPE = mape(y_true, y_pred)\n",
    "    return MSE, RMSE, MAE, MAPE\n",
    "\n",
    "# Function to estimate accuracy for one user\n",
    "def accuracy_Testset(y_true, y_pred):\n",
    "  diff_pred = list()\n",
    "  diff_true = list()\n",
    "  accuracy = 0.\n",
    "  for i in range(len(y_true)-1):\n",
    "      diff_pred.append(y_pred[i+1]-y_pred[i])\n",
    "      diff_true.append(y_true[i+1]-y_true[i])\n",
    "  count = sum(diff_pred[i] * diff_true[i] > 0 for i in range(len(diff_pred)))\n",
    "  accuracy = count/len(diff_pred) * 100\n",
    "  return accuracy\n",
    "\n",
    "# Function to estimate average accuracy for multiple users\n",
    "def average_acc(y_true, y_pred):\n",
    "    n_users = y_true.shape[0]\n",
    "    acc_list = []\n",
    "    for i in range(n_users):\n",
    "        y_true_i = y_true[i]\n",
    "        y_pred_i = y_pred[i]\n",
    "        acc = accuracy_Testset(y_true_i, y_pred_i)\n",
    "        acc_list.append(acc)\n",
    "    acc_np = np.array(acc_list)\n",
    "    # print(acc_np)\n",
    "    avg_acc = np.mean(acc_np)\n",
    "    return avg_acc"
   ]
  },
  {
   "cell_type": "code",
   "execution_count": 30,
   "metadata": {},
   "outputs": [
    {
     "name": "stdout",
     "output_type": "stream",
     "text": [
      "MSE: 0.06179039552807808, RMSE: 0.24857674539089203, MAE: 0.15825210511684418, MAPE: 88.90265226364136\n",
      "Avg_Acc: 65.82843713278496\n"
     ]
    }
   ],
   "source": [
    "MSE, RMSE, MAE, MAPE = evaluate_Testset(y_true_np, y_pred_np)\n",
    "avg_acc = average_acc(y_true_np, y_pred_np)\n",
    "print(f\"MSE: {MSE}, RMSE: {RMSE}, MAE: {MAE}, MAPE: {MAPE}\")\n",
    "print(f\"Avg_Acc: {avg_acc}\")"
   ]
  }
 ],
 "metadata": {
  "kernelspec": {
   "display_name": "Python 3",
   "language": "python",
   "name": "python3"
  },
  "language_info": {
   "codemirror_mode": {
    "name": "ipython",
    "version": 3
   },
   "file_extension": ".py",
   "mimetype": "text/x-python",
   "name": "python",
   "nbconvert_exporter": "python",
   "pygments_lexer": "ipython3",
   "version": "3.8.10"
  },
  "orig_nbformat": 4,
  "vscode": {
   "interpreter": {
    "hash": "31f2aee4e71d21fbe5cf8b01ff0e069b9275f58929596ceb00d14d90e3e16cd6"
   }
  }
 },
 "nbformat": 4,
 "nbformat_minor": 2
}
