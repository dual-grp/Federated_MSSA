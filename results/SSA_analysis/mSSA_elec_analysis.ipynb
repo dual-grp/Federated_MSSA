{
 "cells": [
  {
   "cell_type": "code",
   "execution_count": 1,
   "metadata": {},
   "outputs": [],
   "source": [
    "from mssa.mssa import mSSA\n",
    "import pandas as pd \n",
    "import matplotlib.pyplot as plt \n",
    "import io\n",
    "import numpy as np \n",
    "import torch \n",
    "import copy \n",
    "from sklearn.metrics import r2_score\n",
    "import os "
   ]
  },
  {
   "cell_type": "code",
   "execution_count": 2,
   "metadata": {},
   "outputs": [
    {
     "name": "stdout",
     "output_type": "stream",
     "text": [
      "Files are ready\n"
     ]
    }
   ],
   "source": [
    "file = \"LD2011_2014_clean.txt\"\n",
    "isExist = os.path.exists(file)\n",
    "if not isExist:\n",
    "    !wget https://archive.ics.uci.edu/ml/machine-learning-databases/00321/LD2011_2014.txt.zip\n",
    "    !unzip LD2011_2014.txt.zip\n",
    "    # change commas to dots\n",
    "    !sed 's/,/./g' LD2011_2014.txt > LD2011_2014_clean.txt\n",
    "else: \n",
    "    print(f\"Files are ready\")"
   ]
  },
  {
   "cell_type": "markdown",
   "metadata": {},
   "source": [
    "Let's now load and preprocess the data. Specifically we will:\n",
    "\n",
    "1- Pick the first 20 houses `MT-001`to `MT-020`\n",
    "\n",
    "\n",
    "2- Remove the data before 2011, since most of its readings are zeros\n",
    "\n",
    "3- Aggregate the data into hourly readings by avergaing the 15-minutes readings."
   ]
  },
  {
   "cell_type": "code",
   "execution_count": 3,
   "metadata": {},
   "outputs": [
    {
     "name": "stdout",
     "output_type": "stream",
     "text": [
      "data loaded..\n",
      "data aggregated..\n"
     ]
    },
    {
     "data": {
      "text/plain": [
       "(26304, 370)"
      ]
     },
     "execution_count": 3,
     "metadata": {},
     "output_type": "execute_result"
    }
   ],
   "source": [
    "\"\"\"Preprocess data\"\"\"\n",
    "data = pd.read_csv('LD2011_2014_clean.txt', delimiter = ';')\n",
    "#remove data before 2012\n",
    "data = data.iloc[8760*4:]\n",
    "print('data loaded..')\n",
    "data_2 = data.copy()\n",
    "#pick the first 20 houses\n",
    "data_2 = data_2.iloc[:,:]\n",
    "# Aggregate\n",
    "data_2['time'] =pd.to_datetime(data_2['Unnamed: 0']).dt.ceil('1h') \n",
    "data_2 = data_2.drop(['Unnamed: 0'], axis = 1)\n",
    "agg_dict = {}\n",
    "for col in data_2.columns[:-1]:\n",
    "    agg_dict[col] ='mean'\n",
    "data_3 = data_2.groupby(['time']).agg(agg_dict)\n",
    "print('data aggregated..')\n",
    "data_3.shape"
   ]
  },
  {
   "cell_type": "code",
   "execution_count": 4,
   "metadata": {},
   "outputs": [
    {
     "data": {
      "text/html": [
       "<div>\n",
       "<style scoped>\n",
       "    .dataframe tbody tr th:only-of-type {\n",
       "        vertical-align: middle;\n",
       "    }\n",
       "\n",
       "    .dataframe tbody tr th {\n",
       "        vertical-align: top;\n",
       "    }\n",
       "\n",
       "    .dataframe thead th {\n",
       "        text-align: right;\n",
       "    }\n",
       "</style>\n",
       "<table border=\"1\" class=\"dataframe\">\n",
       "  <thead>\n",
       "    <tr style=\"text-align: right;\">\n",
       "      <th></th>\n",
       "      <th>MT_001</th>\n",
       "      <th>MT_002</th>\n",
       "      <th>MT_003</th>\n",
       "      <th>MT_004</th>\n",
       "      <th>MT_005</th>\n",
       "      <th>MT_006</th>\n",
       "      <th>MT_007</th>\n",
       "      <th>MT_008</th>\n",
       "      <th>MT_009</th>\n",
       "      <th>MT_010</th>\n",
       "      <th>...</th>\n",
       "      <th>MT_361</th>\n",
       "      <th>MT_362</th>\n",
       "      <th>MT_363</th>\n",
       "      <th>MT_364</th>\n",
       "      <th>MT_365</th>\n",
       "      <th>MT_366</th>\n",
       "      <th>MT_367</th>\n",
       "      <th>MT_368</th>\n",
       "      <th>MT_369</th>\n",
       "      <th>MT_370</th>\n",
       "    </tr>\n",
       "    <tr>\n",
       "      <th>time</th>\n",
       "      <th></th>\n",
       "      <th></th>\n",
       "      <th></th>\n",
       "      <th></th>\n",
       "      <th></th>\n",
       "      <th></th>\n",
       "      <th></th>\n",
       "      <th></th>\n",
       "      <th></th>\n",
       "      <th></th>\n",
       "      <th></th>\n",
       "      <th></th>\n",
       "      <th></th>\n",
       "      <th></th>\n",
       "      <th></th>\n",
       "      <th></th>\n",
       "      <th></th>\n",
       "      <th></th>\n",
       "      <th></th>\n",
       "      <th></th>\n",
       "      <th></th>\n",
       "    </tr>\n",
       "  </thead>\n",
       "  <tbody>\n",
       "    <tr>\n",
       "      <th>2012-01-01 01:00:00</th>\n",
       "      <td>4.124365</td>\n",
       "      <td>22.759602</td>\n",
       "      <td>77.324066</td>\n",
       "      <td>138.211382</td>\n",
       "      <td>72.256098</td>\n",
       "      <td>348.214286</td>\n",
       "      <td>8.620690</td>\n",
       "      <td>279.461279</td>\n",
       "      <td>72.989510</td>\n",
       "      <td>87.903226</td>\n",
       "      <td>...</td>\n",
       "      <td>120.628123</td>\n",
       "      <td>25975.0</td>\n",
       "      <td>1510.548523</td>\n",
       "      <td>1659.090909</td>\n",
       "      <td>15.645372</td>\n",
       "      <td>12.873025</td>\n",
       "      <td>524.143986</td>\n",
       "      <td>60.934891</td>\n",
       "      <td>713.526393</td>\n",
       "      <td>0.0</td>\n",
       "    </tr>\n",
       "    <tr>\n",
       "      <th>2012-01-01 02:00:00</th>\n",
       "      <td>4.758883</td>\n",
       "      <td>23.115220</td>\n",
       "      <td>77.324066</td>\n",
       "      <td>137.195122</td>\n",
       "      <td>70.121951</td>\n",
       "      <td>339.285714</td>\n",
       "      <td>6.924816</td>\n",
       "      <td>276.094276</td>\n",
       "      <td>67.307692</td>\n",
       "      <td>82.258065</td>\n",
       "      <td>...</td>\n",
       "      <td>112.776588</td>\n",
       "      <td>23875.0</td>\n",
       "      <td>1097.046414</td>\n",
       "      <td>1653.409091</td>\n",
       "      <td>15.971317</td>\n",
       "      <td>10.532475</td>\n",
       "      <td>550.043898</td>\n",
       "      <td>61.352254</td>\n",
       "      <td>705.828446</td>\n",
       "      <td>0.0</td>\n",
       "    </tr>\n",
       "    <tr>\n",
       "      <th>2012-01-01 03:00:00</th>\n",
       "      <td>4.124365</td>\n",
       "      <td>22.937411</td>\n",
       "      <td>77.324066</td>\n",
       "      <td>136.686992</td>\n",
       "      <td>66.463415</td>\n",
       "      <td>286.458333</td>\n",
       "      <td>6.642171</td>\n",
       "      <td>239.898990</td>\n",
       "      <td>63.811189</td>\n",
       "      <td>72.043011</td>\n",
       "      <td>...</td>\n",
       "      <td>102.605282</td>\n",
       "      <td>24150.0</td>\n",
       "      <td>1069.620253</td>\n",
       "      <td>1642.045455</td>\n",
       "      <td>15.971317</td>\n",
       "      <td>9.654769</td>\n",
       "      <td>499.122037</td>\n",
       "      <td>50.918197</td>\n",
       "      <td>689.149560</td>\n",
       "      <td>0.0</td>\n",
       "    </tr>\n",
       "    <tr>\n",
       "      <th>2012-01-01 04:00:00</th>\n",
       "      <td>4.758883</td>\n",
       "      <td>22.048364</td>\n",
       "      <td>77.324066</td>\n",
       "      <td>102.134146</td>\n",
       "      <td>50.304878</td>\n",
       "      <td>191.964286</td>\n",
       "      <td>4.804975</td>\n",
       "      <td>200.336700</td>\n",
       "      <td>41.520979</td>\n",
       "      <td>46.236559</td>\n",
       "      <td>...</td>\n",
       "      <td>64.953605</td>\n",
       "      <td>23350.0</td>\n",
       "      <td>1042.194093</td>\n",
       "      <td>1579.545455</td>\n",
       "      <td>18.252934</td>\n",
       "      <td>9.654769</td>\n",
       "      <td>330.114135</td>\n",
       "      <td>47.161937</td>\n",
       "      <td>681.085044</td>\n",
       "      <td>0.0</td>\n",
       "    </tr>\n",
       "    <tr>\n",
       "      <th>2012-01-01 05:00:00</th>\n",
       "      <td>4.441624</td>\n",
       "      <td>21.870555</td>\n",
       "      <td>77.324066</td>\n",
       "      <td>81.808943</td>\n",
       "      <td>45.121951</td>\n",
       "      <td>155.505952</td>\n",
       "      <td>3.533070</td>\n",
       "      <td>180.134680</td>\n",
       "      <td>45.891608</td>\n",
       "      <td>42.473118</td>\n",
       "      <td>...</td>\n",
       "      <td>73.875803</td>\n",
       "      <td>22575.0</td>\n",
       "      <td>1032.700422</td>\n",
       "      <td>1568.181818</td>\n",
       "      <td>15.645372</td>\n",
       "      <td>8.777063</td>\n",
       "      <td>328.577700</td>\n",
       "      <td>47.579299</td>\n",
       "      <td>685.300587</td>\n",
       "      <td>0.0</td>\n",
       "    </tr>\n",
       "  </tbody>\n",
       "</table>\n",
       "<p>5 rows × 370 columns</p>\n",
       "</div>"
      ],
      "text/plain": [
       "                       MT_001     MT_002     MT_003      MT_004     MT_005  \\\n",
       "time                                                                         \n",
       "2012-01-01 01:00:00  4.124365  22.759602  77.324066  138.211382  72.256098   \n",
       "2012-01-01 02:00:00  4.758883  23.115220  77.324066  137.195122  70.121951   \n",
       "2012-01-01 03:00:00  4.124365  22.937411  77.324066  136.686992  66.463415   \n",
       "2012-01-01 04:00:00  4.758883  22.048364  77.324066  102.134146  50.304878   \n",
       "2012-01-01 05:00:00  4.441624  21.870555  77.324066   81.808943  45.121951   \n",
       "\n",
       "                         MT_006    MT_007      MT_008     MT_009     MT_010  \\\n",
       "time                                                                          \n",
       "2012-01-01 01:00:00  348.214286  8.620690  279.461279  72.989510  87.903226   \n",
       "2012-01-01 02:00:00  339.285714  6.924816  276.094276  67.307692  82.258065   \n",
       "2012-01-01 03:00:00  286.458333  6.642171  239.898990  63.811189  72.043011   \n",
       "2012-01-01 04:00:00  191.964286  4.804975  200.336700  41.520979  46.236559   \n",
       "2012-01-01 05:00:00  155.505952  3.533070  180.134680  45.891608  42.473118   \n",
       "\n",
       "                     ...      MT_361   MT_362       MT_363       MT_364  \\\n",
       "time                 ...                                                  \n",
       "2012-01-01 01:00:00  ...  120.628123  25975.0  1510.548523  1659.090909   \n",
       "2012-01-01 02:00:00  ...  112.776588  23875.0  1097.046414  1653.409091   \n",
       "2012-01-01 03:00:00  ...  102.605282  24150.0  1069.620253  1642.045455   \n",
       "2012-01-01 04:00:00  ...   64.953605  23350.0  1042.194093  1579.545455   \n",
       "2012-01-01 05:00:00  ...   73.875803  22575.0  1032.700422  1568.181818   \n",
       "\n",
       "                        MT_365     MT_366      MT_367     MT_368      MT_369  \\\n",
       "time                                                                           \n",
       "2012-01-01 01:00:00  15.645372  12.873025  524.143986  60.934891  713.526393   \n",
       "2012-01-01 02:00:00  15.971317  10.532475  550.043898  61.352254  705.828446   \n",
       "2012-01-01 03:00:00  15.971317   9.654769  499.122037  50.918197  689.149560   \n",
       "2012-01-01 04:00:00  18.252934   9.654769  330.114135  47.161937  681.085044   \n",
       "2012-01-01 05:00:00  15.645372   8.777063  328.577700  47.579299  685.300587   \n",
       "\n",
       "                     MT_370  \n",
       "time                         \n",
       "2012-01-01 01:00:00     0.0  \n",
       "2012-01-01 02:00:00     0.0  \n",
       "2012-01-01 03:00:00     0.0  \n",
       "2012-01-01 04:00:00     0.0  \n",
       "2012-01-01 05:00:00     0.0  \n",
       "\n",
       "[5 rows x 370 columns]"
      ]
     },
     "execution_count": 4,
     "metadata": {},
     "output_type": "execute_result"
    }
   ],
   "source": [
    "data_3.head()"
   ]
  },
  {
   "cell_type": "code",
   "execution_count": 5,
   "metadata": {},
   "outputs": [],
   "source": [
    "from sklearn.preprocessing import StandardScaler, MinMaxScaler\n",
    "Std_normalization = 1\n",
    "if Std_normalization:\n",
    "    scaler = StandardScaler()\n",
    "    temp = scaler.fit_transform(data_3)\n",
    "    norm_means = scaler.mean_\n",
    "    norm_std = scaler.scale_\n",
    "else:\n",
    "    scaler = MinMaxScaler()\n",
    "    temp = scaler.fit_transform(data_3)\n",
    "global data_4\n",
    "data_4 = pd.DataFrame(temp, index=data_3.index, columns = data_3.columns)"
   ]
  },
  {
   "cell_type": "code",
   "execution_count": 6,
   "metadata": {},
   "outputs": [
    {
     "data": {
      "text/html": [
       "<div>\n",
       "<style scoped>\n",
       "    .dataframe tbody tr th:only-of-type {\n",
       "        vertical-align: middle;\n",
       "    }\n",
       "\n",
       "    .dataframe tbody tr th {\n",
       "        vertical-align: top;\n",
       "    }\n",
       "\n",
       "    .dataframe thead th {\n",
       "        text-align: right;\n",
       "    }\n",
       "</style>\n",
       "<table border=\"1\" class=\"dataframe\">\n",
       "  <thead>\n",
       "    <tr style=\"text-align: right;\">\n",
       "      <th></th>\n",
       "      <th>MT_001</th>\n",
       "      <th>MT_002</th>\n",
       "      <th>MT_003</th>\n",
       "      <th>MT_004</th>\n",
       "      <th>MT_005</th>\n",
       "      <th>MT_006</th>\n",
       "      <th>MT_007</th>\n",
       "      <th>MT_008</th>\n",
       "      <th>MT_009</th>\n",
       "      <th>MT_010</th>\n",
       "      <th>...</th>\n",
       "      <th>MT_361</th>\n",
       "      <th>MT_362</th>\n",
       "      <th>MT_363</th>\n",
       "      <th>MT_364</th>\n",
       "      <th>MT_365</th>\n",
       "      <th>MT_366</th>\n",
       "      <th>MT_367</th>\n",
       "      <th>MT_368</th>\n",
       "      <th>MT_369</th>\n",
       "      <th>MT_370</th>\n",
       "    </tr>\n",
       "    <tr>\n",
       "      <th>time</th>\n",
       "      <th></th>\n",
       "      <th></th>\n",
       "      <th></th>\n",
       "      <th></th>\n",
       "      <th></th>\n",
       "      <th></th>\n",
       "      <th></th>\n",
       "      <th></th>\n",
       "      <th></th>\n",
       "      <th></th>\n",
       "      <th></th>\n",
       "      <th></th>\n",
       "      <th></th>\n",
       "      <th></th>\n",
       "      <th></th>\n",
       "      <th></th>\n",
       "      <th></th>\n",
       "      <th></th>\n",
       "      <th></th>\n",
       "      <th></th>\n",
       "      <th></th>\n",
       "    </tr>\n",
       "  </thead>\n",
       "  <tbody>\n",
       "    <tr>\n",
       "      <th>2012-01-01 01:00:00</th>\n",
       "      <td>-0.193637</td>\n",
       "      <td>-0.767048</td>\n",
       "      <td>5.979015</td>\n",
       "      <td>0.750556</td>\n",
       "      <td>1.297119</td>\n",
       "      <td>2.562526</td>\n",
       "      <td>0.380006</td>\n",
       "      <td>0.420689</td>\n",
       "      <td>0.936652</td>\n",
       "      <td>1.237010</td>\n",
       "      <td>...</td>\n",
       "      <td>-0.925467</td>\n",
       "      <td>-0.660711</td>\n",
       "      <td>-0.611351</td>\n",
       "      <td>-0.924599</td>\n",
       "      <td>-1.182866</td>\n",
       "      <td>0.055241</td>\n",
       "      <td>-0.298429</td>\n",
       "      <td>-0.970811</td>\n",
       "      <td>-0.867907</td>\n",
       "      <td>-1.312616</td>\n",
       "    </tr>\n",
       "    <tr>\n",
       "      <th>2012-01-01 02:00:00</th>\n",
       "      <td>-0.088516</td>\n",
       "      <td>-0.711666</td>\n",
       "      <td>5.979015</td>\n",
       "      <td>0.723940</td>\n",
       "      <td>1.174705</td>\n",
       "      <td>2.419487</td>\n",
       "      <td>0.131533</td>\n",
       "      <td>0.362440</td>\n",
       "      <td>0.666522</td>\n",
       "      <td>1.016322</td>\n",
       "      <td>...</td>\n",
       "      <td>-0.968145</td>\n",
       "      <td>-0.718147</td>\n",
       "      <td>-0.862776</td>\n",
       "      <td>-0.926923</td>\n",
       "      <td>-1.177477</td>\n",
       "      <td>-0.195217</td>\n",
       "      <td>-0.111780</td>\n",
       "      <td>-0.964607</td>\n",
       "      <td>-0.923605</td>\n",
       "      <td>-1.312616</td>\n",
       "    </tr>\n",
       "    <tr>\n",
       "      <th>2012-01-01 03:00:00</th>\n",
       "      <td>-0.193637</td>\n",
       "      <td>-0.739357</td>\n",
       "      <td>5.979015</td>\n",
       "      <td>0.710631</td>\n",
       "      <td>0.964851</td>\n",
       "      <td>1.573172</td>\n",
       "      <td>0.090121</td>\n",
       "      <td>-0.263732</td>\n",
       "      <td>0.500288</td>\n",
       "      <td>0.616982</td>\n",
       "      <td>...</td>\n",
       "      <td>-1.023433</td>\n",
       "      <td>-0.710625</td>\n",
       "      <td>-0.879452</td>\n",
       "      <td>-0.931572</td>\n",
       "      <td>-1.177477</td>\n",
       "      <td>-0.289139</td>\n",
       "      <td>-0.478750</td>\n",
       "      <td>-1.119708</td>\n",
       "      <td>-1.044284</td>\n",
       "      <td>-1.312616</td>\n",
       "    </tr>\n",
       "    <tr>\n",
       "      <th>2012-01-01 04:00:00</th>\n",
       "      <td>-0.088516</td>\n",
       "      <td>-0.877811</td>\n",
       "      <td>5.979015</td>\n",
       "      <td>-0.194342</td>\n",
       "      <td>0.037999</td>\n",
       "      <td>0.059340</td>\n",
       "      <td>-0.179057</td>\n",
       "      <td>-0.948152</td>\n",
       "      <td>-0.559453</td>\n",
       "      <td>-0.391876</td>\n",
       "      <td>...</td>\n",
       "      <td>-1.228097</td>\n",
       "      <td>-0.732505</td>\n",
       "      <td>-0.896128</td>\n",
       "      <td>-0.957141</td>\n",
       "      <td>-1.139759</td>\n",
       "      <td>-0.289139</td>\n",
       "      <td>-1.696712</td>\n",
       "      <td>-1.175544</td>\n",
       "      <td>-1.102634</td>\n",
       "      <td>-1.312616</td>\n",
       "    </tr>\n",
       "    <tr>\n",
       "      <th>2012-01-01 05:00:00</th>\n",
       "      <td>-0.141076</td>\n",
       "      <td>-0.905502</td>\n",
       "      <td>5.979015</td>\n",
       "      <td>-0.726679</td>\n",
       "      <td>-0.259294</td>\n",
       "      <td>-0.524736</td>\n",
       "      <td>-0.365412</td>\n",
       "      <td>-1.297643</td>\n",
       "      <td>-0.351661</td>\n",
       "      <td>-0.539002</td>\n",
       "      <td>...</td>\n",
       "      <td>-1.179598</td>\n",
       "      <td>-0.753702</td>\n",
       "      <td>-0.901901</td>\n",
       "      <td>-0.961790</td>\n",
       "      <td>-1.182866</td>\n",
       "      <td>-0.383061</td>\n",
       "      <td>-1.707784</td>\n",
       "      <td>-1.169340</td>\n",
       "      <td>-1.072133</td>\n",
       "      <td>-1.312616</td>\n",
       "    </tr>\n",
       "  </tbody>\n",
       "</table>\n",
       "<p>5 rows × 370 columns</p>\n",
       "</div>"
      ],
      "text/plain": [
       "                       MT_001    MT_002    MT_003    MT_004    MT_005  \\\n",
       "time                                                                    \n",
       "2012-01-01 01:00:00 -0.193637 -0.767048  5.979015  0.750556  1.297119   \n",
       "2012-01-01 02:00:00 -0.088516 -0.711666  5.979015  0.723940  1.174705   \n",
       "2012-01-01 03:00:00 -0.193637 -0.739357  5.979015  0.710631  0.964851   \n",
       "2012-01-01 04:00:00 -0.088516 -0.877811  5.979015 -0.194342  0.037999   \n",
       "2012-01-01 05:00:00 -0.141076 -0.905502  5.979015 -0.726679 -0.259294   \n",
       "\n",
       "                       MT_006    MT_007    MT_008    MT_009    MT_010  ...  \\\n",
       "time                                                                   ...   \n",
       "2012-01-01 01:00:00  2.562526  0.380006  0.420689  0.936652  1.237010  ...   \n",
       "2012-01-01 02:00:00  2.419487  0.131533  0.362440  0.666522  1.016322  ...   \n",
       "2012-01-01 03:00:00  1.573172  0.090121 -0.263732  0.500288  0.616982  ...   \n",
       "2012-01-01 04:00:00  0.059340 -0.179057 -0.948152 -0.559453 -0.391876  ...   \n",
       "2012-01-01 05:00:00 -0.524736 -0.365412 -1.297643 -0.351661 -0.539002  ...   \n",
       "\n",
       "                       MT_361    MT_362    MT_363    MT_364    MT_365  \\\n",
       "time                                                                    \n",
       "2012-01-01 01:00:00 -0.925467 -0.660711 -0.611351 -0.924599 -1.182866   \n",
       "2012-01-01 02:00:00 -0.968145 -0.718147 -0.862776 -0.926923 -1.177477   \n",
       "2012-01-01 03:00:00 -1.023433 -0.710625 -0.879452 -0.931572 -1.177477   \n",
       "2012-01-01 04:00:00 -1.228097 -0.732505 -0.896128 -0.957141 -1.139759   \n",
       "2012-01-01 05:00:00 -1.179598 -0.753702 -0.901901 -0.961790 -1.182866   \n",
       "\n",
       "                       MT_366    MT_367    MT_368    MT_369    MT_370  \n",
       "time                                                                   \n",
       "2012-01-01 01:00:00  0.055241 -0.298429 -0.970811 -0.867907 -1.312616  \n",
       "2012-01-01 02:00:00 -0.195217 -0.111780 -0.964607 -0.923605 -1.312616  \n",
       "2012-01-01 03:00:00 -0.289139 -0.478750 -1.119708 -1.044284 -1.312616  \n",
       "2012-01-01 04:00:00 -0.289139 -1.696712 -1.175544 -1.102634 -1.312616  \n",
       "2012-01-01 05:00:00 -0.383061 -1.707784 -1.169340 -1.072133 -1.312616  \n",
       "\n",
       "[5 rows x 370 columns]"
      ]
     },
     "execution_count": 6,
     "metadata": {},
     "output_type": "execute_result"
    }
   ],
   "source": [
    "data_4.head()"
   ]
  },
  {
   "cell_type": "code",
   "execution_count": 7,
   "metadata": {},
   "outputs": [
    {
     "data": {
      "text/plain": [
       "(26304, 370)"
      ]
     },
     "execution_count": 7,
     "metadata": {},
     "output_type": "execute_result"
    }
   ],
   "source": [
    "data_4.shape"
   ]
  },
  {
   "cell_type": "markdown",
   "metadata": {},
   "source": [
    "Now each column of the dataframe `data` contains hourly reading starting from `2012-01-01 01:00` until `2015-01-01 01:00`. In this experiment, as mentioned before, we will split the observations into a training and testing sets. Specifically, the training set will start at  `2012-01-01 01:00` until `2014-12-18 00:00`. and the test set will have the rest of the observations.\n",
    "\n",
    "\n",
    "\n",
    "\n",
    "Splitting the data into training and testing sets:"
   ]
  },
  {
   "cell_type": "code",
   "execution_count": 8,
   "metadata": {},
   "outputs": [],
   "source": [
    "global n_clients; global data_train; global data_test\n",
    "def set_train_test(n_clients=20):\n",
    "    data_train = data_4.iloc[:25968,:n_clients] #25600; 25968; 26082\n",
    "    data_test = data_4.iloc[25968:,:n_clients]\n",
    "    return data_train, data_test"
   ]
  },
  {
   "cell_type": "code",
   "execution_count": 9,
   "metadata": {},
   "outputs": [
    {
     "data": {
      "text/plain": [
       "(25968, 370)"
      ]
     },
     "execution_count": 9,
     "metadata": {},
     "output_type": "execute_result"
    }
   ],
   "source": [
    "data_train, data_test = set_train_test(n_clients=370)\n",
    "data_train.shape"
   ]
  },
  {
   "cell_type": "markdown",
   "metadata": {},
   "source": [
    "Transform rawdata [T,N] intao Page matrix [L,Mts*N].\n",
    "\n",
    "* L = window size\n",
    "* Mts = number of column of each ts's Page matrix = [T/L]\n",
    "* N = number of ts (clients)\n",
    "\n",
    "We select the range for training as: (T mod L)+1, . . . , T\n",
    "\n",
    "_Note that more details can be found at footnote Page 4 [Agarwal2022]. Here we use one range instead of two ranges for prediction. [He2023]_\n",
    "\n",
    "Explanation:\n",
    "\n",
    "N is the number of houses\n",
    "\n",
    "L is the window size\n",
    "\n",
    "M is the total number of column w.r.t window size L\n",
    "\n",
    "M_ts is number of column for each house = M // N"
   ]
  },
  {
   "cell_type": "code",
   "execution_count": 10,
   "metadata": {},
   "outputs": [],
   "source": [
    "def get_flattened_obs(data_train, L=80):\n",
    "    df = data_train\n",
    "    N = df.shape[1]\n",
    "    col_to_row_ratio = 4\n",
    "\n",
    "#     L = int(np.sqrt(df.size / (col_to_row_ratio))) # algo [Agarwal2022] to generate L, here we fix it as hyperparam\n",
    "#     L = int(np.sqrt(df.shape[0] / (col_to_row_ratio))) # my N\n",
    "\n",
    "    T = df.shape[0]\n",
    "\n",
    "    M = int(df.size / L)\n",
    "    if M%N != 0:\n",
    "        M -= M%N\n",
    "    M_ts = M // N\n",
    "    # inc_obs = np.array(df.iloc[:M_ts*L,:]) # first range, we use second range for traning\n",
    "    inc_obs = np.array(df.iloc[T%L:,:]) # second range, note its not T%L+1 due to python index\n",
    "    normalize = False\n",
    "    from sklearn.preprocessing import StandardScaler\n",
    "    if normalize:\n",
    "        scaler = StandardScaler()\n",
    "        inc_obs = scaler.fit_transform(inc_obs)\n",
    "        norm_means = scaler.mean_\n",
    "        norm_std = scaler.scale_\n",
    "\n",
    "    flattened_obs = inc_obs.reshape([L,M], order = 'F') # 按照列顺序\n",
    "    # flattened_obs = flattened_obs[:,np.arange(M_ts*self.no_ts).reshape([self.no_ts,M_ts]).flatten('F')] # 这里导致第二列是ts2，stacked page是不同ts交错组成\n",
    "    return flattened_obs, M_ts"
   ]
  },
  {
   "cell_type": "code",
   "execution_count": 11,
   "metadata": {},
   "outputs": [],
   "source": [
    "global N; global M_ts; global L;\n",
    "N = data_train.shape[1]\n",
    "L = 80"
   ]
  },
  {
   "cell_type": "code",
   "execution_count": 12,
   "metadata": {},
   "outputs": [],
   "source": [
    "flattened_obs, M_ts = get_flattened_obs(data_train, L=L)"
   ]
  },
  {
   "cell_type": "code",
   "execution_count": 13,
   "metadata": {},
   "outputs": [
    {
     "data": {
      "text/plain": [
       "(80, 119880)"
      ]
     },
     "execution_count": 13,
     "metadata": {},
     "output_type": "execute_result"
    }
   ],
   "source": [
    "flattened_obs.shape"
   ]
  },
  {
   "cell_type": "code",
   "execution_count": 14,
   "metadata": {},
   "outputs": [
    {
     "data": {
      "text/plain": [
       "(370, 9608160)"
      ]
     },
     "execution_count": 14,
     "metadata": {},
     "output_type": "execute_result"
    }
   ],
   "source": [
    "data_train.shape[1], data_train.size"
   ]
  },
  {
   "cell_type": "markdown",
   "metadata": {},
   "source": [
    "Standalone SSA"
   ]
  },
  {
   "cell_type": "code",
   "execution_count": 15,
   "metadata": {},
   "outputs": [],
   "source": [
    "# stand-alone ssa\n",
    "global window;\n",
    "window = M_ts\n",
    "lst_U_sd = []\n",
    "for i in range(data_train.shape[1]):\n",
    "    data = flattened_obs[:,i*window:(i+1)*window]\n",
    "    U,S,_ = np.linalg.svd(data)\n",
    "    U = U[:,:N]\n",
    "    lst_U_sd.append(U)"
   ]
  },
  {
   "cell_type": "code",
   "execution_count": 16,
   "metadata": {},
   "outputs": [],
   "source": [
    "# just for verification of estimating sigma\n",
    "i=0\n",
    "proj_sd = lst_U_sd[i].T.dot(flattened_obs[:,i*window:(i+1)*window]) # we take one client for verification\n",
    "S2_sd_est = proj_sd.dot(proj_sd.T)\n",
    "S2_sd = np.diag(proj_sd.dot(proj_sd.T))\n",
    "S_sd = np.sqrt(S2_sd)\n",
    "# S_sd.argsort()[::-1]"
   ]
  },
  {
   "cell_type": "markdown",
   "metadata": {},
   "source": [
    "\n",
    "## Fit mSSA\n",
    "\n",
    "Now, using **mSSA**, we will be able to forecast and impute the data at past and future timesamps! To do that, we must first fit the model."
   ]
  },
  {
   "cell_type": "code",
   "execution_count": 17,
   "metadata": {},
   "outputs": [
    {
     "name": "stdout",
     "output_type": "stream",
     "text": [
      "(25968, 370)\n"
     ]
    }
   ],
   "source": [
    "model = mSSA(rank = 20, normalize = False, L=L)\n",
    "# model\n",
    "model.update_model(data_train)"
   ]
  },
  {
   "cell_type": "markdown",
   "metadata": {},
   "source": [
    "Need to know what are the model.ts_model.models and svd_model?"
   ]
  },
  {
   "cell_type": "code",
   "execution_count": 18,
   "metadata": {},
   "outputs": [
    {
     "data": {
      "text/plain": [
       "{'seriesToPredictKey': 't1',\n",
       " 'otherSeriesKeysArray': [],\n",
       " 'includePastDataOnly': True,\n",
       " 'fill_in_missing': False,\n",
       " 'N': 80,\n",
       " 'M': 119880,\n",
       " 'start': 0,\n",
       " 'TimesUpdated': 0,\n",
       " 'TimesReconstructed': 0,\n",
       " 'kSingularValues': 20,\n",
       " 'svdMethod': 'numpy',\n",
       " 'norm_mean': array([0., 0., 0., 0., 0., 0., 0., 0., 0., 0., 0., 0., 0., 0., 0., 0., 0.,\n",
       "        0., 0., 0., 0., 0., 0., 0., 0., 0., 0., 0., 0., 0., 0., 0., 0., 0.,\n",
       "        0., 0., 0., 0., 0., 0., 0., 0., 0., 0., 0., 0., 0., 0., 0., 0., 0.,\n",
       "        0., 0., 0., 0., 0., 0., 0., 0., 0., 0., 0., 0., 0., 0., 0., 0., 0.,\n",
       "        0., 0., 0., 0., 0., 0., 0., 0., 0., 0., 0., 0., 0., 0., 0., 0., 0.,\n",
       "        0., 0., 0., 0., 0., 0., 0., 0., 0., 0., 0., 0., 0., 0., 0., 0., 0.,\n",
       "        0., 0., 0., 0., 0., 0., 0., 0., 0., 0., 0., 0., 0., 0., 0., 0., 0.,\n",
       "        0., 0., 0., 0., 0., 0., 0., 0., 0., 0., 0., 0., 0., 0., 0., 0., 0.,\n",
       "        0., 0., 0., 0., 0., 0., 0., 0., 0., 0., 0., 0., 0., 0., 0., 0., 0.,\n",
       "        0., 0., 0., 0., 0., 0., 0., 0., 0., 0., 0., 0., 0., 0., 0., 0., 0.,\n",
       "        0., 0., 0., 0., 0., 0., 0., 0., 0., 0., 0., 0., 0., 0., 0., 0., 0.,\n",
       "        0., 0., 0., 0., 0., 0., 0., 0., 0., 0., 0., 0., 0., 0., 0., 0., 0.,\n",
       "        0., 0., 0., 0., 0., 0., 0., 0., 0., 0., 0., 0., 0., 0., 0., 0., 0.,\n",
       "        0., 0., 0., 0., 0., 0., 0., 0., 0., 0., 0., 0., 0., 0., 0., 0., 0.,\n",
       "        0., 0., 0., 0., 0., 0., 0., 0., 0., 0., 0., 0., 0., 0., 0., 0., 0.,\n",
       "        0., 0., 0., 0., 0., 0., 0., 0., 0., 0., 0., 0., 0., 0., 0., 0., 0.,\n",
       "        0., 0., 0., 0., 0., 0., 0., 0., 0., 0., 0., 0., 0., 0., 0., 0., 0.,\n",
       "        0., 0., 0., 0., 0., 0., 0., 0., 0., 0., 0., 0., 0., 0., 0., 0., 0.,\n",
       "        0., 0., 0., 0., 0., 0., 0., 0., 0., 0., 0., 0., 0., 0., 0., 0., 0.,\n",
       "        0., 0., 0., 0., 0., 0., 0., 0., 0., 0., 0., 0., 0., 0., 0., 0., 0.,\n",
       "        0., 0., 0., 0., 0., 0., 0., 0., 0., 0., 0., 0., 0., 0., 0., 0., 0.,\n",
       "        0., 0., 0., 0., 0., 0., 0., 0., 0., 0., 0., 0., 0.]),\n",
       " 'norm_std': array([1., 1., 1., 1., 1., 1., 1., 1., 1., 1., 1., 1., 1., 1., 1., 1., 1.,\n",
       "        1., 1., 1., 1., 1., 1., 1., 1., 1., 1., 1., 1., 1., 1., 1., 1., 1.,\n",
       "        1., 1., 1., 1., 1., 1., 1., 1., 1., 1., 1., 1., 1., 1., 1., 1., 1.,\n",
       "        1., 1., 1., 1., 1., 1., 1., 1., 1., 1., 1., 1., 1., 1., 1., 1., 1.,\n",
       "        1., 1., 1., 1., 1., 1., 1., 1., 1., 1., 1., 1., 1., 1., 1., 1., 1.,\n",
       "        1., 1., 1., 1., 1., 1., 1., 1., 1., 1., 1., 1., 1., 1., 1., 1., 1.,\n",
       "        1., 1., 1., 1., 1., 1., 1., 1., 1., 1., 1., 1., 1., 1., 1., 1., 1.,\n",
       "        1., 1., 1., 1., 1., 1., 1., 1., 1., 1., 1., 1., 1., 1., 1., 1., 1.,\n",
       "        1., 1., 1., 1., 1., 1., 1., 1., 1., 1., 1., 1., 1., 1., 1., 1., 1.,\n",
       "        1., 1., 1., 1., 1., 1., 1., 1., 1., 1., 1., 1., 1., 1., 1., 1., 1.,\n",
       "        1., 1., 1., 1., 1., 1., 1., 1., 1., 1., 1., 1., 1., 1., 1., 1., 1.,\n",
       "        1., 1., 1., 1., 1., 1., 1., 1., 1., 1., 1., 1., 1., 1., 1., 1., 1.,\n",
       "        1., 1., 1., 1., 1., 1., 1., 1., 1., 1., 1., 1., 1., 1., 1., 1., 1.,\n",
       "        1., 1., 1., 1., 1., 1., 1., 1., 1., 1., 1., 1., 1., 1., 1., 1., 1.,\n",
       "        1., 1., 1., 1., 1., 1., 1., 1., 1., 1., 1., 1., 1., 1., 1., 1., 1.,\n",
       "        1., 1., 1., 1., 1., 1., 1., 1., 1., 1., 1., 1., 1., 1., 1., 1., 1.,\n",
       "        1., 1., 1., 1., 1., 1., 1., 1., 1., 1., 1., 1., 1., 1., 1., 1., 1.,\n",
       "        1., 1., 1., 1., 1., 1., 1., 1., 1., 1., 1., 1., 1., 1., 1., 1., 1.,\n",
       "        1., 1., 1., 1., 1., 1., 1., 1., 1., 1., 1., 1., 1., 1., 1., 1., 1.,\n",
       "        1., 1., 1., 1., 1., 1., 1., 1., 1., 1., 1., 1., 1., 1., 1., 1., 1.,\n",
       "        1., 1., 1., 1., 1., 1., 1., 1., 1., 1., 1., 1., 1., 1., 1., 1., 1.,\n",
       "        1., 1., 1., 1., 1., 1., 1., 1., 1., 1., 1., 1., 1.]),\n",
       " 'Uk': array([[-0.14154743,  0.01252851,  0.06970246, ..., -0.06521551,\n",
       "          0.14819859, -0.22484942],\n",
       "        [-0.16916553,  0.03072576,  0.03319197, ...,  0.02400268,\n",
       "         -0.05317376, -0.14787405],\n",
       "        [-0.18906021,  0.04235163,  0.01165367, ..., -0.02081039,\n",
       "         -0.14214962, -0.07398371],\n",
       "        ...,\n",
       "        [-0.17869912,  0.0342281 , -0.02386126, ...,  0.10240622,\n",
       "          0.00171049, -0.154229  ],\n",
       "        [-0.13873209, -0.01282721, -0.06250701, ...,  0.23250928,\n",
       "         -0.06537856, -0.12803645],\n",
       "        [-0.09812459, -0.05692788, -0.10240515, ..., -0.02041843,\n",
       "          0.1186598 , -0.24787431]]),\n",
       " 'Vk': array([[-2.51618925e-04, -5.28523364e-03,  1.72939705e-04, ...,\n",
       "          3.91002861e-04, -7.53253502e-04,  6.70180321e-03],\n",
       "        [-6.02586576e-03, -4.16731220e-03, -9.25804072e-04, ...,\n",
       "         -2.90363250e-03, -4.71952808e-03,  1.71479382e-03],\n",
       "        [-5.63478534e-03, -2.58794561e-03,  4.48470920e-03, ...,\n",
       "         -4.99774211e-03, -4.46893007e-04, -2.70227963e-03],\n",
       "        ...,\n",
       "        [-2.39140494e-03, -2.40210268e-03,  6.72063451e-04, ...,\n",
       "         -1.80746748e-04, -3.06395410e-04, -6.78953175e-05],\n",
       "        [-3.12490212e-03, -3.27754932e-03,  1.90380086e-04, ...,\n",
       "         -8.08072156e-04,  4.36165925e-04,  1.38791775e-03],\n",
       "        [-4.84300804e-04,  3.19825567e-04, -1.32626022e-04, ...,\n",
       "          2.06083060e-04,  5.39212891e-04, -1.95556995e-04]]),\n",
       " 'sk': array([1714.16923664, 1539.84707786, 1511.34622059,  556.53028601,\n",
       "         529.04898827,  480.92252936,  354.51334728,  347.0585179 ,\n",
       "         272.39898071,  253.36271625,  249.27815534,  247.49742276,\n",
       "         235.19232248,  226.22596046,  203.58528172,  169.48041429,\n",
       "         161.8196442 ,  159.10755648,  153.68865808,  141.2731085 ]),\n",
       " 'matrix': array([[ 0.17253314,  1.97703225,  2.10484337, ...,  0.4355188 ,\n",
       "          0.65353382,  0.55499644],\n",
       "        [-0.01659155,  2.42016423,  2.2556604 , ...,  0.47461043,\n",
       "          0.63298393,  0.62500727],\n",
       "        [-0.06666789,  2.40684341,  2.4469578 , ...,  0.53447297,\n",
       "          0.64955077,  0.62523408],\n",
       "        ...,\n",
       "        [-0.18968609,  1.57125097,  0.91320835, ...,  0.65078277,\n",
       "          0.63665767,  0.6571728 ],\n",
       "        [-0.2914355 ,  1.47438759,  1.18118412, ...,  0.65257592,\n",
       "          0.57766105,  0.61432576],\n",
       "        [-0.06076764,  1.54730851,  0.84937377, ...,  0.62136063,\n",
       "          0.60475079,  0.63449936]]),\n",
       " 'lastRowObservations': array([0.17428625, 2.01390118, 2.11902203, ..., 0.69808695, 0.53027414,\n",
       "        0.74232851]),\n",
       " 'Ukw': array([[-1.45023831e-01,  2.09360518e-05,  6.38710777e-02, ...,\n",
       "          4.51763189e-02, -7.77987209e-02, -2.25907460e-01],\n",
       "        [-1.71958955e-01,  2.21522709e-02,  2.85231957e-02, ...,\n",
       "         -1.95684986e-02,  8.13599222e-02, -1.34927929e-01],\n",
       "        [-1.91430863e-01,  3.60439481e-02,  7.70644852e-03, ...,\n",
       "          4.13759292e-02,  1.30340683e-01, -6.80298206e-02],\n",
       "        ...,\n",
       "        [-1.95454045e-01,  4.56506032e-02, -1.37954797e-02, ...,\n",
       "          4.56432242e-02, -9.19878841e-02, -1.80561891e-01],\n",
       "        [-1.78835955e-01,  3.32990681e-02, -2.70021021e-02, ...,\n",
       "         -1.19550704e-01,  4.34530236e-02, -1.76060175e-01],\n",
       "        [-1.35922319e-01, -7.24777920e-03, -6.92827800e-02, ...,\n",
       "         -2.17459594e-01,  5.14074447e-02, -2.33435759e-01]]),\n",
       " 'Vkw': array([[-1.52855035e-04, -5.28212437e-03, -5.73369160e-04, ...,\n",
       "          2.48567110e-04, -9.93770513e-04,  6.52967307e-03],\n",
       "        [-5.87602900e-03, -4.12980006e-03, -1.71519083e-03, ...,\n",
       "          3.01495324e-03,  4.23553814e-03,  2.09151735e-03],\n",
       "        [-5.71496364e-03, -3.25836101e-03,  3.89812057e-03, ...,\n",
       "          5.74592138e-03, -2.10612632e-04, -3.60135254e-03],\n",
       "        ...,\n",
       "        [-2.34629753e-03, -2.51370043e-03,  2.61159375e-04, ...,\n",
       "          1.63472580e-04,  3.45198698e-04,  7.39245187e-05],\n",
       "        [-3.05457752e-03, -3.34175958e-03, -3.84935770e-04, ...,\n",
       "          7.56006723e-04, -5.53565416e-04,  1.60269440e-03],\n",
       "        [-4.54557700e-04,  3.42205667e-04, -6.44335506e-05, ...,\n",
       "         -2.10385532e-04, -5.67114193e-04, -5.43072068e-04]]),\n",
       " 'skw': array([1706.38895248, 1537.86598257, 1502.56243152,  549.00897176,\n",
       "         525.69244899,  477.06067812,  354.13868347,  341.97506893,\n",
       "         267.3068904 ,  253.24153283,  249.18392338,  247.36443267,\n",
       "         231.45428674,  225.51966238,  199.02286197,  167.0085411 ,\n",
       "         161.09657816,  159.05708894,  152.39504919,  133.26638649]),\n",
       " 'p': 1.0,\n",
       " 'weights': array([ 0.06261703,  0.02947844,  0.00444104, -0.02086634, -0.07090706,\n",
       "        -0.11895691, -0.02312869,  0.10517881,  0.04380452, -0.02391205,\n",
       "        -0.03030973,  0.01206333,  0.07580166,  0.08501267, -0.01662183,\n",
       "        -0.01300359,  0.03120328, -0.01654073, -0.05606852, -0.05487115,\n",
       "        -0.02345044,  0.01868241,  0.03459911,  0.02845132,  0.03087951,\n",
       "         0.0090828 , -0.00347153, -0.01837181, -0.05165524, -0.10021176,\n",
       "         0.01093887,  0.16155576,  0.07862248, -0.02679109, -0.07654631,\n",
       "        -0.06335435, -0.00316814,  0.01806056, -0.07093388, -0.03827189,\n",
       "         0.04772837,  0.03439549,  0.01829388,  0.03837815,  0.05021218,\n",
       "         0.06097134,  0.02894559, -0.03134264, -0.05859161, -0.08576973,\n",
       "        -0.08830703, -0.08046318, -0.0839853 , -0.0974121 ,  0.05211379,\n",
       "         0.23629073,  0.15813644,  0.05177719, -0.01493663, -0.01850145,\n",
       "         0.0252701 ,  0.04102768, -0.04526483, -0.01375421,  0.04551743,\n",
       "        -0.00159213, -0.03752663, -0.03559135, -0.01895511, -0.00419066,\n",
       "        -0.03226005, -0.06562827, -0.01435173,  0.03819905,  0.10383605,\n",
       "         0.16443429,  0.17831543,  0.17741348,  0.34159159]),\n",
       " 'SSVT': False,\n",
       " 'soft_threshold': 0,\n",
       " 'updated': True,\n",
       " 'no_ts': 370,\n",
       " 'forecast_model_score': array([ 7.05163571e-01,  7.71531878e-01,  9.62787003e-01,  8.74369357e-01,\n",
       "         7.05052278e-01,  7.61813867e-01,  8.85447548e-01,  8.64359432e-01,\n",
       "         7.79118799e-01,  9.01937870e-01, -4.22524242e-01, -1.37540739e-01,\n",
       "         8.68843169e-01,  8.38566855e-01,  9.13056180e-01,  8.70598440e-01,\n",
       "         9.12281559e-01,  9.10207818e-01,  9.46222663e-01,  8.95028126e-01,\n",
       "         8.32272836e-01,  8.57883122e-01,  8.95170046e-01,  8.35418478e-01,\n",
       "         8.26911673e-01,  9.66733583e-01,  9.90583316e-01,  9.87316779e-01,\n",
       "         8.84596363e-01,  8.60840342e-01,  8.60557114e-01,  8.75183985e-01,\n",
       "         8.88847479e-01,  8.97671636e-01,  8.68546468e-01,  8.68442147e-01,\n",
       "         8.11652388e-01,  7.84960665e-01,  7.92647087e-01,  8.07261314e-01,\n",
       "         8.17575151e-01,  9.00287330e-01,  8.90930615e-01,  8.97438461e-01,\n",
       "         8.48624055e-01,  0.00000000e+00,  9.61412018e-01,  9.25452302e-01,\n",
       "         9.74568783e-01,  9.65552561e-01,  9.58656007e-01,  9.69624011e-01,\n",
       "         9.60989560e-01,  9.68692113e-01,  9.75835454e-01,  9.76036851e-01,\n",
       "         9.72087911e-01, -1.57770364e+27,  9.95276803e-01,  9.84310699e-01,\n",
       "         9.35479355e-01,  9.26588559e-01,  9.26553972e-01,  8.87807164e-01,\n",
       "         8.81499236e-01,  7.48745649e-01,  7.59418829e-01,  7.23029698e-01,\n",
       "         6.76860595e-01,  8.38042621e-01,  7.87306443e-01,  8.39159874e-01,\n",
       "         8.98289682e-01,  8.27776102e-01,  6.89551111e-01,  6.47809117e-01,\n",
       "         7.67406890e-01,  8.68970870e-01,  8.71501908e-01,  7.98025415e-01,\n",
       "         8.01803470e-01,  8.39377162e-01,  8.48928529e-01,  8.56437709e-01,\n",
       "         9.33352641e-01,  9.36586706e-01,  9.18592631e-01,  8.98872477e-01,\n",
       "         9.37346418e-01,  8.78912748e-01,  8.65071526e-01,  8.70929539e-01,\n",
       "         8.46312975e-01,  9.68160261e-01,  8.04734367e-01,  8.34479580e-01,\n",
       "         8.79987922e-01,  6.78476207e-01,  7.32229758e-01,  6.96321752e-01,\n",
       "         8.84472847e-01,  8.43969729e-01,  8.71823542e-01,  8.47457983e-01,\n",
       "         8.44372719e-01,  8.97967826e-01,  8.97647004e-01,  9.26414140e-01,\n",
       "         9.25865945e-01,  9.27209149e-01,  8.98763085e-01,  9.15921700e-01,\n",
       "         9.31408462e-01,  8.88515503e-01,  8.61445730e-01,  8.59933620e-01,\n",
       "         8.54879386e-01,  9.42911487e-01, -2.49142749e+27,  9.90433117e-01,\n",
       "         9.40174843e-01,  8.45765858e-01,  7.14052484e-01,  7.27495378e-01,\n",
       "         7.88717239e-01,  9.22170476e-01,  9.94815622e-01,  8.48633727e-01,\n",
       "         8.73123228e-01,  9.89236280e-01,  9.86192687e-01,  9.08711984e-01,\n",
       "         9.30305862e-01,  9.47017516e-01,  9.38179095e-01,  9.51015970e-01,\n",
       "         9.34793651e-01,  9.06742060e-01,  6.99288350e-01,  7.14898713e-01,\n",
       "         8.05423667e-01,  7.08440265e-01,  9.63918694e-01,  9.68915368e-01,\n",
       "         9.55990316e-01,  9.48877763e-01,  9.33294219e-01,  8.99852331e-01,\n",
       "         9.12308414e-01,  9.22183033e-01,  9.03696725e-01,  9.16059757e-01,\n",
       "         9.23771648e-01,  9.27677351e-01, -5.34710739e+27, -5.34710739e+27,\n",
       "         9.49375811e-01,  8.29993307e-01,  6.34855236e-01,  7.60979320e-01,\n",
       "         9.31546802e-01,  8.59775969e-01, -6.65445930e+27, -6.65445930e+27,\n",
       "         9.92287766e-01,  9.17849614e-01,  7.78173439e-01,  6.74977657e-01,\n",
       "         8.14505277e-01,  7.08329687e-01,  7.89189441e-01,  7.98631269e-01,\n",
       "         8.62215188e-01,  7.69130488e-01,  8.09715043e-01,  8.18753005e-01,\n",
       "         8.91047608e-01,  8.97507768e-01,  8.54293429e-01,  8.79403344e-01,\n",
       "         8.76949104e-01,  9.17226296e-01,  8.99747494e-01,  8.80044899e-01,\n",
       "         8.82854546e-01,  9.00261997e-01,  7.59640208e-01,  8.51587690e-01,\n",
       "         8.21502577e-01,  8.55928610e-01,  9.06961312e-01,  8.81363280e-01,\n",
       "         9.29751989e-01,  8.41597310e-01,  8.57270042e-01,  8.53204539e-01,\n",
       "         7.97583318e-01,  8.74587246e-01,  9.12503057e-01,  8.91885711e-01,\n",
       "         8.90088065e-01,  9.28867988e-01,  8.17840993e-01,  7.91439835e-01,\n",
       "         8.36396431e-01,  8.97601239e-01,  8.73088971e-01,  8.73104014e-01,\n",
       "         8.17782815e-01,  9.25178308e-01,  9.00575637e-01,  8.64960442e-01,\n",
       "         8.25770863e-01,  8.71606773e-01,  8.18415742e-01,  8.21725772e-01,\n",
       "         8.53871084e-01,  8.57123047e-01,  9.27557888e-01,  9.62418117e-01,\n",
       "         9.28786900e-01,  8.79043892e-01,  8.26318482e-01,  8.14796044e-01,\n",
       "         8.17990645e-01,  7.91844055e-01,  7.51723762e-01,  8.48271683e-01,\n",
       "         8.52596194e-01,  7.90980404e-01,  7.59148873e-01,  9.23848595e-01,\n",
       "         8.99849312e-01,  9.09273251e-01,  9.00708452e-01,  7.62087662e-01,\n",
       "         8.29919044e-01,  8.17192584e-01,  7.04974164e-01,  8.96722937e-01,\n",
       "         9.33827785e-01,  8.86153333e-01,  8.92950940e-01,  9.28529293e-01,\n",
       "         9.57738844e-01,  9.46472646e-01,  9.03729128e-01,  9.32554236e-01,\n",
       "         8.96015944e-01,  9.46769837e-01,  9.28016639e-01,  9.53777611e-01,\n",
       "         9.14241529e-01,  9.21730747e-01,  9.60399993e-01,  9.17306998e-01,\n",
       "         8.62728902e-01,  8.82453287e-01,  8.94374076e-01,  9.14272196e-01,\n",
       "         8.99428455e-01,  9.09450619e-01,  9.27577538e-01,  9.09411254e-01,\n",
       "         8.74030681e-01,  9.83282880e-01,  9.92609722e-01,  9.27883429e-01,\n",
       "         8.98419607e-01,  9.11009677e-01,  9.07754677e-01,  8.39612924e-01,\n",
       "         9.36787081e-01,  9.32633434e-01,  8.82095138e-01,  9.11453948e-01,\n",
       "         8.29090435e-01,  8.20341611e-01,  8.93362268e-01,  8.72079284e-01,\n",
       "         8.68467236e-01,  8.84826165e-01,  8.71024254e-01,  8.66777365e-01,\n",
       "         9.04192563e-01,  9.16816413e-01,  9.04664628e-01,  8.37457803e-01,\n",
       "         8.97850692e-01,  9.24146993e-01,  9.26013347e-01,  8.96342236e-01,\n",
       "         8.96753944e-01,  9.56789110e-01,  7.59079667e-01,  9.38264082e-01,\n",
       "         8.39210059e-01,  8.74445261e-01,  9.09324001e-01,  8.68836951e-01,\n",
       "         8.13092790e-01,  8.33626839e-01,  8.46139654e-01,  8.90909921e-01,\n",
       "         9.21670840e-01,  8.99950395e-01,  9.04150327e-01,  9.23486434e-01,\n",
       "         9.26842578e-01,  9.57133776e-01,  9.55457392e-01,  9.75403714e-01,\n",
       "         8.54501475e-01,  8.68397571e-01,  8.02460027e-01,  7.89368529e-01,\n",
       "         9.69702540e-01,  9.27577775e-01,  9.11411559e-01,  8.99336363e-01,\n",
       "         8.53379617e-01,  7.55091497e-01,  7.00583822e-01,  7.85974464e-01,\n",
       "         7.17744927e-01,  7.97602443e-01,  8.12475606e-01,  8.07147204e-01,\n",
       "         9.17604256e-01,  8.98507451e-01,  9.03891242e-01,  9.38875177e-01,\n",
       "         9.08298641e-01,  8.94397354e-01,  9.36630926e-01,  9.37593462e-01,\n",
       "         9.47103218e-01,  9.65304686e-01,  9.68697971e-01,  9.76292998e-01,\n",
       "         8.68833611e-01,  8.34499943e-01,  8.65877860e-01,  9.00798515e-01,\n",
       "         8.65826008e-01,  8.41444573e-01,  8.90847363e-01,  7.41599643e-01,\n",
       "         8.02560614e-01,  8.17656689e-01,  8.03885363e-01,  7.84943517e-01,\n",
       "         4.31262522e-01,  3.20332885e-01,  5.47789118e-01,  7.03160476e-01,\n",
       "         8.22837509e-01,  9.08127787e-01,  8.85461481e-01,  9.40692395e-01,\n",
       "         9.41242173e-01,  9.60101288e-01,  9.46345939e-01,  9.29684856e-01,\n",
       "         9.38358832e-01,  9.52346698e-01,  9.43173469e-01,  9.02383612e-01,\n",
       "         9.27550678e-01, -8.82343175e+27]),\n",
       " 'forecast_model_score_test': array([nan, nan, nan, nan, nan, nan, nan, nan, nan, nan, nan, nan, nan,\n",
       "        nan, nan, nan, nan, nan, nan, nan, nan, nan, nan, nan, nan, nan,\n",
       "        nan, nan, nan, nan, nan, nan, nan, nan, nan, nan, nan, nan, nan,\n",
       "        nan, nan, nan, nan, nan, nan, nan, nan, nan, nan, nan, nan, nan,\n",
       "        nan, nan, nan, nan, nan, nan, nan, nan, nan, nan, nan, nan, nan,\n",
       "        nan, nan, nan, nan, nan, nan, nan, nan, nan, nan, nan, nan, nan,\n",
       "        nan, nan, nan, nan, nan, nan, nan, nan, nan, nan, nan, nan, nan,\n",
       "        nan, nan, nan, nan, nan, nan, nan, nan, nan, nan, nan, nan, nan,\n",
       "        nan, nan, nan, nan, nan, nan, nan, nan, nan, nan, nan, nan, nan,\n",
       "        nan, nan, nan, nan, nan, nan, nan, nan, nan, nan, nan, nan, nan,\n",
       "        nan, nan, nan, nan, nan, nan, nan, nan, nan, nan, nan, nan, nan,\n",
       "        nan, nan, nan, nan, nan, nan, nan, nan, nan, nan, nan, nan, nan,\n",
       "        nan, nan, nan, nan, nan, nan, nan, nan, nan, nan, nan, nan, nan,\n",
       "        nan, nan, nan, nan, nan, nan, nan, nan, nan, nan, nan, nan, nan,\n",
       "        nan, nan, nan, nan, nan, nan, nan, nan, nan, nan, nan, nan, nan,\n",
       "        nan, nan, nan, nan, nan, nan, nan, nan, nan, nan, nan, nan, nan,\n",
       "        nan, nan, nan, nan, nan, nan, nan, nan, nan, nan, nan, nan, nan,\n",
       "        nan, nan, nan, nan, nan, nan, nan, nan, nan, nan, nan, nan, nan,\n",
       "        nan, nan, nan, nan, nan, nan, nan, nan, nan, nan, nan, nan, nan,\n",
       "        nan, nan, nan, nan, nan, nan, nan, nan, nan, nan, nan, nan, nan,\n",
       "        nan, nan, nan, nan, nan, nan, nan, nan, nan, nan, nan, nan, nan,\n",
       "        nan, nan, nan, nan, nan, nan, nan, nan, nan, nan, nan, nan, nan,\n",
       "        nan, nan, nan, nan, nan, nan, nan, nan, nan, nan, nan, nan, nan,\n",
       "        nan, nan, nan, nan, nan, nan, nan, nan, nan, nan, nan, nan, nan,\n",
       "        nan, nan, nan, nan, nan, nan, nan, nan, nan, nan, nan, nan, nan,\n",
       "        nan, nan, nan, nan, nan, nan, nan, nan, nan, nan, nan, nan, nan,\n",
       "        nan, nan, nan, nan, nan, nan, nan, nan, nan, nan, nan, nan, nan,\n",
       "        nan, nan, nan, nan, nan, nan, nan, nan, nan, nan, nan, nan, nan,\n",
       "        nan, nan, nan, nan, nan, nan]),\n",
       " 'imputation_model_score': array([ 8.05392187e-01,  8.62121262e-01,  9.36422921e-01,  9.22116580e-01,\n",
       "         8.56888527e-01,  8.93799875e-01,  9.40904410e-01,  9.49279132e-01,\n",
       "         8.62114742e-01,  8.96455986e-01,  6.28257604e-01,  5.07729880e-01,\n",
       "         9.61378394e-01,  9.58314105e-01,  9.57402013e-01,  9.41398535e-01,\n",
       "         9.60429614e-01,  9.45018360e-01,  9.52893860e-01,  9.52410364e-01,\n",
       "         9.56445911e-01,  9.54566416e-01,  9.60241235e-01,  9.59242233e-01,\n",
       "         9.56978403e-01,  9.89603717e-01,  9.91080840e-01,  9.82383257e-01,\n",
       "         9.57360354e-01,  9.50907630e-01,  9.39474463e-01,  9.41012003e-01,\n",
       "         9.28279643e-01,  8.99090795e-01,  8.86328347e-01,  9.09436123e-01,\n",
       "         8.67787452e-01,  8.77639256e-01,  8.81684268e-01,  8.59750166e-01,\n",
       "         9.21625811e-01,  9.51334238e-01,  9.32193834e-01,  9.47943372e-01,\n",
       "         9.34155195e-01,  0.00000000e+00,  9.94160519e-01,  9.56174960e-01,\n",
       "         9.76628641e-01,  9.63886305e-01,  9.63857552e-01,  9.69465539e-01,\n",
       "         9.73483831e-01,  9.77750679e-01,  9.80880552e-01,  9.75755591e-01,\n",
       "         9.75587604e-01, -1.45698641e+26,  9.95092373e-01,  9.89980431e-01,\n",
       "         9.63397256e-01,  9.50286770e-01,  9.52000000e-01,  9.52574978e-01,\n",
       "         9.54412518e-01,  9.39814305e-01,  9.54286170e-01,  9.47235380e-01,\n",
       "         9.45421305e-01,  9.50266302e-01,  9.56641226e-01,  9.52142783e-01,\n",
       "         9.39889116e-01,  9.06972169e-01,  9.09125418e-01,  8.98493341e-01,\n",
       "         8.80348597e-01,  9.16060902e-01,  9.22851548e-01,  9.12137244e-01,\n",
       "         8.94302086e-01,  9.57954196e-01,  9.54339683e-01,  9.54753269e-01,\n",
       "         9.41284222e-01,  9.27997145e-01,  9.05099265e-01,  8.89971699e-01,\n",
       "         8.88589005e-01,  9.19508753e-01,  9.14967500e-01,  9.00062570e-01,\n",
       "         9.22760684e-01,  9.80354390e-01,  9.34208780e-01,  9.21994095e-01,\n",
       "         9.22798448e-01,  9.46390786e-01,  9.43343455e-01,  9.30391595e-01,\n",
       "         9.38938437e-01,  9.42551822e-01,  9.42323440e-01,  9.24587526e-01,\n",
       "         9.29281054e-01,  9.47241079e-01,  9.52958816e-01,  9.52776623e-01,\n",
       "         9.57265591e-01,  9.65575500e-01,  9.57611874e-01,  9.57649572e-01,\n",
       "         9.62674343e-01,  9.63562127e-01,  9.66064470e-01,  9.65093108e-01,\n",
       "         9.72090066e-01,  9.84744241e-01, -5.17679352e+26,  9.85727315e-01,\n",
       "         9.42198693e-01,  9.51758377e-01,  9.42656489e-01,  9.37924271e-01,\n",
       "         9.46698082e-01,  9.64732782e-01,  9.95741370e-01,  8.84988031e-01,\n",
       "         9.18914154e-01,  9.84777345e-01,  9.89221375e-01,  9.60505766e-01,\n",
       "         9.61691651e-01,  9.61854384e-01,  9.11577261e-01,  9.37887124e-01,\n",
       "         9.34511349e-01,  9.38633858e-01,  8.85433494e-01,  9.04851088e-01,\n",
       "         9.14273503e-01,  8.95295434e-01,  9.58565074e-01,  9.52929984e-01,\n",
       "         9.62669030e-01,  9.56280214e-01,  9.49501868e-01,  9.49571276e-01,\n",
       "         9.49636729e-01,  9.50219082e-01,  9.42421143e-01,  9.49282281e-01,\n",
       "         9.52152957e-01,  9.44430799e-01,  0.00000000e+00,  0.00000000e+00,\n",
       "         9.82382737e-01,  9.53298672e-01,  9.42348866e-01,  9.45868114e-01,\n",
       "         9.67005440e-01,  9.23497303e-01,  0.00000000e+00,  0.00000000e+00,\n",
       "         9.92372479e-01,  9.26375364e-01,  9.30922711e-01,  9.32080732e-01,\n",
       "         9.44479937e-01,  9.07322984e-01,  9.39920639e-01,  9.43550615e-01,\n",
       "         9.48272674e-01,  9.32822329e-01,  9.50581364e-01,  9.54192036e-01,\n",
       "         9.50923577e-01,  9.37723682e-01,  9.57696436e-01,  9.62709151e-01,\n",
       "         9.53601245e-01,  9.57018587e-01,  9.39286030e-01,  9.16713819e-01,\n",
       "         9.19880242e-01,  9.03770592e-01,  9.27601798e-01,  9.36334627e-01,\n",
       "         9.17166273e-01,  9.22031076e-01,  9.34512268e-01,  9.19547988e-01,\n",
       "         9.29283148e-01,  9.31787968e-01,  9.55140016e-01,  9.60669694e-01,\n",
       "         9.54087415e-01,  9.62140604e-01,  9.61775329e-01,  9.57388955e-01,\n",
       "         9.52668342e-01,  9.48702670e-01,  9.35207389e-01,  9.19116487e-01,\n",
       "         9.11107899e-01,  9.15578896e-01,  9.34917393e-01,  9.28074361e-01,\n",
       "         9.18640922e-01,  9.15233154e-01,  9.34332273e-01,  9.47175804e-01,\n",
       "         9.50403835e-01,  9.52157568e-01,  9.53006404e-01,  9.57774006e-01,\n",
       "         9.64208037e-01,  9.71051354e-01,  9.77366982e-01,  9.70482834e-01,\n",
       "         9.50774073e-01,  9.40368620e-01,  9.53577416e-01,  9.43041336e-01,\n",
       "         9.49409222e-01,  9.49946890e-01,  9.46649559e-01,  9.33019371e-01,\n",
       "         9.31932752e-01,  9.18506756e-01,  9.06230455e-01,  9.46776247e-01,\n",
       "         9.55945232e-01,  9.51330850e-01,  9.41106840e-01,  8.35339532e-01,\n",
       "         8.46057027e-01,  8.51217128e-01,  8.42595919e-01,  9.35011327e-01,\n",
       "         9.52377803e-01,  9.25481185e-01,  9.00760744e-01,  9.37510344e-01,\n",
       "         9.41811799e-01,  9.41241546e-01,  9.05487779e-01,  9.62715858e-01,\n",
       "         9.64440109e-01,  9.65973398e-01,  9.49392660e-01,  9.56721741e-01,\n",
       "         9.48393039e-01,  9.50081463e-01,  9.47561879e-01,  9.50828026e-01,\n",
       "         9.37464825e-01,  9.42342131e-01,  9.29769892e-01,  9.45286240e-01,\n",
       "         9.40899417e-01,  9.32034023e-01,  9.36654675e-01,  9.52056212e-01,\n",
       "         9.42670270e-01,  9.84223305e-01,  9.92993786e-01,  9.53886697e-01,\n",
       "         9.43072337e-01,  9.36251023e-01,  9.37427507e-01,  9.59405528e-01,\n",
       "         9.68191151e-01,  9.46149140e-01,  9.32236851e-01,  9.46463958e-01,\n",
       "         9.38268742e-01,  9.18863229e-01,  9.45461930e-01,  9.53113873e-01,\n",
       "         9.62919236e-01,  9.52229667e-01,  9.64111922e-01,  9.62635388e-01,\n",
       "         9.66074684e-01,  9.57759692e-01,  9.69282316e-01,  9.57456083e-01,\n",
       "         9.61149160e-01,  9.60638340e-01,  9.66313245e-01,  9.57879196e-01,\n",
       "         9.70760631e-01,  9.74597536e-01,  9.68376063e-01,  9.68515935e-01,\n",
       "         9.38143486e-01,  9.48580006e-01,  9.60124452e-01,  9.53523867e-01,\n",
       "         9.30002765e-01,  9.47408387e-01,  9.51653097e-01,  9.47992949e-01,\n",
       "         9.47971017e-01,  9.57261478e-01,  9.59331341e-01,  9.51971130e-01,\n",
       "         9.37907793e-01,  9.50821476e-01,  9.48021078e-01,  9.71437805e-01,\n",
       "         9.36037667e-01,  9.41819938e-01,  9.41172428e-01,  9.23240084e-01,\n",
       "         9.74126005e-01,  9.63365620e-01,  9.58164919e-01,  9.52386994e-01,\n",
       "         9.29875706e-01,  9.37905445e-01,  9.24686226e-01,  9.26206591e-01,\n",
       "         9.53704426e-01,  9.58289113e-01,  9.50073042e-01,  9.38835257e-01,\n",
       "         9.54605678e-01,  9.44149748e-01,  9.46087743e-01,  9.33189003e-01,\n",
       "         9.67173632e-01,  9.67212074e-01,  9.68408646e-01,  9.57531974e-01,\n",
       "         9.70833644e-01,  9.68185714e-01,  9.66336760e-01,  9.61596087e-01,\n",
       "         9.47342826e-01,  9.39953747e-01,  9.26739559e-01,  9.29701634e-01,\n",
       "         9.37294296e-01,  9.29852391e-01,  9.26981923e-01,  9.27677415e-01,\n",
       "         9.37782628e-01,  9.26985024e-01,  9.23030662e-01,  9.24278867e-01,\n",
       "         8.71054297e-01,  8.20330976e-01,  8.43755645e-01,  9.08942734e-01,\n",
       "         9.28147253e-01,  9.47771849e-01,  9.34604392e-01,  9.50673309e-01,\n",
       "         9.64416939e-01,  9.82678110e-01,  9.80344478e-01,  9.80184207e-01,\n",
       "         9.68510136e-01,  9.44726585e-01,  9.27215246e-01,  9.17247269e-01,\n",
       "         9.30705274e-01, -1.83337000e+27]),\n",
       " 'threshold': None,\n",
       " 'obs_': array([-0.19363674, -0.08851588, -0.19363674, ...,  0.71791937,\n",
       "         0.53179971,  0.74232851])}"
      ]
     },
     "execution_count": 18,
     "metadata": {},
     "output_type": "execute_result"
    }
   ],
   "source": [
    "svd_model = vars(model.ts_model.models[0])\n",
    "svd_model"
   ]
  },
  {
   "cell_type": "markdown",
   "metadata": {},
   "source": [
    "Read the representation matrix form FedSSA"
   ]
  },
  {
   "cell_type": "code",
   "execution_count": 19,
   "metadata": {},
   "outputs": [
    {
     "data": {
      "text/plain": [
       "(80, 80)"
      ]
     },
     "execution_count": 19,
     "metadata": {},
     "output_type": "execute_result"
    }
   ],
   "source": [
    "file = \"../SSA/Grassmann_ADMM_Elec20_N20_L80_d80_rhoauto_imputation.npy\"\n",
    "Uk_admm = np.load(file)\n",
    "lst_U = []\n",
    "\n",
    "\"\"\"Load 20 Uk for 20 users\"\"\"\n",
    "for i in range(20):\n",
    "    lst_U.append(Uk_admm)\n",
    "lst_U[0].shape"
   ]
  },
  {
   "cell_type": "markdown",
   "metadata": {},
   "source": [
    "Verify that $U^TU = I$"
   ]
  },
  {
   "cell_type": "code",
   "execution_count": 20,
   "metadata": {},
   "outputs": [
    {
     "data": {
      "text/plain": [
       "True"
      ]
     },
     "execution_count": 20,
     "metadata": {},
     "output_type": "execute_result"
    }
   ],
   "source": [
    "np.allclose(lst_U[0].T.dot(lst_U[0])-np.eye(lst_U[0].shape[1]),np.zeros(lst_U[0].shape[1]))"
   ]
  },
  {
   "cell_type": "code",
   "execution_count": 21,
   "metadata": {},
   "outputs": [
    {
     "data": {
      "text/plain": [
       "(80, 20)"
      ]
     },
     "execution_count": 21,
     "metadata": {},
     "output_type": "execute_result"
    }
   ],
   "source": [
    "svd_model[\"Uk\"].shape"
   ]
  },
  {
   "cell_type": "code",
   "execution_count": 22,
   "metadata": {},
   "outputs": [
    {
     "name": "stdout",
     "output_type": "stream",
     "text": [
      "584.4997670253099\n",
      "2.7991905531861957e-12\n"
     ]
    }
   ],
   "source": [
    "def re_error(u, X):\n",
    "    Xhat = u.dot(u.T.dot(X))\n",
    "    re_error = np.linalg.norm(X-Xhat)\n",
    "    return re_error\n",
    "\n",
    "print(re_error(svd_model['Uk'], flattened_obs))\n",
    "print(re_error(lst_U[0], flattened_obs))"
   ]
  },
  {
   "cell_type": "markdown",
   "metadata": {},
   "source": [
    "Print imputation score of mSSA, most clients work well, while two of them have very large loss."
   ]
  },
  {
   "cell_type": "code",
   "execution_count": 23,
   "metadata": {},
   "outputs": [
    {
     "data": {
      "text/html": [
       "<div>\n",
       "<style scoped>\n",
       "    .dataframe tbody tr th:only-of-type {\n",
       "        vertical-align: middle;\n",
       "    }\n",
       "\n",
       "    .dataframe tbody tr th {\n",
       "        vertical-align: top;\n",
       "    }\n",
       "\n",
       "    .dataframe thead th {\n",
       "        text-align: right;\n",
       "    }\n",
       "</style>\n",
       "<table border=\"1\" class=\"dataframe\">\n",
       "  <thead>\n",
       "    <tr style=\"text-align: right;\">\n",
       "      <th></th>\n",
       "      <th>0</th>\n",
       "    </tr>\n",
       "  </thead>\n",
       "  <tbody>\n",
       "    <tr>\n",
       "      <th>count</th>\n",
       "      <td>3.700000e+02</td>\n",
       "    </tr>\n",
       "    <tr>\n",
       "      <th>mean</th>\n",
       "      <td>-6.747968e+24</td>\n",
       "    </tr>\n",
       "    <tr>\n",
       "      <th>std</th>\n",
       "      <td>9.923307e+25</td>\n",
       "    </tr>\n",
       "    <tr>\n",
       "      <th>min</th>\n",
       "      <td>-1.833370e+27</td>\n",
       "    </tr>\n",
       "    <tr>\n",
       "      <th>25%</th>\n",
       "      <td>9.281804e-01</td>\n",
       "    </tr>\n",
       "    <tr>\n",
       "      <th>50%</th>\n",
       "      <td>9.466738e-01</td>\n",
       "    </tr>\n",
       "    <tr>\n",
       "      <th>75%</th>\n",
       "      <td>9.576847e-01</td>\n",
       "    </tr>\n",
       "    <tr>\n",
       "      <th>max</th>\n",
       "      <td>9.957414e-01</td>\n",
       "    </tr>\n",
       "  </tbody>\n",
       "</table>\n",
       "</div>"
      ],
      "text/plain": [
       "                  0\n",
       "count  3.700000e+02\n",
       "mean  -6.747968e+24\n",
       "std    9.923307e+25\n",
       "min   -1.833370e+27\n",
       "25%    9.281804e-01\n",
       "50%    9.466738e-01\n",
       "75%    9.576847e-01\n",
       "max    9.957414e-01"
      ]
     },
     "execution_count": 23,
     "metadata": {},
     "output_type": "execute_result"
    }
   ],
   "source": [
    "pd.DataFrame(svd_model['imputation_model_score']).describe()"
   ]
  },
  {
   "cell_type": "code",
   "execution_count": 24,
   "metadata": {},
   "outputs": [
    {
     "data": {
      "text/html": [
       "<div>\n",
       "<style scoped>\n",
       "    .dataframe tbody tr th:only-of-type {\n",
       "        vertical-align: middle;\n",
       "    }\n",
       "\n",
       "    .dataframe tbody tr th {\n",
       "        vertical-align: top;\n",
       "    }\n",
       "\n",
       "    .dataframe thead th {\n",
       "        text-align: right;\n",
       "    }\n",
       "</style>\n",
       "<table border=\"1\" class=\"dataframe\">\n",
       "  <thead>\n",
       "    <tr style=\"text-align: right;\">\n",
       "      <th></th>\n",
       "      <th>0</th>\n",
       "    </tr>\n",
       "  </thead>\n",
       "  <tbody>\n",
       "    <tr>\n",
       "      <th>count</th>\n",
       "      <td>370.000000</td>\n",
       "    </tr>\n",
       "    <tr>\n",
       "      <th>mean</th>\n",
       "      <td>0.989966</td>\n",
       "    </tr>\n",
       "    <tr>\n",
       "      <th>std</th>\n",
       "      <td>0.005803</td>\n",
       "    </tr>\n",
       "    <tr>\n",
       "      <th>min</th>\n",
       "      <td>0.964501</td>\n",
       "    </tr>\n",
       "    <tr>\n",
       "      <th>25%</th>\n",
       "      <td>0.986301</td>\n",
       "    </tr>\n",
       "    <tr>\n",
       "      <th>50%</th>\n",
       "      <td>0.991558</td>\n",
       "    </tr>\n",
       "    <tr>\n",
       "      <th>75%</th>\n",
       "      <td>0.993632</td>\n",
       "    </tr>\n",
       "    <tr>\n",
       "      <th>max</th>\n",
       "      <td>0.999692</td>\n",
       "    </tr>\n",
       "  </tbody>\n",
       "</table>\n",
       "</div>"
      ],
      "text/plain": [
       "                0\n",
       "count  370.000000\n",
       "mean     0.989966\n",
       "std      0.005803\n",
       "min      0.964501\n",
       "25%      0.986301\n",
       "50%      0.991558\n",
       "75%      0.993632\n",
       "max      0.999692"
      ]
     },
     "execution_count": 24,
     "metadata": {},
     "output_type": "execute_result"
    }
   ],
   "source": [
    "imputation_model_score_admm = []\n",
    "P_admm = flattened_obs\n",
    "P_admm_hat = []\n",
    "y_admm = []\n",
    "y_true = P_admm[-1,:]\n",
    "P_tilde_admm_hat = []\n",
    "\n",
    "lst_U = []\n",
    "for i in range(N):\n",
    "    proj_admm_i = Uk_admm.T.dot(P_admm[:,i*window:(i+1)*window])\n",
    "    S2_admm_i_est = proj_admm_i.dot(proj_admm_i.T)\n",
    "    S2_admm_i = np.diag(S2_admm_i_est)\n",
    "    S_admm_i = np.sqrt(S2_admm_i)\n",
    "    Uk_admm_i = Uk_admm[:,S_admm_i.argsort()[::-1][:74]] # sort components based on S_admm, select the first 74 components\n",
    "    lst_U.append(Uk_admm_i)\n",
    "for i in range(N):\n",
    "    P_i_admm = P_admm[:,int(i*window):int((i+1)*window)]\n",
    "    P_i_admm_hat = lst_U[i].dot(lst_U[i].T.dot(P_i_admm)); P_admm_hat.append(P_i_admm_hat)\n",
    "    y_i_admm = P_i_admm_hat[-1,:]; y_admm.append(y_i_admm)\n",
    "    y_i_true = P_i_admm[-1,:]\n",
    "    P_i_tilde_admm_hat = P_i_admm_hat[:-1,:]; P_tilde_admm_hat.append(P_i_tilde_admm_hat)\n",
    "    imputation_model_score_admm.append(r2_score(P_i_admm.flatten('F'),P_i_admm_hat.flatten('F'))) # verified same as imputation_model_score)\n",
    "imputation_model_score_admm = np.array(imputation_model_score_admm)\n",
    "P_admm_hat = np.hstack(P_admm_hat)\n",
    "y_admm = np.hstack(y_admm)\n",
    "P_tilde_admm_hat = np.hstack(P_tilde_admm_hat)\n",
    "\n",
    "pd.DataFrame(imputation_model_score_admm).describe()"
   ]
  },
  {
   "cell_type": "code",
   "execution_count": 25,
   "metadata": {},
   "outputs": [
    {
     "name": "stdout",
     "output_type": "stream",
     "text": [
      "584.4997670253099\n",
      "440.8633002053766\n"
     ]
    }
   ],
   "source": [
    "print(re_error(svd_model['Uk'], flattened_obs))\n",
    "print(re_error(lst_U[i], flattened_obs))"
   ]
  },
  {
   "cell_type": "code",
   "execution_count": 26,
   "metadata": {},
   "outputs": [
    {
     "data": {
      "text/plain": [
       "array([ 0, 39, 70,  5, 78, 18, 14, 27, 36, 43,  1, 64, 57, 76, 48, 16, 24,\n",
       "        2, 44, 56, 35, 79, 49, 75, 29, 53, 28, 15, 54, 51, 23, 21, 12, 31,\n",
       "       67, 46, 71, 10, 59, 52, 20, 34, 50, 77, 42, 38, 65, 55, 68, 45, 13,\n",
       "       63,  9, 19, 41, 72, 62, 37, 17,  8,  3, 25, 66, 33, 74, 22, 32,  7,\n",
       "       47, 30, 60,  4, 58, 61, 69, 11,  6, 73, 26, 40])"
      ]
     },
     "execution_count": 26,
     "metadata": {},
     "output_type": "execute_result"
    }
   ],
   "source": [
    "# just for debug \n",
    "proj_admm = Uk_admm.T.dot(P_admm)\n",
    "S2_admm = np.diag(proj_admm.dot(proj_admm.T))\n",
    "S_admm = np.sqrt(S2_admm)\n",
    "S_admm.argsort()[::-1]\n",
    "\n",
    "i=0\n",
    "proj_admm0 = Uk_admm.T.dot(P_admm[:,i*window:(i+1)*window])\n",
    "S2_admm0_est = proj_admm0.dot(proj_admm0.T)\n",
    "S2_admm0 = np.diag(proj_admm0.dot(proj_admm0.T))\n",
    "S_admm0 = np.sqrt(S2_admm0)\n",
    "S_admm0.argsort()[::-1]"
   ]
  },
  {
   "cell_type": "code",
   "execution_count": 27,
   "metadata": {},
   "outputs": [
    {
     "data": {
      "text/plain": [
       "array([135.7884518 ,  13.54994707,  13.21572174,  13.15550154,\n",
       "        12.8001035 ,  12.47367134,  12.4510079 ,  12.26980777,\n",
       "        12.24707621,  12.13633473,  11.95993163,  11.90325161,\n",
       "        11.55362083,  11.17534673,  11.16119089,  11.03630791,\n",
       "        10.97353501,  10.96749186,  10.86496429,  10.85876178])"
      ]
     },
     "execution_count": 27,
     "metadata": {},
     "output_type": "execute_result"
    }
   ],
   "source": [
    "S_admm0[S_admm0.argsort()[::-1][:20]]"
   ]
  },
  {
   "cell_type": "code",
   "execution_count": 28,
   "metadata": {},
   "outputs": [
    {
     "data": {
      "text/plain": [
       "array([136.38259942,  34.98000513,  27.26903224,  23.47157816,\n",
       "        20.92209254,  19.42296134,  16.85318588,  15.98092914,\n",
       "        15.16436267,  14.35193174,  13.50550732,  12.9189264 ,\n",
       "        12.29680772,  12.04758896,  11.68130807,  11.42179687,\n",
       "        10.90270284,  10.81349951,  10.43685157,   9.92937809])"
      ]
     },
     "execution_count": 28,
     "metadata": {},
     "output_type": "execute_result"
    }
   ],
   "source": [
    "S_sd[:20]"
   ]
  },
  {
   "cell_type": "code",
   "execution_count": 29,
   "metadata": {},
   "outputs": [
    {
     "name": "stdout",
     "output_type": "stream",
     "text": [
      "1.0\n"
     ]
    },
    {
     "data": {
      "text/plain": [
       "array([1., 1., 1., 1., 1., 1., 1., 1., 1., 1.])"
      ]
     },
     "execution_count": 29,
     "metadata": {},
     "output_type": "execute_result"
    }
   ],
   "source": [
    "imputation_model_score_sd = []\n",
    "P_sd = flattened_obs\n",
    "P_sd_hat = []\n",
    "y_sd = []\n",
    "y_true = P_sd[-1,:]\n",
    "P_tilde_sd_hat = []\n",
    "for i in range(370):\n",
    "    P_i_sd = P_sd[:,int(i*window):int((i+1)*window)]\n",
    "    P_i_sd_hat = lst_U_sd[i].dot(lst_U_sd[i].T.dot(P_i_sd)); P_sd_hat.append(P_i_sd_hat)\n",
    "    y_i_sd = P_i_sd_hat[-1,:]; y_sd.append(y_i_sd)\n",
    "    y_i_true = P_i_sd[-1,:]\n",
    "    P_i_tilde_sd_hat = P_i_sd_hat[:-1,:]; P_tilde_sd_hat.append(P_i_tilde_sd_hat)\n",
    "    imputation_model_score_sd.append(r2_score(P_i_sd.flatten('F'),P_i_sd_hat.flatten('F'))) # verified same as imputation_model_score)\n",
    "imputation_model_score_sd = np.array(imputation_model_score_sd)\n",
    "P_sd_hat = np.hstack(P_sd_hat)\n",
    "y_sd = np.hstack(y_sd)\n",
    "P_tilde_sd_hat = np.hstack(P_tilde_sd_hat)\n",
    "print(imputation_model_score_sd.mean())\n",
    "imputation_model_score_sd[:10]"
   ]
  },
  {
   "cell_type": "markdown",
   "metadata": {},
   "source": [
    "### Predict future values"
   ]
  },
  {
   "cell_type": "code",
   "execution_count": 30,
   "metadata": {},
   "outputs": [
    {
     "data": {
      "text/plain": [
       "(79,)"
      ]
     },
     "execution_count": 30,
     "metadata": {},
     "output_type": "execute_result"
    }
   ],
   "source": [
    "# mSSA: forecast_model_score\n",
    "weights = svd_model['weights']\n",
    "weights.shape"
   ]
  },
  {
   "cell_type": "code",
   "execution_count": 31,
   "metadata": {},
   "outputs": [],
   "source": [
    "def inv_S(S):\n",
    "    skw = copy.deepcopy(S)\n",
    "    for i in range(0, len(skw)):\n",
    "        if (skw[i] > 0.0):\n",
    "            skw[i] = 1.0/skw[i]\n",
    "    return skw"
   ]
  },
  {
   "cell_type": "code",
   "execution_count": 32,
   "metadata": {},
   "outputs": [
    {
     "name": "stdout",
     "output_type": "stream",
     "text": [
      "True\n",
      "True\n"
     ]
    }
   ],
   "source": [
    "Skw_inv = inv_S(svd_model['skw'])\n",
    "# X = svd_model['obs_'].reshape([N,M], order='F') # (verified) This is our flattened_obs but second col is second time series\n",
    "X_hat_tilde = svd_model['matrix'][:-1,:]\n",
    "y = svd_model['lastRowObservations']\n",
    "# verified\n",
    "weights_by_U = svd_model['Ukw'] @ np.diag(Skw_inv) @ np.diag(Skw_inv) @ svd_model['Ukw'].T @ X_hat_tilde @ y\n",
    "weights_by_V = svd_model['Ukw'] @ np.diag(Skw_inv) @ svd_model['Vkw'].T @ y\n",
    "print(np.allclose(svd_model['weights'], weights_by_V))\n",
    "print(np.allclose(svd_model['weights'], weights_by_U))\n"
   ]
  },
  {
   "cell_type": "markdown",
   "metadata": {},
   "source": [
    "Verify that $\\tilde{S}_k^{-1}=\\sqrt{(\\tilde{U}_k^T\\tilde{X})(\\tilde{X}^T \\tilde{U}_k)}$"
   ]
  },
  {
   "cell_type": "code",
   "execution_count": 33,
   "metadata": {},
   "outputs": [
    {
     "data": {
      "text/plain": [
       "True"
      ]
     },
     "execution_count": 33,
     "metadata": {},
     "output_type": "execute_result"
    }
   ],
   "source": [
    "proj = svd_model['Ukw'].T @ X_hat_tilde\n",
    "skw_by_U = np.sqrt(np.diag(proj.dot(proj.T)))\n",
    "np.allclose(skw_by_U, svd_model['skw'])"
   ]
  },
  {
   "cell_type": "code",
   "execution_count": 34,
   "metadata": {},
   "outputs": [
    {
     "data": {
      "text/plain": [
       "array([ 7.05163571e-01,  7.71531878e-01,  9.62787003e-01,  8.74369357e-01,\n",
       "        7.05052278e-01,  7.61813867e-01,  8.85447548e-01,  8.64359432e-01,\n",
       "        7.79118799e-01,  9.01937870e-01, -4.22524242e-01, -1.37540739e-01,\n",
       "        8.68843169e-01,  8.38566855e-01,  9.13056180e-01,  8.70598440e-01,\n",
       "        9.12281559e-01,  9.10207818e-01,  9.46222663e-01,  8.95028126e-01,\n",
       "        8.32272836e-01,  8.57883122e-01,  8.95170046e-01,  8.35418478e-01,\n",
       "        8.26911673e-01,  9.66733583e-01,  9.90583316e-01,  9.87316779e-01,\n",
       "        8.84596363e-01,  8.60840342e-01,  8.60557114e-01,  8.75183985e-01,\n",
       "        8.88847479e-01,  8.97671636e-01,  8.68546468e-01,  8.68442147e-01,\n",
       "        8.11652388e-01,  7.84960665e-01,  7.92647087e-01,  8.07261314e-01,\n",
       "        8.17575151e-01,  9.00287330e-01,  8.90930615e-01,  8.97438461e-01,\n",
       "        8.48624055e-01,  0.00000000e+00,  9.61412018e-01,  9.25452302e-01,\n",
       "        9.74568783e-01,  9.65552561e-01,  9.58656007e-01,  9.69624011e-01,\n",
       "        9.60989560e-01,  9.68692113e-01,  9.75835454e-01,  9.76036851e-01,\n",
       "        9.72087911e-01, -1.57770364e+27,  9.95276803e-01,  9.84310699e-01,\n",
       "        9.35479355e-01,  9.26588559e-01,  9.26553972e-01,  8.87807164e-01,\n",
       "        8.81499236e-01,  7.48745649e-01,  7.59418829e-01,  7.23029698e-01,\n",
       "        6.76860595e-01,  8.38042621e-01,  7.87306443e-01,  8.39159874e-01,\n",
       "        8.98289682e-01,  8.27776102e-01,  6.89551111e-01,  6.47809117e-01,\n",
       "        7.67406890e-01,  8.68970870e-01,  8.71501908e-01,  7.98025415e-01,\n",
       "        8.01803470e-01,  8.39377162e-01,  8.48928529e-01,  8.56437709e-01,\n",
       "        9.33352641e-01,  9.36586706e-01,  9.18592631e-01,  8.98872477e-01,\n",
       "        9.37346418e-01,  8.78912748e-01,  8.65071526e-01,  8.70929539e-01,\n",
       "        8.46312975e-01,  9.68160261e-01,  8.04734367e-01,  8.34479580e-01,\n",
       "        8.79987922e-01,  6.78476207e-01,  7.32229758e-01,  6.96321752e-01,\n",
       "        8.84472847e-01,  8.43969729e-01,  8.71823542e-01,  8.47457983e-01,\n",
       "        8.44372719e-01,  8.97967826e-01,  8.97647004e-01,  9.26414140e-01,\n",
       "        9.25865945e-01,  9.27209149e-01,  8.98763085e-01,  9.15921700e-01,\n",
       "        9.31408462e-01,  8.88515503e-01,  8.61445730e-01,  8.59933620e-01,\n",
       "        8.54879386e-01,  9.42911487e-01, -2.49142749e+27,  9.90433117e-01,\n",
       "        9.40174843e-01,  8.45765858e-01,  7.14052484e-01,  7.27495378e-01,\n",
       "        7.88717239e-01,  9.22170476e-01,  9.94815622e-01,  8.48633727e-01,\n",
       "        8.73123228e-01,  9.89236280e-01,  9.86192687e-01,  9.08711984e-01,\n",
       "        9.30305862e-01,  9.47017516e-01,  9.38179095e-01,  9.51015970e-01,\n",
       "        9.34793651e-01,  9.06742060e-01,  6.99288350e-01,  7.14898713e-01,\n",
       "        8.05423667e-01,  7.08440265e-01,  9.63918694e-01,  9.68915368e-01,\n",
       "        9.55990316e-01,  9.48877763e-01,  9.33294219e-01,  8.99852331e-01,\n",
       "        9.12308414e-01,  9.22183033e-01,  9.03696725e-01,  9.16059757e-01,\n",
       "        9.23771648e-01,  9.27677351e-01, -5.34710739e+27, -5.34710739e+27,\n",
       "        9.49375811e-01,  8.29993307e-01,  6.34855236e-01,  7.60979320e-01,\n",
       "        9.31546802e-01,  8.59775969e-01, -6.65445930e+27, -6.65445930e+27,\n",
       "        9.92287766e-01,  9.17849614e-01,  7.78173439e-01,  6.74977657e-01,\n",
       "        8.14505277e-01,  7.08329687e-01,  7.89189441e-01,  7.98631269e-01,\n",
       "        8.62215188e-01,  7.69130488e-01,  8.09715043e-01,  8.18753005e-01,\n",
       "        8.91047608e-01,  8.97507768e-01,  8.54293429e-01,  8.79403344e-01,\n",
       "        8.76949104e-01,  9.17226296e-01,  8.99747494e-01,  8.80044899e-01,\n",
       "        8.82854546e-01,  9.00261997e-01,  7.59640208e-01,  8.51587690e-01,\n",
       "        8.21502577e-01,  8.55928610e-01,  9.06961312e-01,  8.81363280e-01,\n",
       "        9.29751989e-01,  8.41597310e-01,  8.57270042e-01,  8.53204539e-01,\n",
       "        7.97583318e-01,  8.74587246e-01,  9.12503057e-01,  8.91885711e-01,\n",
       "        8.90088065e-01,  9.28867988e-01,  8.17840993e-01,  7.91439835e-01,\n",
       "        8.36396431e-01,  8.97601239e-01,  8.73088971e-01,  8.73104014e-01,\n",
       "        8.17782815e-01,  9.25178308e-01,  9.00575637e-01,  8.64960442e-01,\n",
       "        8.25770863e-01,  8.71606773e-01,  8.18415742e-01,  8.21725772e-01,\n",
       "        8.53871084e-01,  8.57123047e-01,  9.27557888e-01,  9.62418117e-01,\n",
       "        9.28786900e-01,  8.79043892e-01,  8.26318482e-01,  8.14796044e-01,\n",
       "        8.17990645e-01,  7.91844055e-01,  7.51723762e-01,  8.48271683e-01,\n",
       "        8.52596194e-01,  7.90980404e-01,  7.59148873e-01,  9.23848595e-01,\n",
       "        8.99849312e-01,  9.09273251e-01,  9.00708452e-01,  7.62087662e-01,\n",
       "        8.29919044e-01,  8.17192584e-01,  7.04974164e-01,  8.96722937e-01,\n",
       "        9.33827785e-01,  8.86153333e-01,  8.92950940e-01,  9.28529293e-01,\n",
       "        9.57738844e-01,  9.46472646e-01,  9.03729128e-01,  9.32554236e-01,\n",
       "        8.96015944e-01,  9.46769837e-01,  9.28016639e-01,  9.53777611e-01,\n",
       "        9.14241529e-01,  9.21730747e-01,  9.60399993e-01,  9.17306998e-01,\n",
       "        8.62728902e-01,  8.82453287e-01,  8.94374076e-01,  9.14272196e-01,\n",
       "        8.99428455e-01,  9.09450619e-01,  9.27577538e-01,  9.09411254e-01,\n",
       "        8.74030681e-01,  9.83282880e-01,  9.92609722e-01,  9.27883429e-01,\n",
       "        8.98419607e-01,  9.11009677e-01,  9.07754677e-01,  8.39612924e-01,\n",
       "        9.36787081e-01,  9.32633434e-01,  8.82095138e-01,  9.11453948e-01,\n",
       "        8.29090435e-01,  8.20341611e-01,  8.93362268e-01,  8.72079284e-01,\n",
       "        8.68467236e-01,  8.84826165e-01,  8.71024254e-01,  8.66777365e-01,\n",
       "        9.04192563e-01,  9.16816413e-01,  9.04664628e-01,  8.37457803e-01,\n",
       "        8.97850692e-01,  9.24146993e-01,  9.26013347e-01,  8.96342236e-01,\n",
       "        8.96753944e-01,  9.56789110e-01,  7.59079667e-01,  9.38264082e-01,\n",
       "        8.39210059e-01,  8.74445261e-01,  9.09324001e-01,  8.68836951e-01,\n",
       "        8.13092790e-01,  8.33626839e-01,  8.46139654e-01,  8.90909921e-01,\n",
       "        9.21670840e-01,  8.99950395e-01,  9.04150327e-01,  9.23486434e-01,\n",
       "        9.26842578e-01,  9.57133776e-01,  9.55457392e-01,  9.75403714e-01,\n",
       "        8.54501475e-01,  8.68397571e-01,  8.02460027e-01,  7.89368529e-01,\n",
       "        9.69702540e-01,  9.27577775e-01,  9.11411559e-01,  8.99336363e-01,\n",
       "        8.53379617e-01,  7.55091497e-01,  7.00583822e-01,  7.85974464e-01,\n",
       "        7.17744927e-01,  7.97602443e-01,  8.12475606e-01,  8.07147204e-01,\n",
       "        9.17604256e-01,  8.98507451e-01,  9.03891242e-01,  9.38875177e-01,\n",
       "        9.08298641e-01,  8.94397354e-01,  9.36630926e-01,  9.37593462e-01,\n",
       "        9.47103218e-01,  9.65304686e-01,  9.68697971e-01,  9.76292998e-01,\n",
       "        8.68833611e-01,  8.34499943e-01,  8.65877860e-01,  9.00798515e-01,\n",
       "        8.65826008e-01,  8.41444573e-01,  8.90847363e-01,  7.41599643e-01,\n",
       "        8.02560614e-01,  8.17656689e-01,  8.03885363e-01,  7.84943517e-01,\n",
       "        4.31262522e-01,  3.20332885e-01,  5.47789118e-01,  7.03160476e-01,\n",
       "        8.22837509e-01,  9.08127787e-01,  8.85461481e-01,  9.40692395e-01,\n",
       "        9.41242173e-01,  9.60101288e-01,  9.46345939e-01,  9.29684856e-01,\n",
       "        9.38358832e-01,  9.52346698e-01,  9.43173469e-01,  9.02383612e-01,\n",
       "        9.27550678e-01, -8.82343175e+27])"
      ]
     },
     "execution_count": 34,
     "metadata": {},
     "output_type": "execute_result"
    }
   ],
   "source": [
    "svd_model['lastRowObservations']\n",
    "svd_model['Ukw'] # Vkw skw\n",
    "svd_model['forecast_model_score']"
   ]
  },
  {
   "cell_type": "markdown",
   "metadata": {},
   "source": [
    "Obtain admm $\\tilde{X}^{T^+}_{\\text{admm}} = US^{-1}S^{-1}U^T\\tilde{X}y$"
   ]
  },
  {
   "cell_type": "code",
   "execution_count": 35,
   "metadata": {},
   "outputs": [
    {
     "name": "stdout",
     "output_type": "stream",
     "text": [
      "(79,)\n"
     ]
    },
    {
     "data": {
      "text/plain": [
       "array([ 0.06055375,  0.03043717, -0.01696876, -0.00968472,  0.00047129,\n",
       "       -0.02505868, -0.15382426,  0.13943703,  0.01219771,  0.0070367 ])"
      ]
     },
     "execution_count": 35,
     "metadata": {},
     "output_type": "execute_result"
    }
   ],
   "source": [
    "# verify weights_admm using sklearn\n",
    "from sklearn.linear_model import LinearRegression\n",
    "reg = LinearRegression(fit_intercept=False).fit(P_tilde_admm_hat.T, y_admm)\n",
    "weights_LR = reg.coef_\n",
    "print(weights_LR.shape)\n",
    "weights_LR[:10]"
   ]
  },
  {
   "cell_type": "code",
   "execution_count": 36,
   "metadata": {},
   "outputs": [
    {
     "name": "stdout",
     "output_type": "stream",
     "text": [
      "(79,)\n"
     ]
    },
    {
     "data": {
      "text/plain": [
       "array([ 0.00042177, -0.00758506,  0.0032075 , -0.02188147,  0.01117497,\n",
       "       -0.01817971, -0.14854132,  0.19439216,  0.02367364,  0.01271351])"
      ]
     },
     "execution_count": 36,
     "metadata": {},
     "output_type": "execute_result"
    }
   ],
   "source": [
    "# verify weights_admm using sklearn\n",
    "from sklearn.linear_model import LinearRegression\n",
    "reg = LinearRegression(fit_intercept=False).fit(P_tilde_sd_hat.T, y_sd)\n",
    "weights_sd = reg.coef_\n",
    "print(weights_sd.shape)\n",
    "weights_sd[:10]"
   ]
  },
  {
   "cell_type": "code",
   "execution_count": 37,
   "metadata": {},
   "outputs": [
    {
     "name": "stdout",
     "output_type": "stream",
     "text": [
      "0.758721722374327\n",
      "0.9803728779333002\n",
      "0.9082238476878649\n"
     ]
    }
   ],
   "source": [
    "ypred_admm =  weights_LR @ P_tilde_admm_hat\n",
    "ypred1_admm = ypred_admm[:M_ts]\n",
    "ypred20_admm = ypred_admm[-M_ts:]\n",
    "forecast_model_score1_admm = r2_score(y_true[:M_ts], ypred1_admm)\n",
    "forecast_model_score20_admm = r2_score(y_true[-M_ts:], ypred20_admm)\n",
    "forecast_model_score_admm = r2_score(y_true, ypred_admm)\n",
    "print(forecast_model_score1_admm)\n",
    "print(forecast_model_score20_admm)\n",
    "print(forecast_model_score_admm)"
   ]
  },
  {
   "cell_type": "code",
   "execution_count": 38,
   "metadata": {},
   "outputs": [
    {
     "name": "stdout",
     "output_type": "stream",
     "text": [
      "0.7224166475730223\n",
      "0.9774291614327283\n",
      "0.9114923375137827\n"
     ]
    }
   ],
   "source": [
    "ypred_sd =  weights_sd @ P_tilde_sd_hat\n",
    "ypred1_sd = ypred_sd[:M_ts]\n",
    "ypred20_sd = ypred_sd[-M_ts:]\n",
    "forecast_model_score1_sd = r2_score(y_true[:M_ts], ypred1_sd)\n",
    "forecast_model_score20_sd = r2_score(y_true[-M_ts:], ypred20_sd)\n",
    "forecast_model_score_sd = r2_score(y_true, ypred_sd)\n",
    "print(forecast_model_score1_sd)\n",
    "print(forecast_model_score20_sd)\n",
    "print(forecast_model_score_sd)"
   ]
  },
  {
   "cell_type": "code",
   "execution_count": 39,
   "metadata": {},
   "outputs": [
    {
     "name": "stdout",
     "output_type": "stream",
     "text": [
      "-9.97180980222299e+25\n"
     ]
    },
    {
     "data": {
      "text/plain": [
       "array([ 7.05163571e-01,  7.71531878e-01,  9.62787003e-01,  8.74369357e-01,\n",
       "        7.05052278e-01,  7.61813867e-01,  8.85447548e-01,  8.64359432e-01,\n",
       "        7.79118799e-01,  9.01937870e-01, -4.22524242e-01, -1.37540739e-01,\n",
       "        8.68843169e-01,  8.38566855e-01,  9.13056180e-01,  8.70598440e-01,\n",
       "        9.12281559e-01,  9.10207818e-01,  9.46222663e-01,  8.95028126e-01,\n",
       "        8.32272836e-01,  8.57883122e-01,  8.95170046e-01,  8.35418478e-01,\n",
       "        8.26911673e-01,  9.66733583e-01,  9.90583316e-01,  9.87316779e-01,\n",
       "        8.84596363e-01,  8.60840342e-01,  8.60557114e-01,  8.75183985e-01,\n",
       "        8.88847479e-01,  8.97671636e-01,  8.68546468e-01,  8.68442147e-01,\n",
       "        8.11652388e-01,  7.84960665e-01,  7.92647087e-01,  8.07261314e-01,\n",
       "        8.17575151e-01,  9.00287330e-01,  8.90930615e-01,  8.97438461e-01,\n",
       "        8.48624055e-01,  0.00000000e+00,  9.61412018e-01,  9.25452302e-01,\n",
       "        9.74568783e-01,  9.65552561e-01,  9.58656007e-01,  9.69624011e-01,\n",
       "        9.60989560e-01,  9.68692113e-01,  9.75835454e-01,  9.76036851e-01,\n",
       "        9.72087911e-01, -1.57770364e+27,  9.95276803e-01,  9.84310699e-01,\n",
       "        9.35479355e-01,  9.26588559e-01,  9.26553972e-01,  8.87807164e-01,\n",
       "        8.81499236e-01,  7.48745649e-01,  7.59418829e-01,  7.23029698e-01,\n",
       "        6.76860595e-01,  8.38042621e-01,  7.87306443e-01,  8.39159874e-01,\n",
       "        8.98289682e-01,  8.27776102e-01,  6.89551111e-01,  6.47809117e-01,\n",
       "        7.67406890e-01,  8.68970870e-01,  8.71501908e-01,  7.98025415e-01,\n",
       "        8.01803470e-01,  8.39377162e-01,  8.48928529e-01,  8.56437709e-01,\n",
       "        9.33352641e-01,  9.36586706e-01,  9.18592631e-01,  8.98872477e-01,\n",
       "        9.37346418e-01,  8.78912748e-01,  8.65071526e-01,  8.70929539e-01,\n",
       "        8.46312975e-01,  9.68160261e-01,  8.04734367e-01,  8.34479580e-01,\n",
       "        8.79987922e-01,  6.78476207e-01,  7.32229758e-01,  6.96321752e-01,\n",
       "        8.84472847e-01,  8.43969729e-01,  8.71823542e-01,  8.47457983e-01,\n",
       "        8.44372719e-01,  8.97967826e-01,  8.97647004e-01,  9.26414140e-01,\n",
       "        9.25865945e-01,  9.27209149e-01,  8.98763085e-01,  9.15921700e-01,\n",
       "        9.31408462e-01,  8.88515503e-01,  8.61445730e-01,  8.59933620e-01,\n",
       "        8.54879386e-01,  9.42911487e-01, -2.49142749e+27,  9.90433117e-01,\n",
       "        9.40174843e-01,  8.45765858e-01,  7.14052484e-01,  7.27495378e-01,\n",
       "        7.88717239e-01,  9.22170476e-01,  9.94815622e-01,  8.48633727e-01,\n",
       "        8.73123228e-01,  9.89236280e-01,  9.86192687e-01,  9.08711984e-01,\n",
       "        9.30305862e-01,  9.47017516e-01,  9.38179095e-01,  9.51015970e-01,\n",
       "        9.34793651e-01,  9.06742060e-01,  6.99288350e-01,  7.14898713e-01,\n",
       "        8.05423667e-01,  7.08440265e-01,  9.63918694e-01,  9.68915368e-01,\n",
       "        9.55990316e-01,  9.48877763e-01,  9.33294219e-01,  8.99852331e-01,\n",
       "        9.12308414e-01,  9.22183033e-01,  9.03696725e-01,  9.16059757e-01,\n",
       "        9.23771648e-01,  9.27677351e-01, -5.34710739e+27, -5.34710739e+27,\n",
       "        9.49375811e-01,  8.29993307e-01,  6.34855236e-01,  7.60979320e-01,\n",
       "        9.31546802e-01,  8.59775969e-01, -6.65445930e+27, -6.65445930e+27,\n",
       "        9.92287766e-01,  9.17849614e-01,  7.78173439e-01,  6.74977657e-01,\n",
       "        8.14505277e-01,  7.08329687e-01,  7.89189441e-01,  7.98631269e-01,\n",
       "        8.62215188e-01,  7.69130488e-01,  8.09715043e-01,  8.18753005e-01,\n",
       "        8.91047608e-01,  8.97507768e-01,  8.54293429e-01,  8.79403344e-01,\n",
       "        8.76949104e-01,  9.17226296e-01,  8.99747494e-01,  8.80044899e-01,\n",
       "        8.82854546e-01,  9.00261997e-01,  7.59640208e-01,  8.51587690e-01,\n",
       "        8.21502577e-01,  8.55928610e-01,  9.06961312e-01,  8.81363280e-01,\n",
       "        9.29751989e-01,  8.41597310e-01,  8.57270042e-01,  8.53204539e-01,\n",
       "        7.97583318e-01,  8.74587246e-01,  9.12503057e-01,  8.91885711e-01,\n",
       "        8.90088065e-01,  9.28867988e-01,  8.17840993e-01,  7.91439835e-01,\n",
       "        8.36396431e-01,  8.97601239e-01,  8.73088971e-01,  8.73104014e-01,\n",
       "        8.17782815e-01,  9.25178308e-01,  9.00575637e-01,  8.64960442e-01,\n",
       "        8.25770863e-01,  8.71606773e-01,  8.18415742e-01,  8.21725772e-01,\n",
       "        8.53871084e-01,  8.57123047e-01,  9.27557888e-01,  9.62418117e-01,\n",
       "        9.28786900e-01,  8.79043892e-01,  8.26318482e-01,  8.14796044e-01,\n",
       "        8.17990645e-01,  7.91844055e-01,  7.51723762e-01,  8.48271683e-01,\n",
       "        8.52596194e-01,  7.90980404e-01,  7.59148873e-01,  9.23848595e-01,\n",
       "        8.99849312e-01,  9.09273251e-01,  9.00708452e-01,  7.62087662e-01,\n",
       "        8.29919044e-01,  8.17192584e-01,  7.04974164e-01,  8.96722937e-01,\n",
       "        9.33827785e-01,  8.86153333e-01,  8.92950940e-01,  9.28529293e-01,\n",
       "        9.57738844e-01,  9.46472646e-01,  9.03729128e-01,  9.32554236e-01,\n",
       "        8.96015944e-01,  9.46769837e-01,  9.28016639e-01,  9.53777611e-01,\n",
       "        9.14241529e-01,  9.21730747e-01,  9.60399993e-01,  9.17306998e-01,\n",
       "        8.62728902e-01,  8.82453287e-01,  8.94374076e-01,  9.14272196e-01,\n",
       "        8.99428455e-01,  9.09450619e-01,  9.27577538e-01,  9.09411254e-01,\n",
       "        8.74030681e-01,  9.83282880e-01,  9.92609722e-01,  9.27883429e-01,\n",
       "        8.98419607e-01,  9.11009677e-01,  9.07754677e-01,  8.39612924e-01,\n",
       "        9.36787081e-01,  9.32633434e-01,  8.82095138e-01,  9.11453948e-01,\n",
       "        8.29090435e-01,  8.20341611e-01,  8.93362268e-01,  8.72079284e-01,\n",
       "        8.68467236e-01,  8.84826165e-01,  8.71024254e-01,  8.66777365e-01,\n",
       "        9.04192563e-01,  9.16816413e-01,  9.04664628e-01,  8.37457803e-01,\n",
       "        8.97850692e-01,  9.24146993e-01,  9.26013347e-01,  8.96342236e-01,\n",
       "        8.96753944e-01,  9.56789110e-01,  7.59079667e-01,  9.38264082e-01,\n",
       "        8.39210059e-01,  8.74445261e-01,  9.09324001e-01,  8.68836951e-01,\n",
       "        8.13092790e-01,  8.33626839e-01,  8.46139654e-01,  8.90909921e-01,\n",
       "        9.21670840e-01,  8.99950395e-01,  9.04150327e-01,  9.23486434e-01,\n",
       "        9.26842578e-01,  9.57133776e-01,  9.55457392e-01,  9.75403714e-01,\n",
       "        8.54501475e-01,  8.68397571e-01,  8.02460027e-01,  7.89368529e-01,\n",
       "        9.69702540e-01,  9.27577775e-01,  9.11411559e-01,  8.99336363e-01,\n",
       "        8.53379617e-01,  7.55091497e-01,  7.00583822e-01,  7.85974464e-01,\n",
       "        7.17744927e-01,  7.97602443e-01,  8.12475606e-01,  8.07147204e-01,\n",
       "        9.17604256e-01,  8.98507451e-01,  9.03891242e-01,  9.38875177e-01,\n",
       "        9.08298641e-01,  8.94397354e-01,  9.36630926e-01,  9.37593462e-01,\n",
       "        9.47103218e-01,  9.65304686e-01,  9.68697971e-01,  9.76292998e-01,\n",
       "        8.68833611e-01,  8.34499943e-01,  8.65877860e-01,  9.00798515e-01,\n",
       "        8.65826008e-01,  8.41444573e-01,  8.90847363e-01,  7.41599643e-01,\n",
       "        8.02560614e-01,  8.17656689e-01,  8.03885363e-01,  7.84943517e-01,\n",
       "        4.31262522e-01,  3.20332885e-01,  5.47789118e-01,  7.03160476e-01,\n",
       "        8.22837509e-01,  9.08127787e-01,  8.85461481e-01,  9.40692395e-01,\n",
       "        9.41242173e-01,  9.60101288e-01,  9.46345939e-01,  9.29684856e-01,\n",
       "        9.38358832e-01,  9.52346698e-01,  9.43173469e-01,  9.02383612e-01,\n",
       "        9.27550678e-01, -8.82343175e+27])"
      ]
     },
     "execution_count": 39,
     "metadata": {},
     "output_type": "execute_result"
    }
   ],
   "source": [
    "print(svd_model['forecast_model_score'].mean())\n",
    "svd_model['forecast_model_score']"
   ]
  },
  {
   "cell_type": "markdown",
   "metadata": {},
   "source": [
    "## Prediction \n",
    "\n",
    "### Foracsting One hour ahead for the next  day\n",
    "\n",
    "Let's  start by forecasting the first day for user `MT_020` and compare it visually with the test data.  Now we will produce the forecast for the next day using `predict` for the range `2014-12-18 01:00:00` to `2014-12-19  00:00:00` along with the 95% confidence interval.\n",
    "\n"
   ]
  },
  {
   "cell_type": "code",
   "execution_count": 40,
   "metadata": {},
   "outputs": [
    {
     "name": "stdout",
     "output_type": "stream",
     "text": [
      "(25968, 370)\n"
     ]
    }
   ],
   "source": [
    "model = mSSA(rank = 20, normalize = False, L=80)\n",
    "# model\n",
    "model.update_model(data_train)"
   ]
  },
  {
   "cell_type": "code",
   "execution_count": 41,
   "metadata": {},
   "outputs": [
    {
     "name": "stdout",
     "output_type": "stream",
     "text": [
      "(25968, 370)\n"
     ]
    }
   ],
   "source": [
    "model_my = mSSA(rank = 20, normalize = False, L=L)\n",
    "# model\n",
    "model_my.update_model(data_train)"
   ]
  },
  {
   "cell_type": "code",
   "execution_count": 42,
   "metadata": {},
   "outputs": [
    {
     "name": "stdout",
     "output_type": "stream",
     "text": [
      "(25968, 370)\n"
     ]
    }
   ],
   "source": [
    "model_sd = mSSA(rank = 20, normalize = False, L=L)\n",
    "# model\n",
    "model_sd.update_model(data_train)"
   ]
  },
  {
   "cell_type": "code",
   "execution_count": 43,
   "metadata": {},
   "outputs": [],
   "source": [
    "model_my.ts_model.models[0].weights = weights_LR\n",
    "model_sd.ts_model.models[0].weights = weights_sd"
   ]
  },
  {
   "cell_type": "code",
   "execution_count": 44,
   "metadata": {},
   "outputs": [],
   "source": [
    "def predict_one_day(data_test, model, weights):\n",
    "\n",
    "    #initialise prediction array\n",
    "    predictions = np.zeros((len(data_test.columns),24*7))\n",
    "    ub = np.zeros((len(data_test.columns),24*7))\n",
    "    lb = np.zeros((len(data_test.columns),24*7))\n",
    "\n",
    "    # specify start time\n",
    "    start_time = pd.Timestamp('2014-12-18 01:00:00')\n",
    "\n",
    "    # actual = data_test.values[:24*7,:]\n",
    "\n",
    "    # obtain new actual by index, new test start from 2014-12-02-17:00\n",
    "    actual = data_test[data_test.index>=start_time].values[:24*7,:]\n",
    "\n",
    "    # predict for seven days\n",
    "    days = 7\n",
    "\n",
    "    for day in range(days):\n",
    "        # get the final time stamp in the day\n",
    "        end_time = start_time + pd.Timedelta(hours=23)\n",
    "        # convert timestamps to string\n",
    "        start_str = start_time.strftime('%Y-%m-%d %H:%M:%S')\n",
    "        end_str = end_time.strftime('%Y-%m-%d %H:%M:%S')\n",
    "        # predict for each house\n",
    "        for i, column in enumerate(data_test.columns):\n",
    "            # Forecast\n",
    "            df_30 = model.predict(column,start_str,end_str)\n",
    "            predictions[i,day*24:(day+1)*24] = df_30['Mean Predictions']\n",
    "            ub[i,day*24:(day+1)*24] = df_30['Upper Bound']\n",
    "            lb[i,day*24:(day+1)*24] = df_30['Lower Bound']\n",
    "\n",
    "        # fit the model with the already predicted values \n",
    "\n",
    "        # df_insert = data_test.iloc[day*24:24*(day+1),:]\n",
    "\n",
    "        # obtain new df_insert\n",
    "        # df_insert = data_test[data_test.index>=start_time].iloc[day*24:24*(day+1),:]\n",
    "\n",
    "        # model.update_model(df_insert)\n",
    "    \n",
    "        if weights is not None:\n",
    "            model.ts_model.models[0].weights = weights\n",
    "\n",
    "        # update start_time\n",
    "        start_time = start_time + pd.Timedelta(hours=24)\n",
    "    return actual, predictions"
   ]
  },
  {
   "cell_type": "code",
   "execution_count": 45,
   "metadata": {},
   "outputs": [],
   "source": [
    "def test_sd(data_train, data_test, L, n_users, M_ts, dim, days, plot_all):\n",
    "    flattened_obs, M_ts = get_flattened_obs(data_train, L=L)\n",
    "    # stand-alone ssa\n",
    "    global window;\n",
    "    window = M_ts\n",
    "    lst_U_sd = []\n",
    "    for i in range(n_users):\n",
    "        data = flattened_obs[:,i*window:(i+1)*window]\n",
    "        U,_,_ = np.linalg.svd(data)\n",
    "        U = U[:,:dim]\n",
    "        lst_U_sd.append(U)\n",
    "        \n",
    "    model_sd = mSSA(rank = dim, normalize = False, L=L)\n",
    "    model_sd.update_model(data_train)\n",
    "\n",
    "    P_sd = flattened_obs\n",
    "    P_sd_hat = []\n",
    "    y_sd = []\n",
    "    y_true = P_sd[-1,:]\n",
    "    P_tilde_sd_hat = []\n",
    "    imputation_model_score_sd = []\n",
    "    \n",
    "    for i in range(n_users):\n",
    "        P_i_sd = P_sd[:,int(i*window):int((i+1)*window)]\n",
    "        P_i_sd_hat = lst_U_sd[i].dot(lst_U_sd[i].T.dot(P_i_sd)); P_sd_hat.append(P_i_sd_hat)\n",
    "        y_i_sd = P_i_sd_hat[-1,:]; y_sd.append(y_i_sd)\n",
    "        y_i_true = P_i_sd[-1,:]\n",
    "        P_i_tilde_sd_hat = P_i_sd_hat[:-1,:]; P_tilde_sd_hat.append(P_i_tilde_sd_hat)\n",
    "        imputation_model_score_sd.append(r2_score(P_i_sd.flatten('F'),P_i_sd_hat.flatten('F'))) # verified same as imputation_model_score)\n",
    "    imputation_model_score_sd = np.array(imputation_model_score_sd)\n",
    "    P_sd_hat = np.hstack(P_sd_hat)\n",
    "    y_sd = np.hstack(y_sd)\n",
    "    P_tilde_sd_hat = np.hstack(P_tilde_sd_hat)\n",
    "    print(\"imputation score:\", imputation_model_score_sd.mean())\n",
    "\n",
    "    # verify weights_admm using sklearn\n",
    "    from sklearn.linear_model import LinearRegression\n",
    "    reg = LinearRegression(fit_intercept=False).fit(P_tilde_sd_hat.T, y_sd)\n",
    "    weights_sd = reg.coef_\n",
    "    \n",
    "    model_sd.ts_model.models[0].weights = weights_sd\n",
    "    \n",
    "    actual, predictions_sd = predict_one_day(data_test, model_sd, weights_sd)\n",
    "\n",
    "    Y = actual[:,:]\n",
    "    Y_h_sd = predictions_sd.T[:,:]\n",
    "    mse_sd = np.sqrt(np.mean(np.square(Y[:7*days]-Y_h_sd[:7*days])))\n",
    "    print ('Forecasting accuracy (RMSE) my:',mse_sd)\n",
    "    \n",
    "    if plot_all:\n",
    "        npar = np.arange(0,20)\n",
    "    else: npar = [1]\n",
    "    for i in npar:\n",
    "        plt.figure()\n",
    "        plt.title('forecasting the next seven days for %s'%data_test.columns[i])\n",
    "#         plt.plot(predictions[i,:24*days],label= 'mSSA',color='green')\n",
    "#         plt.plot(predictions_my[i,:24*days],label= 'FedmSSA',color='orange')\n",
    "        plt.plot(predictions_sd[i,:24*days],label= 'sd',color='pink')\n",
    "        plt.plot(actual[:24*days,i],label = 'actual',color='blue')\n",
    "        plt.legend()\n",
    "    plt.show()\n",
    "    \n",
    "    return Y, Y_h_sd, weights_sd, lst_U_sd"
   ]
  },
  {
   "cell_type": "code",
   "execution_count": 46,
   "metadata": {},
   "outputs": [],
   "source": [
    "def test_my(data_train, data_test, L, n_users, M_ts, dim, days, plot_all):\n",
    "\n",
    "    flattened_obs, M_ts = get_flattened_obs(data_train, L=L)\n",
    "\n",
    "    # model\n",
    "    model_my = mSSA(rank = dim, normalize = False, L=L)\n",
    "    # model\n",
    "    model_my.update_model(data_train)\n",
    "\n",
    "    P_admm = flattened_obs\n",
    "    file_name = f\"../SSA/Grassmann_ADMM_Elec20_N370_L80_d80_rhoauto_imputation.npy\"\n",
    "    Uk_admm = np.load(file_name)\n",
    "    \n",
    "    \n",
    "    # Select PCs by Sigma\n",
    "    lst_U = []\n",
    "    for i in range(n_users):\n",
    "        proj_admm_i = Uk_admm.T.dot(P_admm[:,i*M_ts:(i+1)*M_ts])\n",
    "        S2_admm_i_est = proj_admm_i.dot(proj_admm_i.T)\n",
    "        S2_admm_i = np.diag(S2_admm_i_est)\n",
    "        S_admm_i = np.sqrt(S2_admm_i)\n",
    "        Uk_admm_i = Uk_admm[:,S_admm_i.argsort()[::-1][:dim]] # 针对每一个client，取Uk的那20列，which 取决于 S_admm的大小\n",
    "        lst_U.append(Uk_admm_i)\n",
    "    \n",
    "    # Select PCs randomly\n",
    "#     select_idx = np.random.choice(np.arange(L),dim,replace=False)\n",
    "#     lst_U = []\n",
    "#     for i in range(n_users):\n",
    "#         lst_U.append(Uk_admm[:,:dim])\n",
    "#     print(\"Uk shape: \", lst_U[0].shape)\n",
    "\n",
    "    imputation_model_score_admm = []\n",
    "    \n",
    "    P_admm_hat = []\n",
    "    y_admm = []\n",
    "    y_true = P_admm[-1,:]\n",
    "    P_tilde_admm_hat = []\n",
    "    window = M_ts\n",
    "    for i in range(n_users):\n",
    "        P_i_admm = P_admm[:,int(i*window):int((i+1)*window)]\n",
    "        P_i_admm_hat = lst_U[i].dot(lst_U[i].T.dot(P_i_admm)); P_admm_hat.append(P_i_admm_hat)\n",
    "        y_i_admm = P_i_admm_hat[-1,:]; y_admm.append(y_i_admm)\n",
    "        y_i_true = P_i_admm[-1,:]\n",
    "        P_i_tilde_admm_hat = P_i_admm_hat[:-1,:]; P_tilde_admm_hat.append(P_i_tilde_admm_hat)\n",
    "        imputation_model_score_admm.append(r2_score(P_i_admm.flatten('F'),P_i_admm_hat.flatten('F'))) # verified same as imputation_model_score)\n",
    "    imputation_model_score_admm = np.array(imputation_model_score_admm)\n",
    "    P_admm_hat = np.hstack(P_admm_hat)\n",
    "    y_admm = np.hstack(y_admm)\n",
    "    P_tilde_admm_hat = np.hstack(P_tilde_admm_hat)\n",
    "\n",
    "    print(\"imputation score\", imputation_model_score_admm.mean())\n",
    "\n",
    "    # verify weights_admm using sklearn\n",
    "    from sklearn.linear_model import LinearRegression\n",
    "    reg = LinearRegression(fit_intercept=False).fit(P_tilde_admm_hat.T, y_admm)\n",
    "    weights_LR = reg.coef_\n",
    "    \n",
    "    model_my.ts_model.models[0].weights = weights_LR\n",
    "    \n",
    "    actual, predictions_my = predict_one_day(data_test, model_my, weights_LR)\n",
    "\n",
    "    Y = actual[:,:]\n",
    "    Y_h_my = predictions_my.T[:,:]\n",
    "    mse_my = np.sqrt(np.mean(np.square(Y[:7*days]-Y_h_my[:7*days])))\n",
    "    print ('Forecasting accuracy (RMSE) my:',mse_my)\n",
    "    \n",
    "    if plot_all:\n",
    "        npar = np.arange(0,25)\n",
    "    else: npar = [1]\n",
    "    for i in npar:\n",
    "        plt.figure()\n",
    "        plt.title('forecasting the next seven days for %s'%data_test.columns[i])\n",
    "#         plt.plot(predictions[i,:24*7],label= 'mSSA',color='green')\n",
    "        plt.plot(predictions_my[i,:24*days],label= 'FedmSSA',color='orange')\n",
    "    #     plt.plot(predictions_sd[i,:24*7],label= 'sd',color='pink')\n",
    "    #     plt.fill_between(np.arange(24*7), lb[i,:24*7], ub[i,:24*7], alpha = 0.1)\n",
    "        plt.plot(actual[:24*days,i],label = 'actual',color='blue')\n",
    "        plt.legend()\n",
    "    plt.show()\n",
    "    \n",
    "    return Y, Y_h_my, weights_LR, lst_U\n"
   ]
  },
  {
   "cell_type": "code",
   "execution_count": 47,
   "metadata": {},
   "outputs": [],
   "source": [
    "def test_mssa(data_train, data_test, rank, L, n_users, days, plot_all):\n",
    "    data_train = data_train.iloc[:,:n_users]\n",
    "    data_test = data_test.iloc[:,:n_users]\n",
    "    model = mSSA(rank = rank, normalize = False, L=L)\n",
    "    # model\n",
    "    model.update_model(data_train)\n",
    "    actual, predictions = predict_one_day(data_test, model, None)\n",
    "\n",
    "    Y = actual[:,:]\n",
    "    Y_h = predictions.T[:,:]\n",
    "    mse = np.sqrt(np.mean(np.square(Y[:7*days]-Y_h[:7*days])))\n",
    "    print ('Forecasting accuracy (RMSE):',mse)\n",
    "    \n",
    "    if plot_all:\n",
    "        npar = np.arange(0,20)\n",
    "    else: npar = [1]\n",
    "    for i in npar:\n",
    "        plt.figure()\n",
    "        plt.title('forecasting the next seven days for %s'%data_test.columns[i])\n",
    "        plt.plot(predictions[i,:24*days],label= 'mSSA',color='green')\n",
    "#         plt.plot(predictions_my[i,:24*7],label= 'FedmSSA',color='orange')\n",
    "    #     plt.plot(predictions_sd[i,:24*7],label= 'sd',color='pink')\n",
    "    #     plt.fill_between(np.arange(24*7), lb[i,:24*7], ub[i,:24*7], alpha = 0.1)\n",
    "        plt.plot(actual[:24*days,i],label = 'actual',color='blue')\n",
    "        plt.legend()\n",
    "    plt.show()\n",
    "    \n",
    "    return Y, Y_h, model.ts_model.models[0].weights"
   ]
  },
  {
   "cell_type": "code",
   "execution_count": 73,
   "metadata": {},
   "outputs": [
    {
     "name": "stdout",
     "output_type": "stream",
     "text": [
      "(25968, 370)\n",
      "imputation score: 0.9999471664370172\n",
      "Forecasting accuracy (RMSE) my: 0.294990277751111\n"
     ]
    },
    {
     "data": {
      "image/png": "[encoded data removed]",
      "text/plain": [
       "<Figure size 432x288 with 1 Axes>"
      ]
     },
     "metadata": {
      "needs_background": "light"
     },
     "output_type": "display_data"
    }
   ],
   "source": [
    "for dim in [1]:\n",
    "    Y1, Y_sd, weights_sd, lst_U_sd = test_sd(data_train, data_test, L=80, n_users=370, M_ts=window, dim=79, days=2, plot_all=False)"
   ]
  },
  {
   "cell_type": "code",
   "execution_count": 75,
   "metadata": {},
   "outputs": [
    {
     "name": "stdout",
     "output_type": "stream",
     "text": [
      "(25968, 370)\n",
      "Forecasting accuracy (RMSE): 0.38772855120008515\n"
     ]
    },
    {
     "data": {
      "image/png": "[encoded data removed]",
      "text/plain": [
       "<Figure size 432x288 with 1 Axes>"
      ]
     },
     "metadata": {
      "needs_background": "light"
     },
     "output_type": "display_data"
    }
   ],
   "source": [
    "for rank in [15]:\n",
    "    Y2, Y_mssa, weights_mssa = test_mssa(data_train, data_test, rank=20, L=80, n_users=370, days=2, plot_all=False)"
   ]
  },
  {
   "cell_type": "code",
   "execution_count": 72,
   "metadata": {},
   "outputs": [
    {
     "name": "stdout",
     "output_type": "stream",
     "text": [
      "(25968, 370)\n",
      "imputation score 0.9986062608520337\n",
      "Forecasting accuracy (RMSE) my: 0.29686218615795557\n"
     ]
    },
    {
     "data": {
      "image/png": "[encoded data removed]",
      "text/plain": [
       "<Figure size 432x288 with 1 Axes>"
      ]
     },
     "metadata": {
      "needs_background": "light"
     },
     "output_type": "display_data"
    }
   ],
   "source": [
    "Y3, Y_my, weights_my, lst_U_my = test_my(data_train, data_test, L=80, n_users=370, M_ts=window, dim=79, days=2, plot_all=False)"
   ]
  }
 ],
 "metadata": {
  "kernelspec": {
   "display_name": "Python 3.6.2 64-bit",
   "language": "python",
   "name": "python3"
  },
  "language_info": {
   "codemirror_mode": {
    "name": "ipython",
    "version": 3
   },
   "file_extension": ".py",
   "mimetype": "text/x-python",
   "name": "python",
   "nbconvert_exporter": "python",
   "pygments_lexer": "ipython3",
   "version": "3.6.2"
  },
  "orig_nbformat": 4,
  "vscode": {
   "interpreter": {
    "hash": "d1e19dcd35cebc7686e25e67905e0c169d820e97a342a12d63e068e8c4ead6c2"
   }
  }
 },
 "nbformat": 4,
 "nbformat_minor": 2
}
