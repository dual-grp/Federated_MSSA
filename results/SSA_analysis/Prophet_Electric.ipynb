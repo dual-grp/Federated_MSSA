{
  "cells": [
    {
      "cell_type": "code",
      "execution_count": 1,
      "metadata": {
        "colab": {
          "base_uri": "https://localhost:8080/"
        },
        "id": "oeKm8U_4UEBa",
        "outputId": "e0b0429f-7625-4432-e5bb-d1c2ca856431"
      },
      "outputs": [],
      "source": [
        "# !pip install --upgrade mxnet==1.6.0\n",
        "# !pip install gluonts\n",
        "# !pip install prophet"
      ]
    },
    {
      "cell_type": "code",
      "execution_count": 2,
      "metadata": {
        "id": "2uQpKYSqUaZr"
      },
      "outputs": [],
      "source": [
        "# Import libraries\n",
        "import os\n",
        "import numpy as np\n",
        "import torch\n",
        "import pandas as pd"
      ]
    },
    {
      "cell_type": "code",
      "execution_count": 3,
      "metadata": {
        "colab": {
          "base_uri": "https://localhost:8080/"
        },
        "id": "Oon7ogK-UuxC",
        "outputId": "e1f62d01-e691-4097-bb66-98fc1b408fec"
      },
      "outputs": [
        {
          "name": "stdout",
          "output_type": "stream",
          "text": [
            "Files are ready\n"
          ]
        }
      ],
      "source": [
        "# Download Electricity Dataset\n",
        "file = \"LD2011_2014_clean.txt\"\n",
        "isExist = os.path.exists(file)\n",
        "if not isExist:\n",
        "    !wget https://archive.ics.uci.edu/ml/machine-learning-databases/00321/LD2011_2014.txt.zip\n",
        "    !unzip LD2011_2014.txt.zip\n",
        "    # change commas to dots\n",
        "    !sed 's/,/./g' LD2011_2014.txt > LD2011_2014_clean.txt\n",
        "else: \n",
        "    print(f\"Files are ready\")"
      ]
    },
    {
      "cell_type": "code",
      "execution_count": 4,
      "metadata": {
        "colab": {
          "base_uri": "https://localhost:8080/"
        },
        "id": "zf4skx27Uwwa",
        "outputId": "ae2df13a-0051-4459-e33b-76643c4c0f78"
      },
      "outputs": [
        {
          "name": "stdout",
          "output_type": "stream",
          "text": [
            "Data loaded..\n",
            "Data aggregated by hour\n"
          ]
        },
        {
          "data": {
            "text/plain": [
              "(26304, 370)"
            ]
          },
          "execution_count": 4,
          "metadata": {},
          "output_type": "execute_result"
        }
      ],
      "source": [
        "\"\"\"Preprocess data\"\"\"\n",
        "data = pd.read_csv('LD2011_2014_clean.txt', delimiter = ';')\n",
        "#remove data before 2012\n",
        "data = data.iloc[8760*4:]\n",
        "print('Data loaded..')\n",
        "data_2 = data.copy()\n",
        "#pick the first 20 houses\n",
        "data_2 = data_2.iloc[:,:]\n",
        "# Aggregate\n",
        "data_2['time'] =pd.to_datetime(data_2['Unnamed: 0']).dt.ceil('1h') \n",
        "data_2 = data_2.drop(['Unnamed: 0'], axis = 1)\n",
        "agg_dict = {}\n",
        "for col in data_2.columns[:-1]:\n",
        "    agg_dict[col] ='mean'\n",
        "aggregated_data = data_2.groupby(['time']).agg(agg_dict)\n",
        "print('Data aggregated by hour')\n",
        "aggregated_data.shape"
      ]
    },
    {
      "cell_type": "code",
      "execution_count": 5,
      "metadata": {
        "colab": {
          "base_uri": "https://localhost:8080/",
          "height": 504
        },
        "id": "xESWJa8CUyUn",
        "outputId": "b5d8a761-586a-44b6-b377-5849bb7790b1"
      },
      "outputs": [
        {
          "data": {
            "text/html": [
              "<div>\n",
              "<style scoped>\n",
              "    .dataframe tbody tr th:only-of-type {\n",
              "        vertical-align: middle;\n",
              "    }\n",
              "\n",
              "    .dataframe tbody tr th {\n",
              "        vertical-align: top;\n",
              "    }\n",
              "\n",
              "    .dataframe thead th {\n",
              "        text-align: right;\n",
              "    }\n",
              "</style>\n",
              "<table border=\"1\" class=\"dataframe\">\n",
              "  <thead>\n",
              "    <tr style=\"text-align: right;\">\n",
              "      <th></th>\n",
              "      <th>MT_001</th>\n",
              "      <th>MT_002</th>\n",
              "      <th>MT_003</th>\n",
              "      <th>MT_004</th>\n",
              "      <th>MT_005</th>\n",
              "      <th>MT_006</th>\n",
              "      <th>MT_007</th>\n",
              "      <th>MT_008</th>\n",
              "      <th>MT_009</th>\n",
              "      <th>MT_010</th>\n",
              "      <th>...</th>\n",
              "      <th>MT_361</th>\n",
              "      <th>MT_362</th>\n",
              "      <th>MT_363</th>\n",
              "      <th>MT_364</th>\n",
              "      <th>MT_365</th>\n",
              "      <th>MT_366</th>\n",
              "      <th>MT_367</th>\n",
              "      <th>MT_368</th>\n",
              "      <th>MT_369</th>\n",
              "      <th>MT_370</th>\n",
              "    </tr>\n",
              "    <tr>\n",
              "      <th>time</th>\n",
              "      <th></th>\n",
              "      <th></th>\n",
              "      <th></th>\n",
              "      <th></th>\n",
              "      <th></th>\n",
              "      <th></th>\n",
              "      <th></th>\n",
              "      <th></th>\n",
              "      <th></th>\n",
              "      <th></th>\n",
              "      <th></th>\n",
              "      <th></th>\n",
              "      <th></th>\n",
              "      <th></th>\n",
              "      <th></th>\n",
              "      <th></th>\n",
              "      <th></th>\n",
              "      <th></th>\n",
              "      <th></th>\n",
              "      <th></th>\n",
              "      <th></th>\n",
              "    </tr>\n",
              "  </thead>\n",
              "  <tbody>\n",
              "    <tr>\n",
              "      <th>2012-01-01 01:00:00</th>\n",
              "      <td>-0.193637</td>\n",
              "      <td>-0.767048</td>\n",
              "      <td>5.979015</td>\n",
              "      <td>0.750556</td>\n",
              "      <td>1.297119</td>\n",
              "      <td>2.562526</td>\n",
              "      <td>0.380006</td>\n",
              "      <td>0.420689</td>\n",
              "      <td>0.936652</td>\n",
              "      <td>1.237010</td>\n",
              "      <td>...</td>\n",
              "      <td>-0.925467</td>\n",
              "      <td>-0.660711</td>\n",
              "      <td>-0.611351</td>\n",
              "      <td>-0.924599</td>\n",
              "      <td>-1.182866</td>\n",
              "      <td>0.055241</td>\n",
              "      <td>-0.298429</td>\n",
              "      <td>-0.970811</td>\n",
              "      <td>-0.867907</td>\n",
              "      <td>-1.312616</td>\n",
              "    </tr>\n",
              "    <tr>\n",
              "      <th>2012-01-01 02:00:00</th>\n",
              "      <td>-0.088516</td>\n",
              "      <td>-0.711666</td>\n",
              "      <td>5.979015</td>\n",
              "      <td>0.723940</td>\n",
              "      <td>1.174705</td>\n",
              "      <td>2.419487</td>\n",
              "      <td>0.131533</td>\n",
              "      <td>0.362440</td>\n",
              "      <td>0.666522</td>\n",
              "      <td>1.016322</td>\n",
              "      <td>...</td>\n",
              "      <td>-0.968145</td>\n",
              "      <td>-0.718147</td>\n",
              "      <td>-0.862776</td>\n",
              "      <td>-0.926923</td>\n",
              "      <td>-1.177477</td>\n",
              "      <td>-0.195217</td>\n",
              "      <td>-0.111780</td>\n",
              "      <td>-0.964607</td>\n",
              "      <td>-0.923605</td>\n",
              "      <td>-1.312616</td>\n",
              "    </tr>\n",
              "    <tr>\n",
              "      <th>2012-01-01 03:00:00</th>\n",
              "      <td>-0.193637</td>\n",
              "      <td>-0.739357</td>\n",
              "      <td>5.979015</td>\n",
              "      <td>0.710631</td>\n",
              "      <td>0.964851</td>\n",
              "      <td>1.573172</td>\n",
              "      <td>0.090121</td>\n",
              "      <td>-0.263732</td>\n",
              "      <td>0.500288</td>\n",
              "      <td>0.616982</td>\n",
              "      <td>...</td>\n",
              "      <td>-1.023433</td>\n",
              "      <td>-0.710625</td>\n",
              "      <td>-0.879452</td>\n",
              "      <td>-0.931572</td>\n",
              "      <td>-1.177477</td>\n",
              "      <td>-0.289139</td>\n",
              "      <td>-0.478750</td>\n",
              "      <td>-1.119708</td>\n",
              "      <td>-1.044284</td>\n",
              "      <td>-1.312616</td>\n",
              "    </tr>\n",
              "    <tr>\n",
              "      <th>2012-01-01 04:00:00</th>\n",
              "      <td>-0.088516</td>\n",
              "      <td>-0.877811</td>\n",
              "      <td>5.979015</td>\n",
              "      <td>-0.194342</td>\n",
              "      <td>0.037999</td>\n",
              "      <td>0.059340</td>\n",
              "      <td>-0.179057</td>\n",
              "      <td>-0.948152</td>\n",
              "      <td>-0.559453</td>\n",
              "      <td>-0.391876</td>\n",
              "      <td>...</td>\n",
              "      <td>-1.228097</td>\n",
              "      <td>-0.732505</td>\n",
              "      <td>-0.896128</td>\n",
              "      <td>-0.957141</td>\n",
              "      <td>-1.139759</td>\n",
              "      <td>-0.289139</td>\n",
              "      <td>-1.696712</td>\n",
              "      <td>-1.175544</td>\n",
              "      <td>-1.102634</td>\n",
              "      <td>-1.312616</td>\n",
              "    </tr>\n",
              "    <tr>\n",
              "      <th>2012-01-01 05:00:00</th>\n",
              "      <td>-0.141076</td>\n",
              "      <td>-0.905502</td>\n",
              "      <td>5.979015</td>\n",
              "      <td>-0.726679</td>\n",
              "      <td>-0.259294</td>\n",
              "      <td>-0.524736</td>\n",
              "      <td>-0.365412</td>\n",
              "      <td>-1.297643</td>\n",
              "      <td>-0.351661</td>\n",
              "      <td>-0.539002</td>\n",
              "      <td>...</td>\n",
              "      <td>-1.179598</td>\n",
              "      <td>-0.753702</td>\n",
              "      <td>-0.901901</td>\n",
              "      <td>-0.961790</td>\n",
              "      <td>-1.182866</td>\n",
              "      <td>-0.383061</td>\n",
              "      <td>-1.707784</td>\n",
              "      <td>-1.169340</td>\n",
              "      <td>-1.072133</td>\n",
              "      <td>-1.312616</td>\n",
              "    </tr>\n",
              "  </tbody>\n",
              "</table>\n",
              "<p>5 rows × 370 columns</p>\n",
              "</div>"
            ],
            "text/plain": [
              "                       MT_001    MT_002    MT_003    MT_004    MT_005  \\\n",
              "time                                                                    \n",
              "2012-01-01 01:00:00 -0.193637 -0.767048  5.979015  0.750556  1.297119   \n",
              "2012-01-01 02:00:00 -0.088516 -0.711666  5.979015  0.723940  1.174705   \n",
              "2012-01-01 03:00:00 -0.193637 -0.739357  5.979015  0.710631  0.964851   \n",
              "2012-01-01 04:00:00 -0.088516 -0.877811  5.979015 -0.194342  0.037999   \n",
              "2012-01-01 05:00:00 -0.141076 -0.905502  5.979015 -0.726679 -0.259294   \n",
              "\n",
              "                       MT_006    MT_007    MT_008    MT_009    MT_010  ...  \\\n",
              "time                                                                   ...   \n",
              "2012-01-01 01:00:00  2.562526  0.380006  0.420689  0.936652  1.237010  ...   \n",
              "2012-01-01 02:00:00  2.419487  0.131533  0.362440  0.666522  1.016322  ...   \n",
              "2012-01-01 03:00:00  1.573172  0.090121 -0.263732  0.500288  0.616982  ...   \n",
              "2012-01-01 04:00:00  0.059340 -0.179057 -0.948152 -0.559453 -0.391876  ...   \n",
              "2012-01-01 05:00:00 -0.524736 -0.365412 -1.297643 -0.351661 -0.539002  ...   \n",
              "\n",
              "                       MT_361    MT_362    MT_363    MT_364    MT_365  \\\n",
              "time                                                                    \n",
              "2012-01-01 01:00:00 -0.925467 -0.660711 -0.611351 -0.924599 -1.182866   \n",
              "2012-01-01 02:00:00 -0.968145 -0.718147 -0.862776 -0.926923 -1.177477   \n",
              "2012-01-01 03:00:00 -1.023433 -0.710625 -0.879452 -0.931572 -1.177477   \n",
              "2012-01-01 04:00:00 -1.228097 -0.732505 -0.896128 -0.957141 -1.139759   \n",
              "2012-01-01 05:00:00 -1.179598 -0.753702 -0.901901 -0.961790 -1.182866   \n",
              "\n",
              "                       MT_366    MT_367    MT_368    MT_369    MT_370  \n",
              "time                                                                   \n",
              "2012-01-01 01:00:00  0.055241 -0.298429 -0.970811 -0.867907 -1.312616  \n",
              "2012-01-01 02:00:00 -0.195217 -0.111780 -0.964607 -0.923605 -1.312616  \n",
              "2012-01-01 03:00:00 -0.289139 -0.478750 -1.119708 -1.044284 -1.312616  \n",
              "2012-01-01 04:00:00 -0.289139 -1.696712 -1.175544 -1.102634 -1.312616  \n",
              "2012-01-01 05:00:00 -0.383061 -1.707784 -1.169340 -1.072133 -1.312616  \n",
              "\n",
              "[5 rows x 370 columns]"
            ]
          },
          "execution_count": 5,
          "metadata": {},
          "output_type": "execute_result"
        }
      ],
      "source": [
        "\"\"\"Normalize data\"\"\"\n",
        "from sklearn.preprocessing import StandardScaler, MinMaxScaler\n",
        "Std_normalization = 1\n",
        "if Std_normalization:\n",
        "    scaler = StandardScaler()\n",
        "    temp = scaler.fit_transform(aggregated_data)\n",
        "    norm_means = scaler.mean_\n",
        "    norm_std = scaler.scale_\n",
        "else:\n",
        "    scaler = MinMaxScaler()\n",
        "    temp = scaler.fit_transform(aggregated_data)\n",
        "global data_4\n",
        "normalized_data = pd.DataFrame(temp, index=aggregated_data.index, columns = aggregated_data.columns)\n",
        "\n",
        "# Check normalized data\n",
        "normalized_data.head()"
      ]
    },
    {
      "cell_type": "code",
      "execution_count": 6,
      "metadata": {
        "id": "CGbjlkFjU0XR"
      },
      "outputs": [],
      "source": [
        "n_clients = 370"
      ]
    },
    {
      "cell_type": "code",
      "execution_count": 7,
      "metadata": {
        "id": "DoYb1935U42n"
      },
      "outputs": [
        {
          "name": "stderr",
          "output_type": "stream",
          "text": [
            "/home/tung6100/.local/lib/python3.8/site-packages/IPython/core/interactiveshell.py:3135: UserWarning: Parsing '18-12-2014' in DD/MM/YYYY format. Provide format or specify infer_datetime_format=True for consistent parsing.\n",
            "  has_raised = await self.run_ast_nodes(code_ast.body, cell_name,\n"
          ]
        }
      ],
      "source": [
        "# Hyper-parameters\n",
        "prediction_length = 24\n",
        "freq = \"1H\"\n",
        "train_start = pd.Period(\"01-01-2012\", freq=freq) \n",
        "test_start = pd.Period(\"18-12-2014\", freq=freq)"
      ]
    },
    {
      "cell_type": "code",
      "execution_count": 8,
      "metadata": {
        "id": "UbkIc25CU6vz"
      },
      "outputs": [],
      "source": [
        "\"\"\"Function to split train and test dataset\"\"\"\n",
        "def set_train_test(n_clients=20):\n",
        "    data_train = normalized_data.iloc[:25968,:n_clients] #25600; 25968; 26082\n",
        "    data_test = normalized_data.iloc[25968:25968+24,:n_clients]\n",
        "    data_test_deepAR = normalized_data.iloc[:25968+prediction_length,:n_clients]\n",
        "    return data_train, data_test, data_test_deepAR"
      ]
    },
    {
      "cell_type": "code",
      "execution_count": 9,
      "metadata": {
        "colab": {
          "base_uri": "https://localhost:8080/"
        },
        "id": "4WwzqBI8U8p0",
        "outputId": "0a5b453e-7ee6-4f4b-9f7a-59f3be1cc56f"
      },
      "outputs": [
        {
          "data": {
            "text/plain": [
              "((25968, 370), (24, 370), (25992, 370))"
            ]
          },
          "execution_count": 9,
          "metadata": {},
          "output_type": "execute_result"
        }
      ],
      "source": [
        "\"\"\"Check train and test dataset\"\"\"\n",
        "data_train, data_test, data_test_deepAR = set_train_test(n_clients=n_clients)\n",
        "data_train.shape, data_test.shape, data_test_deepAR.shape"
      ]
    },
    {
      "cell_type": "code",
      "execution_count": 10,
      "metadata": {
        "colab": {
          "base_uri": "https://localhost:8080/"
        },
        "id": "gHccsBbbU-Aq",
        "outputId": "5d40ae9f-6cdd-430e-e975-ba264e239630"
      },
      "outputs": [
        {
          "data": {
            "text/plain": [
              "(numpy.ndarray, (370, 25968), (370, 25992))"
            ]
          },
          "execution_count": 10,
          "metadata": {},
          "output_type": "execute_result"
        }
      ],
      "source": [
        "\"\"\"Convert data to numpy\"\"\"\n",
        "data_train_np = data_train.to_numpy()\n",
        "data_test_np = data_test.to_numpy()\n",
        "data_test_deepAR_np = data_test_deepAR.to_numpy()\n",
        "data_train_np = data_train_np.T\n",
        "data_test_np = data_test_np.T\n",
        "data_test_deepAR_np = data_test_deepAR_np.T\n",
        "# Check the type of data\n",
        "type(data_train_np), data_train_np.shape, data_test_deepAR_np.shape"
      ]
    },
    {
      "cell_type": "code",
      "execution_count": 11,
      "metadata": {
        "colab": {
          "base_uri": "https://localhost:8080/",
          "height": 504
        },
        "id": "Tc66oVx3-iKC",
        "outputId": "f43670ae-f60b-4d5a-a735-6776bfc3342f"
      },
      "outputs": [
        {
          "data": {
            "text/html": [
              "<div>\n",
              "<style scoped>\n",
              "    .dataframe tbody tr th:only-of-type {\n",
              "        vertical-align: middle;\n",
              "    }\n",
              "\n",
              "    .dataframe tbody tr th {\n",
              "        vertical-align: top;\n",
              "    }\n",
              "\n",
              "    .dataframe thead th {\n",
              "        text-align: right;\n",
              "    }\n",
              "</style>\n",
              "<table border=\"1\" class=\"dataframe\">\n",
              "  <thead>\n",
              "    <tr style=\"text-align: right;\">\n",
              "      <th></th>\n",
              "      <th>MT_001</th>\n",
              "      <th>MT_002</th>\n",
              "      <th>MT_003</th>\n",
              "      <th>MT_004</th>\n",
              "      <th>MT_005</th>\n",
              "      <th>MT_006</th>\n",
              "      <th>MT_007</th>\n",
              "      <th>MT_008</th>\n",
              "      <th>MT_009</th>\n",
              "      <th>MT_010</th>\n",
              "      <th>...</th>\n",
              "      <th>MT_361</th>\n",
              "      <th>MT_362</th>\n",
              "      <th>MT_363</th>\n",
              "      <th>MT_364</th>\n",
              "      <th>MT_365</th>\n",
              "      <th>MT_366</th>\n",
              "      <th>MT_367</th>\n",
              "      <th>MT_368</th>\n",
              "      <th>MT_369</th>\n",
              "      <th>MT_370</th>\n",
              "    </tr>\n",
              "    <tr>\n",
              "      <th>time</th>\n",
              "      <th></th>\n",
              "      <th></th>\n",
              "      <th></th>\n",
              "      <th></th>\n",
              "      <th></th>\n",
              "      <th></th>\n",
              "      <th></th>\n",
              "      <th></th>\n",
              "      <th></th>\n",
              "      <th></th>\n",
              "      <th></th>\n",
              "      <th></th>\n",
              "      <th></th>\n",
              "      <th></th>\n",
              "      <th></th>\n",
              "      <th></th>\n",
              "      <th></th>\n",
              "      <th></th>\n",
              "      <th></th>\n",
              "      <th></th>\n",
              "      <th></th>\n",
              "    </tr>\n",
              "  </thead>\n",
              "  <tbody>\n",
              "    <tr>\n",
              "      <th>2012-01-01 01:00:00</th>\n",
              "      <td>-0.193637</td>\n",
              "      <td>0.000000</td>\n",
              "      <td>0.000000</td>\n",
              "      <td>0.750556</td>\n",
              "      <td>1.297119</td>\n",
              "      <td>2.562526</td>\n",
              "      <td>0.380006</td>\n",
              "      <td>0.420689</td>\n",
              "      <td>0.936652</td>\n",
              "      <td>1.237010</td>\n",
              "      <td>...</td>\n",
              "      <td>0.000000</td>\n",
              "      <td>-0.660711</td>\n",
              "      <td>-0.611351</td>\n",
              "      <td>-0.924599</td>\n",
              "      <td>-1.182866</td>\n",
              "      <td>0.000000</td>\n",
              "      <td>-0.298429</td>\n",
              "      <td>0.000000</td>\n",
              "      <td>-0.867907</td>\n",
              "      <td>-1.312616</td>\n",
              "    </tr>\n",
              "    <tr>\n",
              "      <th>2012-01-01 02:00:00</th>\n",
              "      <td>-0.088516</td>\n",
              "      <td>-0.711666</td>\n",
              "      <td>5.979015</td>\n",
              "      <td>0.723940</td>\n",
              "      <td>0.000000</td>\n",
              "      <td>0.000000</td>\n",
              "      <td>0.131533</td>\n",
              "      <td>0.362440</td>\n",
              "      <td>0.000000</td>\n",
              "      <td>1.016322</td>\n",
              "      <td>...</td>\n",
              "      <td>0.000000</td>\n",
              "      <td>-0.718147</td>\n",
              "      <td>-0.862776</td>\n",
              "      <td>-0.926923</td>\n",
              "      <td>-1.177477</td>\n",
              "      <td>-0.195217</td>\n",
              "      <td>-0.111780</td>\n",
              "      <td>-0.964607</td>\n",
              "      <td>-0.923605</td>\n",
              "      <td>-1.312616</td>\n",
              "    </tr>\n",
              "    <tr>\n",
              "      <th>2012-01-01 03:00:00</th>\n",
              "      <td>-0.193637</td>\n",
              "      <td>-0.739357</td>\n",
              "      <td>0.000000</td>\n",
              "      <td>0.710631</td>\n",
              "      <td>0.000000</td>\n",
              "      <td>0.000000</td>\n",
              "      <td>0.090121</td>\n",
              "      <td>-0.263732</td>\n",
              "      <td>0.500288</td>\n",
              "      <td>0.616982</td>\n",
              "      <td>...</td>\n",
              "      <td>-1.023433</td>\n",
              "      <td>-0.710625</td>\n",
              "      <td>-0.879452</td>\n",
              "      <td>-0.931572</td>\n",
              "      <td>-1.177477</td>\n",
              "      <td>0.000000</td>\n",
              "      <td>0.000000</td>\n",
              "      <td>-1.119708</td>\n",
              "      <td>-1.044284</td>\n",
              "      <td>0.000000</td>\n",
              "    </tr>\n",
              "    <tr>\n",
              "      <th>2012-01-01 04:00:00</th>\n",
              "      <td>0.000000</td>\n",
              "      <td>-0.877811</td>\n",
              "      <td>5.979015</td>\n",
              "      <td>-0.194342</td>\n",
              "      <td>0.037999</td>\n",
              "      <td>0.059340</td>\n",
              "      <td>-0.179057</td>\n",
              "      <td>-0.948152</td>\n",
              "      <td>0.000000</td>\n",
              "      <td>-0.391876</td>\n",
              "      <td>...</td>\n",
              "      <td>-1.228097</td>\n",
              "      <td>-0.732505</td>\n",
              "      <td>-0.896128</td>\n",
              "      <td>-0.957141</td>\n",
              "      <td>0.000000</td>\n",
              "      <td>-0.289139</td>\n",
              "      <td>0.000000</td>\n",
              "      <td>-1.175544</td>\n",
              "      <td>0.000000</td>\n",
              "      <td>-1.312616</td>\n",
              "    </tr>\n",
              "    <tr>\n",
              "      <th>2012-01-01 05:00:00</th>\n",
              "      <td>0.000000</td>\n",
              "      <td>-0.905502</td>\n",
              "      <td>5.979015</td>\n",
              "      <td>-0.726679</td>\n",
              "      <td>-0.259294</td>\n",
              "      <td>0.000000</td>\n",
              "      <td>-0.365412</td>\n",
              "      <td>-1.297643</td>\n",
              "      <td>-0.351661</td>\n",
              "      <td>-0.539002</td>\n",
              "      <td>...</td>\n",
              "      <td>-1.179598</td>\n",
              "      <td>-0.753702</td>\n",
              "      <td>-0.901901</td>\n",
              "      <td>0.000000</td>\n",
              "      <td>-1.182866</td>\n",
              "      <td>0.000000</td>\n",
              "      <td>-1.707784</td>\n",
              "      <td>-1.169340</td>\n",
              "      <td>0.000000</td>\n",
              "      <td>-1.312616</td>\n",
              "    </tr>\n",
              "  </tbody>\n",
              "</table>\n",
              "<p>5 rows × 370 columns</p>\n",
              "</div>"
            ],
            "text/plain": [
              "                       MT_001    MT_002    MT_003    MT_004    MT_005  \\\n",
              "time                                                                    \n",
              "2012-01-01 01:00:00 -0.193637  0.000000  0.000000  0.750556  1.297119   \n",
              "2012-01-01 02:00:00 -0.088516 -0.711666  5.979015  0.723940  0.000000   \n",
              "2012-01-01 03:00:00 -0.193637 -0.739357  0.000000  0.710631  0.000000   \n",
              "2012-01-01 04:00:00  0.000000 -0.877811  5.979015 -0.194342  0.037999   \n",
              "2012-01-01 05:00:00  0.000000 -0.905502  5.979015 -0.726679 -0.259294   \n",
              "\n",
              "                       MT_006    MT_007    MT_008    MT_009    MT_010  ...  \\\n",
              "time                                                                   ...   \n",
              "2012-01-01 01:00:00  2.562526  0.380006  0.420689  0.936652  1.237010  ...   \n",
              "2012-01-01 02:00:00  0.000000  0.131533  0.362440  0.000000  1.016322  ...   \n",
              "2012-01-01 03:00:00  0.000000  0.090121 -0.263732  0.500288  0.616982  ...   \n",
              "2012-01-01 04:00:00  0.059340 -0.179057 -0.948152  0.000000 -0.391876  ...   \n",
              "2012-01-01 05:00:00  0.000000 -0.365412 -1.297643 -0.351661 -0.539002  ...   \n",
              "\n",
              "                       MT_361    MT_362    MT_363    MT_364    MT_365  \\\n",
              "time                                                                    \n",
              "2012-01-01 01:00:00  0.000000 -0.660711 -0.611351 -0.924599 -1.182866   \n",
              "2012-01-01 02:00:00  0.000000 -0.718147 -0.862776 -0.926923 -1.177477   \n",
              "2012-01-01 03:00:00 -1.023433 -0.710625 -0.879452 -0.931572 -1.177477   \n",
              "2012-01-01 04:00:00 -1.228097 -0.732505 -0.896128 -0.957141  0.000000   \n",
              "2012-01-01 05:00:00 -1.179598 -0.753702 -0.901901  0.000000 -1.182866   \n",
              "\n",
              "                       MT_366    MT_367    MT_368    MT_369    MT_370  \n",
              "time                                                                   \n",
              "2012-01-01 01:00:00  0.000000 -0.298429  0.000000 -0.867907 -1.312616  \n",
              "2012-01-01 02:00:00 -0.195217 -0.111780 -0.964607 -0.923605 -1.312616  \n",
              "2012-01-01 03:00:00  0.000000  0.000000 -1.119708 -1.044284  0.000000  \n",
              "2012-01-01 04:00:00 -0.289139  0.000000 -1.175544  0.000000 -1.312616  \n",
              "2012-01-01 05:00:00  0.000000 -1.707784 -1.169340  0.000000 -1.312616  \n",
              "\n",
              "[5 rows x 370 columns]"
            ]
          },
          "execution_count": 11,
          "metadata": {},
          "output_type": "execute_result"
        }
      ],
      "source": [
        "\"\"\"\n",
        "\n",
        "Create missing values based on normal distribution random choice\n",
        "\n",
        "Input: \n",
        " - pd_data: 2d pandas data frame\n",
        " - missing_percentage: missing percentage <= 100\n",
        "\n",
        "Output:\n",
        " - return_data: 2d pandas with missed values\n",
        "\n",
        "\"\"\"\n",
        "def create_missing_data(pd_data, missing_percentage = 20):\n",
        "    if missing_percentage == 0: return pd_data\n",
        "    assert missing_percentage <= 100, \"missing percentage should be less than or equal 100%\"\n",
        "    np.random.seed(1993)\n",
        "    # Convert data frame to array\n",
        "    np_data = pd_data.to_numpy()\n",
        "    # Convert original data to 1d array - Because existing package only supports to randomly choose indices from 1d array\n",
        "    np_data_1d = np_data.flatten()\n",
        "    # Randomly choose missing index\n",
        "    total_elem = np_data_1d.shape[0]\n",
        "    number_of_missing_elem = int(missing_percentage*1.0*total_elem/100)\n",
        "    missing_index = np.random.choice(np.arange(total_elem), number_of_missing_elem, replace=False) # with replace = False, an index only is chosen 1 time\n",
        "    # Replace missing_index with 0\n",
        "    np_data_1d[missing_index] = 0\n",
        "    # Convert 1d array to 2d array\n",
        "    np_data_2d = np_data_1d.reshape(pd_data.shape[0], pd_data.shape[1])\n",
        "    # Convert 2d array to dataframe\n",
        "    cols_name = pd_data.columns\n",
        "    return_data = pd.DataFrame(np_data_2d, columns = cols_name)\n",
        "    return_data.index = pd_data.index\n",
        "    return return_data\n",
        "\n",
        "missing_df = create_missing_data(normalized_data, missing_percentage=20)\n",
        "missing_df.head()"
      ]
    },
    {
      "cell_type": "code",
      "execution_count": 12,
      "metadata": {
        "colab": {
          "base_uri": "https://localhost:8080/",
          "height": 475
        },
        "id": "VY2SIR0U_Hcy",
        "outputId": "97730e50-3280-49c5-bfef-b3b08a1082da"
      },
      "outputs": [
        {
          "data": {
            "text/html": [
              "<div>\n",
              "<style scoped>\n",
              "    .dataframe tbody tr th:only-of-type {\n",
              "        vertical-align: middle;\n",
              "    }\n",
              "\n",
              "    .dataframe tbody tr th {\n",
              "        vertical-align: top;\n",
              "    }\n",
              "\n",
              "    .dataframe thead th {\n",
              "        text-align: right;\n",
              "    }\n",
              "</style>\n",
              "<table border=\"1\" class=\"dataframe\">\n",
              "  <thead>\n",
              "    <tr style=\"text-align: right;\">\n",
              "      <th></th>\n",
              "      <th>MT_001</th>\n",
              "      <th>MT_002</th>\n",
              "      <th>MT_003</th>\n",
              "      <th>MT_004</th>\n",
              "      <th>MT_005</th>\n",
              "      <th>MT_006</th>\n",
              "      <th>MT_007</th>\n",
              "      <th>MT_008</th>\n",
              "      <th>MT_009</th>\n",
              "      <th>MT_010</th>\n",
              "      <th>...</th>\n",
              "      <th>MT_361</th>\n",
              "      <th>MT_362</th>\n",
              "      <th>MT_363</th>\n",
              "      <th>MT_364</th>\n",
              "      <th>MT_365</th>\n",
              "      <th>MT_366</th>\n",
              "      <th>MT_367</th>\n",
              "      <th>MT_368</th>\n",
              "      <th>MT_369</th>\n",
              "      <th>MT_370</th>\n",
              "    </tr>\n",
              "    <tr>\n",
              "      <th>time</th>\n",
              "      <th></th>\n",
              "      <th></th>\n",
              "      <th></th>\n",
              "      <th></th>\n",
              "      <th></th>\n",
              "      <th></th>\n",
              "      <th></th>\n",
              "      <th></th>\n",
              "      <th></th>\n",
              "      <th></th>\n",
              "      <th></th>\n",
              "      <th></th>\n",
              "      <th></th>\n",
              "      <th></th>\n",
              "      <th></th>\n",
              "      <th></th>\n",
              "      <th></th>\n",
              "      <th></th>\n",
              "      <th></th>\n",
              "      <th></th>\n",
              "      <th></th>\n",
              "    </tr>\n",
              "  </thead>\n",
              "  <tbody>\n",
              "    <tr>\n",
              "      <th>2012-01-01 01:00:00</th>\n",
              "      <td>-0.193637</td>\n",
              "      <td>-0.767048</td>\n",
              "      <td>5.979015</td>\n",
              "      <td>0.750556</td>\n",
              "      <td>1.297119</td>\n",
              "      <td>2.562526</td>\n",
              "      <td>0.380006</td>\n",
              "      <td>0.420689</td>\n",
              "      <td>0.936652</td>\n",
              "      <td>1.237010</td>\n",
              "      <td>...</td>\n",
              "      <td>-0.925467</td>\n",
              "      <td>-0.660711</td>\n",
              "      <td>-0.611351</td>\n",
              "      <td>-0.924599</td>\n",
              "      <td>-1.182866</td>\n",
              "      <td>0.055241</td>\n",
              "      <td>-0.298429</td>\n",
              "      <td>-0.970811</td>\n",
              "      <td>-0.867907</td>\n",
              "      <td>-1.312616</td>\n",
              "    </tr>\n",
              "    <tr>\n",
              "      <th>2012-01-01 02:00:00</th>\n",
              "      <td>-0.088516</td>\n",
              "      <td>-0.711666</td>\n",
              "      <td>5.979015</td>\n",
              "      <td>0.723940</td>\n",
              "      <td>1.174705</td>\n",
              "      <td>2.419487</td>\n",
              "      <td>0.131533</td>\n",
              "      <td>0.362440</td>\n",
              "      <td>0.666522</td>\n",
              "      <td>1.016322</td>\n",
              "      <td>...</td>\n",
              "      <td>-0.968145</td>\n",
              "      <td>-0.718147</td>\n",
              "      <td>-0.862776</td>\n",
              "      <td>-0.926923</td>\n",
              "      <td>-1.177477</td>\n",
              "      <td>-0.195217</td>\n",
              "      <td>-0.111780</td>\n",
              "      <td>-0.964607</td>\n",
              "      <td>-0.923605</td>\n",
              "      <td>-1.312616</td>\n",
              "    </tr>\n",
              "    <tr>\n",
              "      <th>2012-01-01 03:00:00</th>\n",
              "      <td>-0.193637</td>\n",
              "      <td>-0.739357</td>\n",
              "      <td>5.979015</td>\n",
              "      <td>0.710631</td>\n",
              "      <td>0.964851</td>\n",
              "      <td>1.573172</td>\n",
              "      <td>0.090121</td>\n",
              "      <td>-0.263732</td>\n",
              "      <td>0.500288</td>\n",
              "      <td>0.616982</td>\n",
              "      <td>...</td>\n",
              "      <td>-1.023433</td>\n",
              "      <td>-0.710625</td>\n",
              "      <td>-0.879452</td>\n",
              "      <td>-0.931572</td>\n",
              "      <td>-1.177477</td>\n",
              "      <td>-0.289139</td>\n",
              "      <td>-0.478750</td>\n",
              "      <td>-1.119708</td>\n",
              "      <td>-1.044284</td>\n",
              "      <td>-1.312616</td>\n",
              "    </tr>\n",
              "    <tr>\n",
              "      <th>2012-01-01 04:00:00</th>\n",
              "      <td>-0.088516</td>\n",
              "      <td>-0.877811</td>\n",
              "      <td>5.979015</td>\n",
              "      <td>-0.194342</td>\n",
              "      <td>0.037999</td>\n",
              "      <td>0.059340</td>\n",
              "      <td>-0.179057</td>\n",
              "      <td>-0.948152</td>\n",
              "      <td>-0.559453</td>\n",
              "      <td>-0.391876</td>\n",
              "      <td>...</td>\n",
              "      <td>-1.228097</td>\n",
              "      <td>-0.732505</td>\n",
              "      <td>-0.896128</td>\n",
              "      <td>-0.957141</td>\n",
              "      <td>-1.139759</td>\n",
              "      <td>-0.289139</td>\n",
              "      <td>-1.696712</td>\n",
              "      <td>-1.175544</td>\n",
              "      <td>-1.102634</td>\n",
              "      <td>-1.312616</td>\n",
              "    </tr>\n",
              "    <tr>\n",
              "      <th>2012-01-01 05:00:00</th>\n",
              "      <td>-0.141076</td>\n",
              "      <td>-0.905502</td>\n",
              "      <td>5.979015</td>\n",
              "      <td>-0.726679</td>\n",
              "      <td>-0.259294</td>\n",
              "      <td>-0.524736</td>\n",
              "      <td>-0.365412</td>\n",
              "      <td>-1.297643</td>\n",
              "      <td>-0.351661</td>\n",
              "      <td>-0.539002</td>\n",
              "      <td>...</td>\n",
              "      <td>-1.179598</td>\n",
              "      <td>-0.753702</td>\n",
              "      <td>-0.901901</td>\n",
              "      <td>-0.961790</td>\n",
              "      <td>-1.182866</td>\n",
              "      <td>-0.383061</td>\n",
              "      <td>-1.707784</td>\n",
              "      <td>-1.169340</td>\n",
              "      <td>-1.072133</td>\n",
              "      <td>-1.312616</td>\n",
              "    </tr>\n",
              "  </tbody>\n",
              "</table>\n",
              "<p>5 rows × 370 columns</p>\n",
              "</div>"
            ],
            "text/plain": [
              "                       MT_001    MT_002    MT_003    MT_004    MT_005  \\\n",
              "time                                                                    \n",
              "2012-01-01 01:00:00 -0.193637 -0.767048  5.979015  0.750556  1.297119   \n",
              "2012-01-01 02:00:00 -0.088516 -0.711666  5.979015  0.723940  1.174705   \n",
              "2012-01-01 03:00:00 -0.193637 -0.739357  5.979015  0.710631  0.964851   \n",
              "2012-01-01 04:00:00 -0.088516 -0.877811  5.979015 -0.194342  0.037999   \n",
              "2012-01-01 05:00:00 -0.141076 -0.905502  5.979015 -0.726679 -0.259294   \n",
              "\n",
              "                       MT_006    MT_007    MT_008    MT_009    MT_010  ...  \\\n",
              "time                                                                   ...   \n",
              "2012-01-01 01:00:00  2.562526  0.380006  0.420689  0.936652  1.237010  ...   \n",
              "2012-01-01 02:00:00  2.419487  0.131533  0.362440  0.666522  1.016322  ...   \n",
              "2012-01-01 03:00:00  1.573172  0.090121 -0.263732  0.500288  0.616982  ...   \n",
              "2012-01-01 04:00:00  0.059340 -0.179057 -0.948152 -0.559453 -0.391876  ...   \n",
              "2012-01-01 05:00:00 -0.524736 -0.365412 -1.297643 -0.351661 -0.539002  ...   \n",
              "\n",
              "                       MT_361    MT_362    MT_363    MT_364    MT_365  \\\n",
              "time                                                                    \n",
              "2012-01-01 01:00:00 -0.925467 -0.660711 -0.611351 -0.924599 -1.182866   \n",
              "2012-01-01 02:00:00 -0.968145 -0.718147 -0.862776 -0.926923 -1.177477   \n",
              "2012-01-01 03:00:00 -1.023433 -0.710625 -0.879452 -0.931572 -1.177477   \n",
              "2012-01-01 04:00:00 -1.228097 -0.732505 -0.896128 -0.957141 -1.139759   \n",
              "2012-01-01 05:00:00 -1.179598 -0.753702 -0.901901 -0.961790 -1.182866   \n",
              "\n",
              "                       MT_366    MT_367    MT_368    MT_369    MT_370  \n",
              "time                                                                   \n",
              "2012-01-01 01:00:00  0.055241 -0.298429 -0.970811 -0.867907 -1.312616  \n",
              "2012-01-01 02:00:00 -0.195217 -0.111780 -0.964607 -0.923605 -1.312616  \n",
              "2012-01-01 03:00:00 -0.289139 -0.478750 -1.119708 -1.044284 -1.312616  \n",
              "2012-01-01 04:00:00 -0.289139 -1.696712 -1.175544 -1.102634 -1.312616  \n",
              "2012-01-01 05:00:00 -0.383061 -1.707784 -1.169340 -1.072133 -1.312616  \n",
              "\n",
              "[5 rows x 370 columns]"
            ]
          },
          "execution_count": 12,
          "metadata": {},
          "output_type": "execute_result"
        }
      ],
      "source": [
        "missing_percentage = 0\n",
        "data_train_missing_vals = create_missing_data(data_train, missing_percentage=missing_percentage)\n",
        "data_train_missing_vals.head()"
      ]
    },
    {
      "cell_type": "code",
      "execution_count": 13,
      "metadata": {
        "colab": {
          "base_uri": "https://localhost:8080/"
        },
        "id": "q-BNXGAF_Pby",
        "outputId": "23e5bc95-e721-4b12-e335-d2d283327283"
      },
      "outputs": [
        {
          "data": {
            "text/plain": [
              "(25968, 370)"
            ]
          },
          "execution_count": 13,
          "metadata": {},
          "output_type": "execute_result"
        }
      ],
      "source": [
        "data_train_missing_vals.iloc[:, :n_clients].to_numpy().shape"
      ]
    },
    {
      "cell_type": "code",
      "execution_count": 14,
      "metadata": {
        "colab": {
          "base_uri": "https://localhost:8080/"
        },
        "id": "tWmZmcG1_RJy",
        "outputId": "3d8ddb5b-b010-45a4-db79-bb09211d2b80"
      },
      "outputs": [
        {
          "data": {
            "text/plain": [
              "(numpy.ndarray, (370, 25968), (370, 24), (370, 25992))"
            ]
          },
          "execution_count": 14,
          "metadata": {},
          "output_type": "execute_result"
        }
      ],
      "source": [
        "\"\"\"Convert data to numpy\"\"\"\n",
        "data_train_np = data_train_missing_vals.iloc[:, :n_clients].to_numpy()\n",
        "data_test_np = data_test.iloc[:, :n_clients].to_numpy()\n",
        "data_test_deepAR_np = data_test_deepAR.iloc[:, :n_clients].to_numpy()\n",
        "data_train_np = data_train_np.T\n",
        "data_test_np = data_test_np.T\n",
        "data_test_deepAR_np = data_test_deepAR_np.T\n",
        "# Check the type of data\n",
        "type(data_train_np), data_train_np.shape, data_test_np.shape, data_test_deepAR_np.shape"
      ]
    },
    {
      "cell_type": "code",
      "execution_count": 15,
      "metadata": {
        "id": "HuGyP5tjU_rg"
      },
      "outputs": [],
      "source": [
        "\"\"\"Create dataset for Gluont\"\"\"\n",
        "from gluonts.dataset.common import ListDataset\n",
        "# train dataset: cut the last window of length \"prediction_length\", add \"target\" and \"start\" fields\n",
        "train_ds = ListDataset(\n",
        "    [{\"target\": x, \"start\": train_start} for x in data_train_np],\n",
        "    freq=freq,\n",
        ")\n",
        "# test dataset: use the whole dataset, add \"target\" and \"start\" fields\n",
        "test_ds = ListDataset(\n",
        "    [{\"target\": x, \"start\": train_start} for x in data_test_deepAR_np], freq=freq\n",
        ")"
      ]
    },
    {
      "cell_type": "code",
      "execution_count": 16,
      "metadata": {
        "colab": {
          "base_uri": "https://localhost:8080/",
          "height": 321
        },
        "id": "uqv2Sk4JVH15",
        "outputId": "686c2a5c-7233-4fd8-f448-f10b0d0c747b"
      },
      "outputs": [
        {
          "name": "stderr",
          "output_type": "stream",
          "text": [
            "Importing plotly failed. Interactive plots will not work.\n"
          ]
        }
      ],
      "source": [
        "from gluonts.model.prophet import ProphetPredictor\n",
        "from gluonts.mx import Trainer"
      ]
    },
    {
      "cell_type": "code",
      "execution_count": 17,
      "metadata": {
        "id": "-yLfp_BwVRBv"
      },
      "outputs": [],
      "source": [
        "estimator = ProphetPredictor(prediction_length=prediction_length,)"
      ]
    },
    {
      "cell_type": "code",
      "execution_count": 18,
      "metadata": {
        "id": "jBs3U0B6VsgK"
      },
      "outputs": [],
      "source": [
        "predictor = estimator.predict(train_ds, num_samples=1)"
      ]
    },
    {
      "cell_type": "code",
      "execution_count": null,
      "metadata": {
        "id": "4vNY5-qmZp1w"
      },
      "outputs": [],
      "source": [
        "predictions = list(predictor)\n",
        "predictions[0].samples"
      ]
    },
    {
      "cell_type": "code",
      "execution_count": null,
      "metadata": {
        "id": "dn8CK1BPq0zZ"
      },
      "outputs": [],
      "source": [
        "# Convert gluont package into a numerical list\n",
        "predictions_list = []\n",
        "for prediction in predictions:\n",
        "  predictions_list.append(prediction.samples)\n",
        "predictions_np = np.array(predictions_list)\n",
        "predictions_np = predictions_np.reshape(20, 24)\n",
        "predictions_np.shape"
      ]
    },
    {
      "cell_type": "code",
      "execution_count": null,
      "metadata": {
        "id": "IEk01TyJrjzX"
      },
      "outputs": [],
      "source": [
        "# Check prophet results\n",
        "import matplotlib.pyplot as plt\n",
        "\n",
        "prediction_0 = predictions_np[0]\n",
        "actual_0 = data_test_np[0, :24]\n",
        "\n",
        "plt.plot(prediction_0, color='g', label=\"prediction\")\n",
        "plt.plot(actual_0, color='b', label=\"actual\")\n",
        "plt.legend()\n",
        "plt.show()"
      ]
    },
    {
      "cell_type": "code",
      "execution_count": null,
      "metadata": {
        "id": "qTtDVpF7rqZ3"
      },
      "outputs": [],
      "source": [
        "import matplotlib.pyplot as plt\n",
        "\n",
        "prediction_1 = predictions_np[1]\n",
        "actual_1 = data_test_np[1, :24]\n",
        "\n",
        "plt.plot(prediction_1, color='g', label=\"prediction\")\n",
        "plt.plot(actual_1, color='b', label=\"actual\")\n",
        "plt.legend()\n",
        "plt.show()"
      ]
    },
    {
      "cell_type": "code",
      "execution_count": null,
      "metadata": {
        "id": "8C91ZHnyrtbH"
      },
      "outputs": [],
      "source": [
        "# Calculate RMSE\n",
        "actual_data = data_test_np[:, :24]\n",
        "rmse = np.sqrt(np.mean(np.square(actual_data - predictions_np)))\n",
        "rmse"
      ]
    },
    {
      "cell_type": "code",
      "execution_count": null,
      "metadata": {
        "id": "CFWUG4b-c2LG"
      },
      "outputs": [],
      "source": [
        "# import matplotlib.pyplot as plt"
      ]
    },
    {
      "cell_type": "code",
      "execution_count": null,
      "metadata": {
        "id": "ppG1VEu0dQoG"
      },
      "outputs": [],
      "source": [
        "# prediction_0 = predictions[0].samples.reshape(-1)\n",
        "# actual_0 = data_test_np[0, :24]\n",
        "\n",
        "# plt.plot(prediction_0, color='g', label=\"prediction\")\n",
        "# plt.plot(actual_0, color='b', label=\"actual\")\n",
        "# plt.legend()\n",
        "# plt.show()"
      ]
    },
    {
      "cell_type": "code",
      "execution_count": null,
      "metadata": {
        "id": "emizYvXneU_l"
      },
      "outputs": [],
      "source": [
        "# prediction_1 = predictions[1].samples.reshape(-1)\n",
        "# actual_1 = data_test_np[1, :24]\n",
        "\n",
        "# plt.plot(prediction_1, color='g', label=\"prediction\")\n",
        "# plt.plot(actual_1, color='b', label=\"actual\")\n",
        "# plt.legend()\n",
        "# plt.show()"
      ]
    },
    {
      "cell_type": "code",
      "execution_count": null,
      "metadata": {
        "id": "SbCfDOwJzG_w"
      },
      "outputs": [],
      "source": [
        "from sklearn.metrics import mean_absolute_error as mae\n",
        "from sklearn.metrics import mean_squared_error as mse\n",
        "def evaluate_Testset(y_true, y_pred):\n",
        "    def mape(y_true, y_pred): \n",
        "      return np.mean(np.abs((y_true - y_pred) / y_true)) * 100\n",
        "    MSE = mse(y_true, y_pred)\n",
        "    RMSE = np.sqrt(MSE)\n",
        "    MAE = mae(y_true, y_pred)\n",
        "    MAPE = mape(y_true, y_pred)\n",
        "    return MSE, RMSE, MAE, MAPE\n",
        "\n",
        "def accuracy_Testset(y_true, y_pred):\n",
        "  diff_pred = list()\n",
        "  diff_true = list()\n",
        "  accuracy = 0.\n",
        "  for i in range(len(y_true)-1):\n",
        "      diff_pred.append(y_pred[i+1]-y_pred[i])\n",
        "      diff_true.append(y_true[i+1]-y_true[i])\n",
        "  count = sum(diff_pred[i] * diff_true[i] > 0 for i in range(len(diff_pred)))\n",
        "  accuracy = count/len(diff_pred) * 100\n",
        "  return accuracy"
      ]
    },
    {
      "cell_type": "code",
      "execution_count": null,
      "metadata": {
        "id": "ohfmNlJazRZp"
      },
      "outputs": [],
      "source": [
        "MSE, RMSE, MAE, MAPE = evaluate_Testset(actual_data, predictions_np)\n",
        "print(f\"MSE: {MSE}, RMSE: {RMSE}, MAE: {MAE}, MAPE: {MAPE}\")"
      ]
    }
  ],
  "metadata": {
    "accelerator": "TPU",
    "colab": {
      "provenance": [],
      "toc_visible": true
    },
    "gpuClass": "standard",
    "kernelspec": {
      "display_name": "Python 3",
      "name": "python3"
    },
    "language_info": {
      "codemirror_mode": {
        "name": "ipython",
        "version": 3
      },
      "file_extension": ".py",
      "mimetype": "text/x-python",
      "name": "python",
      "nbconvert_exporter": "python",
      "pygments_lexer": "ipython3",
      "version": "3.8.10"
    }
  },
  "nbformat": 4,
  "nbformat_minor": 0
}
