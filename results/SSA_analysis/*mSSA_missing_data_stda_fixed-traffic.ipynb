{
 "cells": [
  {
   "cell_type": "code",
   "execution_count": 1,
   "metadata": {},
   "outputs": [],
   "source": [
    "from mssa.mssa import mSSA\n",
    "import pandas as pd \n",
    "import matplotlib.pyplot as plt \n",
    "import io\n",
    "import numpy as np \n",
    "import torch \n",
    "import copy \n",
    "from sklearn.metrics import r2_score\n",
    "import os \n",
    "from datetime import datetime, timedelta\n",
    "from datetime import timedelta\n",
    "dev = False"
   ]
  },
  {
   "cell_type": "code",
   "execution_count": 2,
   "metadata": {
    "scrolled": true
   },
   "outputs": [],
   "source": [
    "file = \"traffic.txt\"\n",
    "isExist = os.path.exists(file)\n",
    "if not isExist:\n",
    "    print(f\"Files not exist\")"
   ]
  },
  {
   "cell_type": "code",
   "execution_count": 3,
   "metadata": {},
   "outputs": [
    {
     "name": "stdout",
     "output_type": "stream",
     "text": [
      "data loaded..\n"
     ]
    }
   ],
   "source": [
    "\"\"\"Preprocess data\"\"\"\n",
    "data = pd.read_csv('traffic.txt', delimiter = ',', header=None)\n",
    "print('data loaded..')\n",
    "data_2 = data.copy()\n",
    "#pick the first 20 clients\n",
    "data_2 = data_2.iloc[:,:20]\n",
    "#create time column: 2 years 1 hour\n",
    "data_2['time'] = pd.to_datetime(np.arange(datetime(2015,1,1), datetime(2017,1,1), timedelta(hours=1)))\n",
    "data_2.index = data_2['time']\n",
    "data_2 = data_2.drop(['time'], axis = 1)\n",
    "#create column names\n",
    "data_3 = data_2.copy()\n",
    "col_names = ['MT_{0:03}'.format(i+1) for i in range(data_3.shape[1])]\n",
    "data_3.columns = col_names\n",
    "aggregated_data = data_3.copy()"
   ]
  },
  {
   "cell_type": "code",
   "execution_count": 4,
   "metadata": {},
   "outputs": [
    {
     "data": {
      "text/plain": [
       "(17544, 20)"
      ]
     },
     "execution_count": 4,
     "metadata": {},
     "output_type": "execute_result"
    }
   ],
   "source": [
    "aggregated_data.shape"
   ]
  },
  {
   "cell_type": "code",
   "execution_count": 5,
   "metadata": {},
   "outputs": [],
   "source": [
    "from sklearn.preprocessing import StandardScaler, MinMaxScaler\n",
    "Std_normalization = 1\n",
    "if Std_normalization:\n",
    "    scaler = StandardScaler()\n",
    "    temp = scaler.fit_transform(aggregated_data)\n",
    "    norm_means = scaler.mean_\n",
    "    norm_std = scaler.scale_\n",
    "else:\n",
    "    scaler = MinMaxScaler()\n",
    "    temp = scaler.fit_transform(aggregated_data)\n",
    "global data_4\n",
    "normalized_data = pd.DataFrame(temp, index=aggregated_data.index, columns = aggregated_data.columns)"
   ]
  },
  {
   "cell_type": "code",
   "execution_count": 6,
   "metadata": {},
   "outputs": [
    {
     "data": {
      "text/html": [
       "<div>\n",
       "<style scoped>\n",
       "    .dataframe tbody tr th:only-of-type {\n",
       "        vertical-align: middle;\n",
       "    }\n",
       "\n",
       "    .dataframe tbody tr th {\n",
       "        vertical-align: top;\n",
       "    }\n",
       "\n",
       "    .dataframe thead th {\n",
       "        text-align: right;\n",
       "    }\n",
       "</style>\n",
       "<table border=\"1\" class=\"dataframe\">\n",
       "  <thead>\n",
       "    <tr style=\"text-align: right;\">\n",
       "      <th></th>\n",
       "      <th>MT_001</th>\n",
       "      <th>MT_002</th>\n",
       "      <th>MT_003</th>\n",
       "      <th>MT_004</th>\n",
       "      <th>MT_005</th>\n",
       "      <th>MT_006</th>\n",
       "      <th>MT_007</th>\n",
       "      <th>MT_008</th>\n",
       "      <th>MT_009</th>\n",
       "      <th>MT_010</th>\n",
       "      <th>MT_011</th>\n",
       "      <th>MT_012</th>\n",
       "      <th>MT_013</th>\n",
       "      <th>MT_014</th>\n",
       "      <th>MT_015</th>\n",
       "      <th>MT_016</th>\n",
       "      <th>MT_017</th>\n",
       "      <th>MT_018</th>\n",
       "      <th>MT_019</th>\n",
       "      <th>MT_020</th>\n",
       "    </tr>\n",
       "    <tr>\n",
       "      <th>time</th>\n",
       "      <th></th>\n",
       "      <th></th>\n",
       "      <th></th>\n",
       "      <th></th>\n",
       "      <th></th>\n",
       "      <th></th>\n",
       "      <th></th>\n",
       "      <th></th>\n",
       "      <th></th>\n",
       "      <th></th>\n",
       "      <th></th>\n",
       "      <th></th>\n",
       "      <th></th>\n",
       "      <th></th>\n",
       "      <th></th>\n",
       "      <th></th>\n",
       "      <th></th>\n",
       "      <th></th>\n",
       "      <th></th>\n",
       "      <th></th>\n",
       "    </tr>\n",
       "  </thead>\n",
       "  <tbody>\n",
       "    <tr>\n",
       "      <th>2015-01-01 00:00:00</th>\n",
       "      <td>-0.712761</td>\n",
       "      <td>-0.649143</td>\n",
       "      <td>-0.936348</td>\n",
       "      <td>-1.154807</td>\n",
       "      <td>-0.569033</td>\n",
       "      <td>-0.500971</td>\n",
       "      <td>-0.765328</td>\n",
       "      <td>-0.665566</td>\n",
       "      <td>-0.660995</td>\n",
       "      <td>-0.414196</td>\n",
       "      <td>-0.822551</td>\n",
       "      <td>-0.854473</td>\n",
       "      <td>-0.914064</td>\n",
       "      <td>-0.568700</td>\n",
       "      <td>-0.899862</td>\n",
       "      <td>-0.569866</td>\n",
       "      <td>-1.335692</td>\n",
       "      <td>-0.748872</td>\n",
       "      <td>-0.798016</td>\n",
       "      <td>-0.608055</td>\n",
       "    </tr>\n",
       "    <tr>\n",
       "      <th>2015-01-01 01:00:00</th>\n",
       "      <td>-0.674341</td>\n",
       "      <td>-0.645010</td>\n",
       "      <td>-0.862140</td>\n",
       "      <td>-1.067719</td>\n",
       "      <td>-0.513278</td>\n",
       "      <td>-0.488945</td>\n",
       "      <td>-0.701394</td>\n",
       "      <td>-0.490022</td>\n",
       "      <td>-0.447094</td>\n",
       "      <td>-0.407787</td>\n",
       "      <td>-0.770593</td>\n",
       "      <td>-0.822892</td>\n",
       "      <td>-0.849406</td>\n",
       "      <td>-0.507760</td>\n",
       "      <td>-0.835587</td>\n",
       "      <td>0.155680</td>\n",
       "      <td>-1.213432</td>\n",
       "      <td>-0.748872</td>\n",
       "      <td>-0.514071</td>\n",
       "      <td>-0.599583</td>\n",
       "    </tr>\n",
       "    <tr>\n",
       "      <th>2015-01-01 02:00:00</th>\n",
       "      <td>-0.725568</td>\n",
       "      <td>-0.742124</td>\n",
       "      <td>-0.963111</td>\n",
       "      <td>-1.203794</td>\n",
       "      <td>-0.610849</td>\n",
       "      <td>-0.594173</td>\n",
       "      <td>-0.822705</td>\n",
       "      <td>-0.641794</td>\n",
       "      <td>-0.681695</td>\n",
       "      <td>-0.484698</td>\n",
       "      <td>-0.886055</td>\n",
       "      <td>-0.901844</td>\n",
       "      <td>-0.951011</td>\n",
       "      <td>-0.735623</td>\n",
       "      <td>-1.053028</td>\n",
       "      <td>-0.145701</td>\n",
       "      <td>-1.310521</td>\n",
       "      <td>-0.952812</td>\n",
       "      <td>-0.716423</td>\n",
       "      <td>-0.691364</td>\n",
       "    </tr>\n",
       "    <tr>\n",
       "      <th>2015-01-01 03:00:00</th>\n",
       "      <td>-0.727168</td>\n",
       "      <td>-0.826841</td>\n",
       "      <td>-1.022720</td>\n",
       "      <td>-1.296324</td>\n",
       "      <td>-0.666604</td>\n",
       "      <td>-0.672342</td>\n",
       "      <td>-0.886640</td>\n",
       "      <td>-0.810024</td>\n",
       "      <td>-0.959996</td>\n",
       "      <td>-0.602201</td>\n",
       "      <td>-1.015951</td>\n",
       "      <td>-0.929478</td>\n",
       "      <td>-1.023059</td>\n",
       "      <td>-0.923742</td>\n",
       "      <td>-1.177476</td>\n",
       "      <td>-0.839993</td>\n",
       "      <td>-1.321309</td>\n",
       "      <td>-1.093459</td>\n",
       "      <td>-0.977522</td>\n",
       "      <td>-0.729489</td>\n",
       "    </tr>\n",
       "    <tr>\n",
       "      <th>2015-01-01 04:00:00</th>\n",
       "      <td>-0.722366</td>\n",
       "      <td>-0.837172</td>\n",
       "      <td>-1.055566</td>\n",
       "      <td>-1.318096</td>\n",
       "      <td>-0.680543</td>\n",
       "      <td>-0.706917</td>\n",
       "      <td>-0.925984</td>\n",
       "      <td>-0.948996</td>\n",
       "      <td>-1.114097</td>\n",
       "      <td>-0.573359</td>\n",
       "      <td>-1.079455</td>\n",
       "      <td>-0.943294</td>\n",
       "      <td>-1.041533</td>\n",
       "      <td>-1.045622</td>\n",
       "      <td>-1.233545</td>\n",
       "      <td>-1.221742</td>\n",
       "      <td>-1.342884</td>\n",
       "      <td>-1.130380</td>\n",
       "      <td>-1.170083</td>\n",
       "      <td>-0.753493</td>\n",
       "    </tr>\n",
       "  </tbody>\n",
       "</table>\n",
       "</div>"
      ],
      "text/plain": [
       "                       MT_001    MT_002    MT_003    MT_004    MT_005  \\\n",
       "time                                                                    \n",
       "2015-01-01 00:00:00 -0.712761 -0.649143 -0.936348 -1.154807 -0.569033   \n",
       "2015-01-01 01:00:00 -0.674341 -0.645010 -0.862140 -1.067719 -0.513278   \n",
       "2015-01-01 02:00:00 -0.725568 -0.742124 -0.963111 -1.203794 -0.610849   \n",
       "2015-01-01 03:00:00 -0.727168 -0.826841 -1.022720 -1.296324 -0.666604   \n",
       "2015-01-01 04:00:00 -0.722366 -0.837172 -1.055566 -1.318096 -0.680543   \n",
       "\n",
       "                       MT_006    MT_007    MT_008    MT_009    MT_010  \\\n",
       "time                                                                    \n",
       "2015-01-01 00:00:00 -0.500971 -0.765328 -0.665566 -0.660995 -0.414196   \n",
       "2015-01-01 01:00:00 -0.488945 -0.701394 -0.490022 -0.447094 -0.407787   \n",
       "2015-01-01 02:00:00 -0.594173 -0.822705 -0.641794 -0.681695 -0.484698   \n",
       "2015-01-01 03:00:00 -0.672342 -0.886640 -0.810024 -0.959996 -0.602201   \n",
       "2015-01-01 04:00:00 -0.706917 -0.925984 -0.948996 -1.114097 -0.573359   \n",
       "\n",
       "                       MT_011    MT_012    MT_013    MT_014    MT_015  \\\n",
       "time                                                                    \n",
       "2015-01-01 00:00:00 -0.822551 -0.854473 -0.914064 -0.568700 -0.899862   \n",
       "2015-01-01 01:00:00 -0.770593 -0.822892 -0.849406 -0.507760 -0.835587   \n",
       "2015-01-01 02:00:00 -0.886055 -0.901844 -0.951011 -0.735623 -1.053028   \n",
       "2015-01-01 03:00:00 -1.015951 -0.929478 -1.023059 -0.923742 -1.177476   \n",
       "2015-01-01 04:00:00 -1.079455 -0.943294 -1.041533 -1.045622 -1.233545   \n",
       "\n",
       "                       MT_016    MT_017    MT_018    MT_019    MT_020  \n",
       "time                                                                   \n",
       "2015-01-01 00:00:00 -0.569866 -1.335692 -0.748872 -0.798016 -0.608055  \n",
       "2015-01-01 01:00:00  0.155680 -1.213432 -0.748872 -0.514071 -0.599583  \n",
       "2015-01-01 02:00:00 -0.145701 -1.310521 -0.952812 -0.716423 -0.691364  \n",
       "2015-01-01 03:00:00 -0.839993 -1.321309 -1.093459 -0.977522 -0.729489  \n",
       "2015-01-01 04:00:00 -1.221742 -1.342884 -1.130380 -1.170083 -0.753493  "
      ]
     },
     "execution_count": 6,
     "metadata": {},
     "output_type": "execute_result"
    }
   ],
   "source": [
    "normalized_data.head()"
   ]
  },
  {
   "cell_type": "code",
   "execution_count": 7,
   "metadata": {},
   "outputs": [],
   "source": [
    "if dev:\n",
    "    cols = normalized_data.columns"
   ]
  },
  {
   "cell_type": "code",
   "execution_count": 8,
   "metadata": {},
   "outputs": [],
   "source": [
    "if dev:\n",
    "    test_df = normalized_data.iloc[:5][cols[:5]].copy()\n",
    "    np_test = test_df.to_numpy()"
   ]
  },
  {
   "cell_type": "code",
   "execution_count": 9,
   "metadata": {},
   "outputs": [],
   "source": [
    "if dev:\n",
    "    \"\"\"Inject missing data\"\"\"\n",
    "    # Convert original data to 1d array - Because existing package only supports randomly choose from 1d array\n",
    "    np_test_1d = np_test.flatten()\n",
    "    np_test_1d"
   ]
  },
  {
   "cell_type": "code",
   "execution_count": 10,
   "metadata": {},
   "outputs": [],
   "source": [
    "if dev:\n",
    "    total_elem = np_test_1d.shape[0]\n",
    "    missing_percentage = 50\n",
    "    number_of_missing_elem = int(missing_percentage*1.0*total_elem/100) \n",
    "    print(number_of_missing_elem)\n",
    "    missing_index = np.random.choice(np.arange(total_elem), number_of_missing_elem, replace=False)\n",
    "    np_test_1d[missing_index] = 0\n",
    "    np_test_1d"
   ]
  },
  {
   "cell_type": "code",
   "execution_count": 11,
   "metadata": {},
   "outputs": [],
   "source": [
    "if dev:\n",
    "    np_test_2d = np_test_1d.reshape(5,-1)\n",
    "    np_test_2d"
   ]
  },
  {
   "cell_type": "code",
   "execution_count": 12,
   "metadata": {},
   "outputs": [
    {
     "data": {
      "text/html": [
       "<div>\n",
       "<style scoped>\n",
       "    .dataframe tbody tr th:only-of-type {\n",
       "        vertical-align: middle;\n",
       "    }\n",
       "\n",
       "    .dataframe tbody tr th {\n",
       "        vertical-align: top;\n",
       "    }\n",
       "\n",
       "    .dataframe thead th {\n",
       "        text-align: right;\n",
       "    }\n",
       "</style>\n",
       "<table border=\"1\" class=\"dataframe\">\n",
       "  <thead>\n",
       "    <tr style=\"text-align: right;\">\n",
       "      <th></th>\n",
       "      <th>MT_001</th>\n",
       "      <th>MT_002</th>\n",
       "      <th>MT_003</th>\n",
       "      <th>MT_004</th>\n",
       "      <th>MT_005</th>\n",
       "      <th>MT_006</th>\n",
       "      <th>MT_007</th>\n",
       "      <th>MT_008</th>\n",
       "      <th>MT_009</th>\n",
       "      <th>MT_010</th>\n",
       "      <th>MT_011</th>\n",
       "      <th>MT_012</th>\n",
       "      <th>MT_013</th>\n",
       "      <th>MT_014</th>\n",
       "      <th>MT_015</th>\n",
       "      <th>MT_016</th>\n",
       "      <th>MT_017</th>\n",
       "      <th>MT_018</th>\n",
       "      <th>MT_019</th>\n",
       "      <th>MT_020</th>\n",
       "    </tr>\n",
       "    <tr>\n",
       "      <th>time</th>\n",
       "      <th></th>\n",
       "      <th></th>\n",
       "      <th></th>\n",
       "      <th></th>\n",
       "      <th></th>\n",
       "      <th></th>\n",
       "      <th></th>\n",
       "      <th></th>\n",
       "      <th></th>\n",
       "      <th></th>\n",
       "      <th></th>\n",
       "      <th></th>\n",
       "      <th></th>\n",
       "      <th></th>\n",
       "      <th></th>\n",
       "      <th></th>\n",
       "      <th></th>\n",
       "      <th></th>\n",
       "      <th></th>\n",
       "      <th></th>\n",
       "    </tr>\n",
       "  </thead>\n",
       "  <tbody>\n",
       "    <tr>\n",
       "      <th>2015-01-01 00:00:00</th>\n",
       "      <td>-0.712761</td>\n",
       "      <td>-0.649143</td>\n",
       "      <td>0.000000</td>\n",
       "      <td>-1.154807</td>\n",
       "      <td>0.000000</td>\n",
       "      <td>-0.500971</td>\n",
       "      <td>-0.765328</td>\n",
       "      <td>-0.665566</td>\n",
       "      <td>0.000000</td>\n",
       "      <td>-0.414196</td>\n",
       "      <td>-0.822551</td>\n",
       "      <td>-0.854473</td>\n",
       "      <td>0.000000</td>\n",
       "      <td>0.000000</td>\n",
       "      <td>-0.899862</td>\n",
       "      <td>-0.569866</td>\n",
       "      <td>-1.335692</td>\n",
       "      <td>-0.748872</td>\n",
       "      <td>-0.798016</td>\n",
       "      <td>-0.608055</td>\n",
       "    </tr>\n",
       "    <tr>\n",
       "      <th>2015-01-01 01:00:00</th>\n",
       "      <td>-0.674341</td>\n",
       "      <td>-0.645010</td>\n",
       "      <td>-0.862140</td>\n",
       "      <td>-1.067719</td>\n",
       "      <td>-0.513278</td>\n",
       "      <td>0.000000</td>\n",
       "      <td>-0.701394</td>\n",
       "      <td>-0.490022</td>\n",
       "      <td>-0.447094</td>\n",
       "      <td>0.000000</td>\n",
       "      <td>-0.770593</td>\n",
       "      <td>-0.822892</td>\n",
       "      <td>-0.849406</td>\n",
       "      <td>-0.507760</td>\n",
       "      <td>-0.835587</td>\n",
       "      <td>0.155680</td>\n",
       "      <td>-1.213432</td>\n",
       "      <td>0.000000</td>\n",
       "      <td>0.000000</td>\n",
       "      <td>-0.599583</td>\n",
       "    </tr>\n",
       "    <tr>\n",
       "      <th>2015-01-01 02:00:00</th>\n",
       "      <td>-0.725568</td>\n",
       "      <td>-0.742124</td>\n",
       "      <td>-0.963111</td>\n",
       "      <td>-1.203794</td>\n",
       "      <td>-0.610849</td>\n",
       "      <td>-0.594173</td>\n",
       "      <td>-0.822705</td>\n",
       "      <td>-0.641794</td>\n",
       "      <td>-0.681695</td>\n",
       "      <td>-0.484698</td>\n",
       "      <td>-0.886055</td>\n",
       "      <td>0.000000</td>\n",
       "      <td>-0.951011</td>\n",
       "      <td>-0.735623</td>\n",
       "      <td>-1.053028</td>\n",
       "      <td>-0.145701</td>\n",
       "      <td>-1.310521</td>\n",
       "      <td>-0.952812</td>\n",
       "      <td>-0.716423</td>\n",
       "      <td>-0.691364</td>\n",
       "    </tr>\n",
       "    <tr>\n",
       "      <th>2015-01-01 03:00:00</th>\n",
       "      <td>-0.727168</td>\n",
       "      <td>0.000000</td>\n",
       "      <td>-1.022720</td>\n",
       "      <td>-1.296324</td>\n",
       "      <td>-0.666604</td>\n",
       "      <td>0.000000</td>\n",
       "      <td>-0.886640</td>\n",
       "      <td>0.000000</td>\n",
       "      <td>0.000000</td>\n",
       "      <td>-0.602201</td>\n",
       "      <td>-1.015951</td>\n",
       "      <td>-0.929478</td>\n",
       "      <td>-1.023059</td>\n",
       "      <td>0.000000</td>\n",
       "      <td>-1.177476</td>\n",
       "      <td>-0.839993</td>\n",
       "      <td>0.000000</td>\n",
       "      <td>-1.093459</td>\n",
       "      <td>-0.977522</td>\n",
       "      <td>-0.729489</td>\n",
       "    </tr>\n",
       "    <tr>\n",
       "      <th>2015-01-01 04:00:00</th>\n",
       "      <td>-0.722366</td>\n",
       "      <td>-0.837172</td>\n",
       "      <td>-1.055566</td>\n",
       "      <td>-1.318096</td>\n",
       "      <td>-0.680543</td>\n",
       "      <td>-0.706917</td>\n",
       "      <td>-0.925984</td>\n",
       "      <td>-0.948996</td>\n",
       "      <td>-1.114097</td>\n",
       "      <td>-0.573359</td>\n",
       "      <td>-1.079455</td>\n",
       "      <td>-0.943294</td>\n",
       "      <td>-1.041533</td>\n",
       "      <td>-1.045622</td>\n",
       "      <td>0.000000</td>\n",
       "      <td>-1.221742</td>\n",
       "      <td>-1.342884</td>\n",
       "      <td>-1.130380</td>\n",
       "      <td>-1.170083</td>\n",
       "      <td>-0.753493</td>\n",
       "    </tr>\n",
       "  </tbody>\n",
       "</table>\n",
       "</div>"
      ],
      "text/plain": [
       "                       MT_001    MT_002    MT_003    MT_004    MT_005  \\\n",
       "time                                                                    \n",
       "2015-01-01 00:00:00 -0.712761 -0.649143  0.000000 -1.154807  0.000000   \n",
       "2015-01-01 01:00:00 -0.674341 -0.645010 -0.862140 -1.067719 -0.513278   \n",
       "2015-01-01 02:00:00 -0.725568 -0.742124 -0.963111 -1.203794 -0.610849   \n",
       "2015-01-01 03:00:00 -0.727168  0.000000 -1.022720 -1.296324 -0.666604   \n",
       "2015-01-01 04:00:00 -0.722366 -0.837172 -1.055566 -1.318096 -0.680543   \n",
       "\n",
       "                       MT_006    MT_007    MT_008    MT_009    MT_010  \\\n",
       "time                                                                    \n",
       "2015-01-01 00:00:00 -0.500971 -0.765328 -0.665566  0.000000 -0.414196   \n",
       "2015-01-01 01:00:00  0.000000 -0.701394 -0.490022 -0.447094  0.000000   \n",
       "2015-01-01 02:00:00 -0.594173 -0.822705 -0.641794 -0.681695 -0.484698   \n",
       "2015-01-01 03:00:00  0.000000 -0.886640  0.000000  0.000000 -0.602201   \n",
       "2015-01-01 04:00:00 -0.706917 -0.925984 -0.948996 -1.114097 -0.573359   \n",
       "\n",
       "                       MT_011    MT_012    MT_013    MT_014    MT_015  \\\n",
       "time                                                                    \n",
       "2015-01-01 00:00:00 -0.822551 -0.854473  0.000000  0.000000 -0.899862   \n",
       "2015-01-01 01:00:00 -0.770593 -0.822892 -0.849406 -0.507760 -0.835587   \n",
       "2015-01-01 02:00:00 -0.886055  0.000000 -0.951011 -0.735623 -1.053028   \n",
       "2015-01-01 03:00:00 -1.015951 -0.929478 -1.023059  0.000000 -1.177476   \n",
       "2015-01-01 04:00:00 -1.079455 -0.943294 -1.041533 -1.045622  0.000000   \n",
       "\n",
       "                       MT_016    MT_017    MT_018    MT_019    MT_020  \n",
       "time                                                                   \n",
       "2015-01-01 00:00:00 -0.569866 -1.335692 -0.748872 -0.798016 -0.608055  \n",
       "2015-01-01 01:00:00  0.155680 -1.213432  0.000000  0.000000 -0.599583  \n",
       "2015-01-01 02:00:00 -0.145701 -1.310521 -0.952812 -0.716423 -0.691364  \n",
       "2015-01-01 03:00:00 -0.839993  0.000000 -1.093459 -0.977522 -0.729489  \n",
       "2015-01-01 04:00:00 -1.221742 -1.342884 -1.130380 -1.170083 -0.753493  "
      ]
     },
     "execution_count": 12,
     "metadata": {},
     "output_type": "execute_result"
    }
   ],
   "source": [
    "\"\"\"\n",
    "\n",
    "Create missing values based on normal distribution random choice\n",
    "\n",
    "Input: \n",
    " - pd_data: 2d pandas data frame\n",
    " - missing_percentage: missing percentage <= 100\n",
    "\n",
    "Output:\n",
    " - return_data: 2d pandas with missed values\n",
    "\n",
    "\"\"\"\n",
    "def create_missing_data(pd_data, missing_percentage = 20):\n",
    "    if missing_percentage == 0: return pd_data\n",
    "    assert missing_percentage <= 100, \"missing percentage should be less than or equal 100%\"\n",
    "    np.random.seed(1993)\n",
    "    # Convert data frame to array\n",
    "    np_data = pd_data.to_numpy()\n",
    "    # Convert original data to 1d array - Because existing package only supports to randomly choose indices from 1d array\n",
    "    np_data_1d = np_data.flatten()\n",
    "    # Randomly choose missing index\n",
    "    total_elem = np_data_1d.shape[0]\n",
    "    number_of_missing_elem = int(missing_percentage*1.0*total_elem/100)\n",
    "    missing_index = np.random.choice(np.arange(total_elem), number_of_missing_elem, replace=False) # with replace = False, an index only is chosen 1 time\n",
    "    # Replace missing_index with 0\n",
    "    np_data_1d[missing_index] = 0\n",
    "    # Convert 1d array to 2d array\n",
    "    np_data_2d = np_data_1d.reshape(pd_data.shape[0], pd_data.shape[1])\n",
    "    # Convert 2d array to dataframe\n",
    "    cols_name = pd_data.columns\n",
    "    return_data = pd.DataFrame(np_data_2d, columns = cols_name)\n",
    "    return_data.index = pd_data.index\n",
    "    return return_data\n",
    "\n",
    "missing_df = create_missing_data(normalized_data, missing_percentage=20)\n",
    "missing_df.head()"
   ]
  },
  {
   "cell_type": "code",
   "execution_count": 13,
   "metadata": {},
   "outputs": [],
   "source": [
    "global n_clients; global data_train; global data_test\n",
    "def set_train_test(n_clients=20):\n",
    "    data_train = normalized_data.iloc[:17376,:n_clients] \n",
    "    data_test = normalized_data.iloc[17376:,:n_clients]\n",
    "    return data_train, data_test"
   ]
  },
  {
   "cell_type": "code",
   "execution_count": 14,
   "metadata": {},
   "outputs": [
    {
     "name": "stdout",
     "output_type": "stream",
     "text": [
      "(17376, 20)\n",
      "(168, 20)\n"
     ]
    }
   ],
   "source": [
    "data_train, data_test = set_train_test(n_clients=20)\n",
    "print(data_train.shape)\n",
    "print(data_test.shape)"
   ]
  },
  {
   "cell_type": "code",
   "execution_count": 15,
   "metadata": {},
   "outputs": [],
   "source": [
    "def get_flattened_obs(data_train, L=80):\n",
    "    df = data_train\n",
    "    N = df.shape[1]\n",
    "#     col_to_row_ratio = 4\n",
    "\n",
    "    T = df.shape[0]\n",
    "\n",
    "    M = int(df.size / L)\n",
    "    if M%N != 0:\n",
    "        M -= M%N\n",
    "    M_ts = M // N\n",
    "    # inc_obs = np.array(df.iloc[:M_ts*L,:]) # first range, we use second range for traning\n",
    "    inc_obs = np.array(df.iloc[T%L:,:]) # second range, note its not T%L+1 due to python index\n",
    "    normalize = False\n",
    "    from sklearn.preprocessing import StandardScaler\n",
    "    if normalize:\n",
    "        scaler = StandardScaler()\n",
    "        inc_obs = scaler.fit_transform(inc_obs)\n",
    "        norm_means = scaler.mean_\n",
    "        norm_std = scaler.scale_\n",
    "\n",
    "    flattened_obs = inc_obs.reshape([L,M], order = 'F') # 按照列顺序\n",
    "    # flattened_obs = flattened_obs[:,np.arange(M_ts*self.no_ts).reshape([self.no_ts,M_ts]).flatten('F')] # 这里导致第二列是ts2，stacked page是不同ts交错组成\n",
    "    return flattened_obs, M_ts"
   ]
  },
  {
   "cell_type": "code",
   "execution_count": 16,
   "metadata": {},
   "outputs": [],
   "source": [
    "global N; global M_ts; global L; global window\n",
    "L = 100\n",
    "flattened_obs, M_ts = get_flattened_obs(data_train, L=L)\n",
    "window = M_ts"
   ]
  },
  {
   "cell_type": "code",
   "execution_count": 17,
   "metadata": {},
   "outputs": [],
   "source": [
    "def predict_one_day(data_test, model, weights, days=7):\n",
    "    # predict for seven days\n",
    "    # days = 7\n",
    "\n",
    "    #initialise prediction array\n",
    "    predictions = np.zeros((len(data_test.columns),24*days))\n",
    "    ub = np.zeros((len(data_test.columns),24*days))\n",
    "    lb = np.zeros((len(data_test.columns),24*days))\n",
    "\n",
    "    # specify start time\n",
    "    start_time = pd.Timestamp('2016-12-25 00:00:00')\n",
    "\n",
    "    # actual = data_test.values[:24*days,:]\n",
    "\n",
    "    # obtain new actual by index, new test start from 2014-12-02-17:00\n",
    "    actual = data_test[data_test.index>=start_time].values[:24*days,:]\n",
    "\n",
    "\n",
    "    for day in range(days):\n",
    "        # get the final time stamp in the day\n",
    "        end_time = start_time + pd.Timedelta(hours=23)\n",
    "        # convert timestamps to string\n",
    "        start_str = start_time.strftime('%Y-%m-%d %H:%M:%S')\n",
    "        end_str = end_time.strftime('%Y-%m-%d %H:%M:%S')\n",
    "        # predict for each house\n",
    "        for i, column in enumerate(data_test.columns):\n",
    "            # Forecast\n",
    "            df_30 = model.predict(column,start_str,end_str)\n",
    "            predictions[i,day*24:(day+1)*24] = df_30['Mean Predictions']\n",
    "            ub[i,day*24:(day+1)*24] = df_30['Upper Bound']\n",
    "            lb[i,day*24:(day+1)*24] = df_30['Lower Bound']\n",
    "\n",
    "        # fit the model with the already predicted values \n",
    "\n",
    "        # df_insert = data_test.iloc[day*24:24*(day+1),:]\n",
    "\n",
    "        # obtain new df_insert\n",
    "        # df_insert = data_test[data_test.index>=start_time].iloc[day*24:24*(day+1),:]\n",
    "\n",
    "        # model.update_model(df_insert)\n",
    "    \n",
    "        if weights is not None:\n",
    "            model.ts_model.models[0].weights = weights\n",
    "\n",
    "        # update start_time\n",
    "        start_time = start_time + pd.Timedelta(hours=24)\n",
    "    return actual, predictions"
   ]
  },
  {
   "cell_type": "code",
   "execution_count": 18,
   "metadata": {},
   "outputs": [],
   "source": [
    "def test_sd(data_train, data_test, L, n_users, M_ts, dim, days, plot_all, plot_single):\n",
    "    data_train = data_train.iloc[:,:n_users] # Debug1\n",
    "    data_test = data_test.iloc[:,:n_users]\n",
    "\n",
    "    flattened_obs, M_ts = get_flattened_obs(data_train, L=L)\n",
    "    # stand-alone ssa\n",
    "    window = M_ts\n",
    "    lst_U_sd = []\n",
    "    for i in range(n_users):\n",
    "        data = flattened_obs[:,i*window:(i+1)*window]\n",
    "        U,_,_ = np.linalg.svd(data)\n",
    "        U = U[:,:dim]\n",
    "        lst_U_sd.append(U)\n",
    "\n",
    "    P_sd = flattened_obs\n",
    "    P_sd_hat = []\n",
    "    y_sd = []\n",
    "    y_true = P_sd[-1,:]\n",
    "    P_tilde_sd_hat = []\n",
    "    imputation_model_score_sd = []\n",
    "    actual = []; predictions_sd = []\n",
    "    from sklearn.linear_model import LinearRegression\n",
    "    \n",
    "    for i in range(n_users):\n",
    "        P_i_sd = P_sd[:,int(i*window):int((i+1)*window)]\n",
    "        P_i_sd_hat = lst_U_sd[i].dot(lst_U_sd[i].T.dot(P_i_sd)); P_sd_hat.append(P_i_sd_hat)\n",
    "        y_i_sd = P_i_sd_hat[-1,:]; y_sd.append(y_i_sd)\n",
    "        y_i_true = P_i_sd[-1,:]\n",
    "        P_i_tilde_sd_hat = P_i_sd_hat[:-1,:]; P_tilde_sd_hat.append(P_i_tilde_sd_hat)\n",
    "        imputation_model_score_sd.append(r2_score(P_i_sd.flatten('F'),P_i_sd_hat.flatten('F'))) # verified same as imputation_model_score)\n",
    "        # prediction\n",
    "        reg = LinearRegression(fit_intercept=False).fit(P_i_tilde_sd_hat.T, y_i_sd)\n",
    "        weights_sd_i = reg.coef_\n",
    "        model_sd = mSSA(rank = dim, normalize = False, L=L)\n",
    "        model_sd.update_model(pd.DataFrame(data_train.iloc[:,i]))\n",
    "        model_sd.ts_model.models[0].weights = weights_sd_i\n",
    "        actual_i, predictions_sd_i = predict_one_day(pd.DataFrame(data_test.iloc[:,i]), model_sd, weights_sd_i)\n",
    "        actual.append(actual_i); predictions_sd.append(predictions_sd_i.T)\n",
    "    imputation_model_score_sd = np.array(imputation_model_score_sd)\n",
    "    P_sd_hat = np.hstack(P_sd_hat)\n",
    "    y_sd = np.hstack(y_sd)\n",
    "    P_tilde_sd_hat = np.hstack(P_tilde_sd_hat)\n",
    "    actual = np.hstack(actual); predictions_sd = np.hstack(predictions_sd)\n",
    "    print(\"imputation score:\", imputation_model_score_sd.mean())\n",
    "    \n",
    "    Y = actual[:,:]\n",
    "    Y_h_sd = predictions_sd[:,:]\n",
    "    mse_sd = np.sqrt(np.mean(np.square(Y[:24*days]-Y_h_sd[:24*days]))) # Debug2\n",
    "    y_true = Y[:24*days]\n",
    "    y_pred = Y_h_sd[:24*days]\n",
    "    print('Forecasting accuracy (RMSE) my:',mse_sd)\n",
    "    rmse_sd = mse_sd\n",
    "    if plot_all:\n",
    "        npar = np.arange(0,20)\n",
    "    else: npar = [1]\n",
    "    if plot_single:\n",
    "        for i in npar:\n",
    "            plt.figure()\n",
    "            plt.title('forecasting the next seven days for %s'%data_test.columns[i])\n",
    "    #         plt.plot(predictions[i,:24*days],label= 'mSSA',color='green')\n",
    "    #         plt.plot(predictions_my[i,:24*days],label= 'FedmSSA',color='orange')\n",
    "            plt.plot(predictions_sd.T[i,:24*days],label= 'sd',color='pink')\n",
    "            plt.plot(actual[:24*days,i],label = 'actual',color='blue')\n",
    "            plt.legend()\n",
    "        plt.show()\n",
    "    \n",
    "    return Y, Y_h_sd, _, lst_U_sd, rmse_sd, y_true, y_pred"
   ]
  },
  {
   "cell_type": "code",
   "execution_count": 19,
   "metadata": {},
   "outputs": [],
   "source": [
    "def test_mssa(data_train, data_test, rank, L, n_users, days, plot_all, plot_single):\n",
    "    data_train = data_train.iloc[:,:n_users]\n",
    "    data_test = data_test.iloc[:,:n_users]\n",
    "    model = mSSA(rank = rank, normalize = False, L=L)\n",
    "    \n",
    "    # model\n",
    "    model.update_model(data_train)\n",
    "    actual, predictions = predict_one_day(data_test, model, None)\n",
    "\n",
    "    Y = actual[:,:]\n",
    "    Y_h = predictions.T[:,:]\n",
    "    mse = np.sqrt(np.mean(np.square(Y[:24*days]-Y_h[:24*days])))\n",
    "    y_true = Y[:24*days]\n",
    "    y_pred = Y_h[:24*days]\n",
    "    print ('Forecasting accuracy (RMSE):',mse)\n",
    "    rmse_mssa = mse \n",
    "    if plot_all:\n",
    "        npar = np.arange(0,20)\n",
    "    else: npar = [1]\n",
    "\n",
    "    if plot_single:\n",
    "        for i in npar:\n",
    "            plt.figure()\n",
    "            plt.title('forecasting the next seven days for %s'%data_test.columns[i])\n",
    "            plt.plot(predictions[i,:24*days],label= 'mSSA',color='green')\n",
    "            plt.plot(actual[:24*days,i],label = 'actual',color='blue')\n",
    "            plt.legend()\n",
    "        plt.show()\n",
    "    \n",
    "    return Y, Y_h, model.ts_model.models[0].weights, rmse_mssa, y_true, y_pred"
   ]
  },
  {
   "cell_type": "code",
   "execution_count": 20,
   "metadata": {},
   "outputs": [],
   "source": [
    "def test_fedMssa(data_train, data_test, L, n_users, M_ts, dim, days, plot_all, plot_single, missingVal=1):\n",
    "    suffix_missingVal = 'missingVal' if missingVal else 'fullObs'\n",
    "    \n",
    "    data_train = data_train.iloc[:,:n_users]\n",
    "    data_test = data_test.iloc[:,:n_users]\n",
    "    flattened_obs, M_ts = get_flattened_obs(data_train, L=L)\n",
    "\n",
    "    # model\n",
    "    model_my = mSSA(rank = dim, normalize = False, L=L)\n",
    "    # model\n",
    "    model_my.update_model(data_train)\n",
    "\n",
    "    P_admm = flattened_obs\n",
    "    # ============================================================\n",
    "    # ====== 1. read common U from npy, which is Z\n",
    "#     results_path = f\"../SSA/\"\n",
    "#     file_name = f\"Grassmann_ADMM_constraint2_Traffic{n_users}_{suffix_missingVal}_N{n_users}_L{L}_d{L}_rhoauto_imputation.npy\"\n",
    "#     file_path = os.path.join(results_path, file_name)\n",
    "#     Uk_admm = np.load(file_path)\n",
    "#     # Select PCs by Sigma\n",
    "#     lst_U = []\n",
    "#     for i in range(n_users):\n",
    "#         proj_admm_i = Uk_admm.T.dot(P_admm[:,i*M_ts:(i+1)*M_ts])\n",
    "#         S2_admm_i_est = proj_admm_i.dot(proj_admm_i.T)\n",
    "#         S2_admm_i = np.diag(S2_admm_i_est)\n",
    "#         S_admm_i = np.sqrt(S2_admm_i)\n",
    "#         Uk_admm_i = Uk_admm[:,S_admm_i.argsort()[::-1][:dim]] # 针对每一个client，取Uk的那20列，which 取决于 S_admm的大小\n",
    "#         lst_U.append(Uk_admm_i)\n",
    "    # ============================================================\n",
    "        \n",
    "    # ============================================================\n",
    "    # ====== 2. read personalized U from h5, which is Ui\n",
    "    results_path = f\"../SSA/\"\n",
    "    file_name = f\"Grassmann_ADMM_constraint2_Traffic{n_users}_{suffix_missingVal}20_N{n_users}_L{L}_d{L}_rhoauto_imputation.h5\"\n",
    "    file_path = os.path.join(results_path, file_name)\n",
    "    lst_U = []\n",
    "    import h5py\n",
    "    with h5py.File(file_path, \"r\") as f:\n",
    "        # Print all root level object names (aka keys) \n",
    "        # these can be group or dataset names \n",
    "#         print(\"Keys: %s\" % f.keys())\n",
    "        # get first object name/key; may or may NOT be a group\n",
    "        for a_group_key in list(f.keys()):\n",
    "            ds_arr = f[a_group_key][()]  # returns as a numpy array\n",
    "            lst_U.append(ds_arr)\n",
    "    # Select PCs by Sigma\n",
    "    for i in range(n_users):\n",
    "        proj_admm_i = lst_U[i].T.dot(P_admm[:,i*M_ts:(i+1)*M_ts])\n",
    "        S2_admm_i_est = proj_admm_i.dot(proj_admm_i.T)\n",
    "        S2_admm_i = np.diag(S2_admm_i_est)\n",
    "        S_admm_i = np.sqrt(S2_admm_i)\n",
    "        Uk_admm_i = lst_U[i][:,S_admm_i.argsort()[::-1][:dim]] # 针对每一个client，取Uk的那20列，which 取决于 S_admm的大小\n",
    "        lst_U[i] = Uk_admm_i\n",
    "    # ============================================================\n",
    "    \n",
    "    # Select PCs randomly\n",
    "#     select_idx = np.random.choice(np.arange(L),dim,replace=False)\n",
    "#     lst_U = []\n",
    "#     for i in range(n_users):\n",
    "#         lst_U.append(Uk_admm[:,:dim])\n",
    "#     print(\"Uk shape: \", lst_U[0].shape)\n",
    "\n",
    "    imputation_model_score_admm = []\n",
    "    \n",
    "    P_admm_hat = []\n",
    "    y_admm = []\n",
    "    y_true = P_admm[-1,:]\n",
    "    P_tilde_admm_hat = []\n",
    "    window = M_ts\n",
    "    for i in range(n_users):\n",
    "        P_i_admm = P_admm[:,int(i*window):int((i+1)*window)]\n",
    "        P_i_admm_hat = lst_U[i].dot(lst_U[i].T.dot(P_i_admm)); P_admm_hat.append(P_i_admm_hat)\n",
    "        y_i_admm = P_i_admm_hat[-1,:]; y_admm.append(y_i_admm)\n",
    "        y_i_true = P_i_admm[-1,:]\n",
    "        P_i_tilde_admm_hat = P_i_admm_hat[:-1,:]; P_tilde_admm_hat.append(P_i_tilde_admm_hat)\n",
    "        imputation_model_score_admm.append(r2_score(P_i_admm.flatten('F'),P_i_admm_hat.flatten('F'))) # verified same as imputation_model_score)\n",
    "    imputation_model_score_admm = np.array(imputation_model_score_admm)\n",
    "    imputed_data = P_admm_hat\n",
    "    P_admm_hat = np.hstack(P_admm_hat)\n",
    "    y_admm = np.hstack(y_admm)\n",
    "    P_tilde_admm_hat = np.hstack(P_tilde_admm_hat)\n",
    "\n",
    "    print(\"imputation score\", imputation_model_score_admm.mean())\n",
    "\n",
    "    # verify weights_admm using sklearn\n",
    "    from sklearn.linear_model import LinearRegression\n",
    "    reg = LinearRegression(fit_intercept=False).fit(P_tilde_admm_hat.T, y_admm)\n",
    "    weights_LR = reg.coef_\n",
    "    \n",
    "    model_my.ts_model.models[0].weights = weights_LR\n",
    "    \n",
    "    actual, predictions_my = predict_one_day(data_test, model_my, weights_LR)\n",
    "\n",
    "    Y = actual[:,:]\n",
    "    Y_h_my = predictions_my.T[:,:]\n",
    "    mse_my = np.sqrt(np.mean(np.square(Y[:24*days]-Y_h_my[:24*days])))\n",
    "    print ('Forecasting accuracy (RMSE) my:',mse_my)\n",
    "    rmse_fedmssa = mse_my\n",
    "\n",
    "    if plot_all:\n",
    "        npar = np.arange(0,25)\n",
    "    else: npar = [1]\n",
    "    if plot_single:\n",
    "        for i in npar:\n",
    "            plt.figure()\n",
    "            plt.title('forecasting the next seven days for %s'%data_test.columns[i])\n",
    "    #         plt.plot(predictions[i,:24*7],label= 'mSSA',color='green')\n",
    "            plt.plot(predictions_my[i,:24*days],label= 'FedmSSA',color='orange')\n",
    "        #     plt.plot(predictions_sd[i,:24*7],label= 'sd',color='pink')\n",
    "        #     plt.fill_between(np.arange(24*7), lb[i,:24*7], ub[i,:24*7], alpha = 0.1)\n",
    "            plt.plot(actual[:24*days,i],label = 'actual',color='blue')\n",
    "            plt.legend()\n",
    "        plt.show()\n",
    "    \n",
    "    return Y, Y_h_my, weights_LR, lst_U, rmse_fedmssa, imputed_data"
   ]
  },
  {
   "cell_type": "code",
   "execution_count": 21,
   "metadata": {},
   "outputs": [
    {
     "data": {
      "text/plain": [
       "(17376, 20)"
      ]
     },
     "execution_count": 21,
     "metadata": {},
     "output_type": "execute_result"
    }
   ],
   "source": [
    "data_train_missing_vals = create_missing_data(data_train, missing_percentage=20)\n",
    "data_train_missing_vals.shape"
   ]
  },
  {
   "cell_type": "code",
   "execution_count": 22,
   "metadata": {},
   "outputs": [
    {
     "data": {
      "text/html": [
       "<div>\n",
       "<style scoped>\n",
       "    .dataframe tbody tr th:only-of-type {\n",
       "        vertical-align: middle;\n",
       "    }\n",
       "\n",
       "    .dataframe tbody tr th {\n",
       "        vertical-align: top;\n",
       "    }\n",
       "\n",
       "    .dataframe thead th {\n",
       "        text-align: right;\n",
       "    }\n",
       "</style>\n",
       "<table border=\"1\" class=\"dataframe\">\n",
       "  <thead>\n",
       "    <tr style=\"text-align: right;\">\n",
       "      <th></th>\n",
       "      <th>MT_001</th>\n",
       "      <th>MT_002</th>\n",
       "      <th>MT_003</th>\n",
       "      <th>MT_004</th>\n",
       "      <th>MT_005</th>\n",
       "      <th>MT_006</th>\n",
       "      <th>MT_007</th>\n",
       "      <th>MT_008</th>\n",
       "      <th>MT_009</th>\n",
       "      <th>MT_010</th>\n",
       "      <th>MT_011</th>\n",
       "      <th>MT_012</th>\n",
       "      <th>MT_013</th>\n",
       "      <th>MT_014</th>\n",
       "      <th>MT_015</th>\n",
       "      <th>MT_016</th>\n",
       "      <th>MT_017</th>\n",
       "      <th>MT_018</th>\n",
       "      <th>MT_019</th>\n",
       "      <th>MT_020</th>\n",
       "    </tr>\n",
       "    <tr>\n",
       "      <th>time</th>\n",
       "      <th></th>\n",
       "      <th></th>\n",
       "      <th></th>\n",
       "      <th></th>\n",
       "      <th></th>\n",
       "      <th></th>\n",
       "      <th></th>\n",
       "      <th></th>\n",
       "      <th></th>\n",
       "      <th></th>\n",
       "      <th></th>\n",
       "      <th></th>\n",
       "      <th></th>\n",
       "      <th></th>\n",
       "      <th></th>\n",
       "      <th></th>\n",
       "      <th></th>\n",
       "      <th></th>\n",
       "      <th></th>\n",
       "      <th></th>\n",
       "    </tr>\n",
       "  </thead>\n",
       "  <tbody>\n",
       "    <tr>\n",
       "      <th>2015-01-01 00:00:00</th>\n",
       "      <td>-0.712761</td>\n",
       "      <td>-0.649143</td>\n",
       "      <td>0.000000</td>\n",
       "      <td>-1.154807</td>\n",
       "      <td>0.000000</td>\n",
       "      <td>-0.500971</td>\n",
       "      <td>-0.765328</td>\n",
       "      <td>-0.665566</td>\n",
       "      <td>0.000000</td>\n",
       "      <td>-0.414196</td>\n",
       "      <td>-0.822551</td>\n",
       "      <td>-0.854473</td>\n",
       "      <td>0.000000</td>\n",
       "      <td>0.000000</td>\n",
       "      <td>-0.899862</td>\n",
       "      <td>-0.569866</td>\n",
       "      <td>-1.335692</td>\n",
       "      <td>-0.748872</td>\n",
       "      <td>-0.798016</td>\n",
       "      <td>-0.608055</td>\n",
       "    </tr>\n",
       "    <tr>\n",
       "      <th>2015-01-01 01:00:00</th>\n",
       "      <td>-0.674341</td>\n",
       "      <td>-0.645010</td>\n",
       "      <td>-0.862140</td>\n",
       "      <td>-1.067719</td>\n",
       "      <td>-0.513278</td>\n",
       "      <td>0.000000</td>\n",
       "      <td>-0.701394</td>\n",
       "      <td>-0.490022</td>\n",
       "      <td>-0.447094</td>\n",
       "      <td>0.000000</td>\n",
       "      <td>-0.770593</td>\n",
       "      <td>-0.822892</td>\n",
       "      <td>-0.849406</td>\n",
       "      <td>-0.507760</td>\n",
       "      <td>-0.835587</td>\n",
       "      <td>0.155680</td>\n",
       "      <td>-1.213432</td>\n",
       "      <td>0.000000</td>\n",
       "      <td>0.000000</td>\n",
       "      <td>-0.599583</td>\n",
       "    </tr>\n",
       "    <tr>\n",
       "      <th>2015-01-01 02:00:00</th>\n",
       "      <td>-0.725568</td>\n",
       "      <td>-0.742124</td>\n",
       "      <td>-0.963111</td>\n",
       "      <td>-1.203794</td>\n",
       "      <td>-0.610849</td>\n",
       "      <td>-0.594173</td>\n",
       "      <td>-0.822705</td>\n",
       "      <td>-0.641794</td>\n",
       "      <td>-0.681695</td>\n",
       "      <td>-0.484698</td>\n",
       "      <td>-0.886055</td>\n",
       "      <td>0.000000</td>\n",
       "      <td>-0.951011</td>\n",
       "      <td>-0.735623</td>\n",
       "      <td>-1.053028</td>\n",
       "      <td>-0.145701</td>\n",
       "      <td>-1.310521</td>\n",
       "      <td>-0.952812</td>\n",
       "      <td>-0.716423</td>\n",
       "      <td>-0.691364</td>\n",
       "    </tr>\n",
       "    <tr>\n",
       "      <th>2015-01-01 03:00:00</th>\n",
       "      <td>-0.727168</td>\n",
       "      <td>-0.826841</td>\n",
       "      <td>-1.022720</td>\n",
       "      <td>-1.296324</td>\n",
       "      <td>-0.666604</td>\n",
       "      <td>0.000000</td>\n",
       "      <td>-0.886640</td>\n",
       "      <td>0.000000</td>\n",
       "      <td>0.000000</td>\n",
       "      <td>-0.602201</td>\n",
       "      <td>-1.015951</td>\n",
       "      <td>-0.929478</td>\n",
       "      <td>-1.023059</td>\n",
       "      <td>0.000000</td>\n",
       "      <td>-1.177476</td>\n",
       "      <td>-0.839993</td>\n",
       "      <td>0.000000</td>\n",
       "      <td>-1.093459</td>\n",
       "      <td>-0.977522</td>\n",
       "      <td>-0.729489</td>\n",
       "    </tr>\n",
       "    <tr>\n",
       "      <th>2015-01-01 04:00:00</th>\n",
       "      <td>-0.722366</td>\n",
       "      <td>-0.837172</td>\n",
       "      <td>-1.055566</td>\n",
       "      <td>-1.318096</td>\n",
       "      <td>-0.680543</td>\n",
       "      <td>-0.706917</td>\n",
       "      <td>-0.925984</td>\n",
       "      <td>-0.948996</td>\n",
       "      <td>-1.114097</td>\n",
       "      <td>-0.573359</td>\n",
       "      <td>-1.079455</td>\n",
       "      <td>-0.943294</td>\n",
       "      <td>-1.041533</td>\n",
       "      <td>-1.045622</td>\n",
       "      <td>0.000000</td>\n",
       "      <td>-1.221742</td>\n",
       "      <td>-1.342884</td>\n",
       "      <td>-1.130380</td>\n",
       "      <td>-1.170083</td>\n",
       "      <td>-0.753493</td>\n",
       "    </tr>\n",
       "  </tbody>\n",
       "</table>\n",
       "</div>"
      ],
      "text/plain": [
       "                       MT_001    MT_002    MT_003    MT_004    MT_005  \\\n",
       "time                                                                    \n",
       "2015-01-01 00:00:00 -0.712761 -0.649143  0.000000 -1.154807  0.000000   \n",
       "2015-01-01 01:00:00 -0.674341 -0.645010 -0.862140 -1.067719 -0.513278   \n",
       "2015-01-01 02:00:00 -0.725568 -0.742124 -0.963111 -1.203794 -0.610849   \n",
       "2015-01-01 03:00:00 -0.727168 -0.826841 -1.022720 -1.296324 -0.666604   \n",
       "2015-01-01 04:00:00 -0.722366 -0.837172 -1.055566 -1.318096 -0.680543   \n",
       "\n",
       "                       MT_006    MT_007    MT_008    MT_009    MT_010  \\\n",
       "time                                                                    \n",
       "2015-01-01 00:00:00 -0.500971 -0.765328 -0.665566  0.000000 -0.414196   \n",
       "2015-01-01 01:00:00  0.000000 -0.701394 -0.490022 -0.447094  0.000000   \n",
       "2015-01-01 02:00:00 -0.594173 -0.822705 -0.641794 -0.681695 -0.484698   \n",
       "2015-01-01 03:00:00  0.000000 -0.886640  0.000000  0.000000 -0.602201   \n",
       "2015-01-01 04:00:00 -0.706917 -0.925984 -0.948996 -1.114097 -0.573359   \n",
       "\n",
       "                       MT_011    MT_012    MT_013    MT_014    MT_015  \\\n",
       "time                                                                    \n",
       "2015-01-01 00:00:00 -0.822551 -0.854473  0.000000  0.000000 -0.899862   \n",
       "2015-01-01 01:00:00 -0.770593 -0.822892 -0.849406 -0.507760 -0.835587   \n",
       "2015-01-01 02:00:00 -0.886055  0.000000 -0.951011 -0.735623 -1.053028   \n",
       "2015-01-01 03:00:00 -1.015951 -0.929478 -1.023059  0.000000 -1.177476   \n",
       "2015-01-01 04:00:00 -1.079455 -0.943294 -1.041533 -1.045622  0.000000   \n",
       "\n",
       "                       MT_016    MT_017    MT_018    MT_019    MT_020  \n",
       "time                                                                   \n",
       "2015-01-01 00:00:00 -0.569866 -1.335692 -0.748872 -0.798016 -0.608055  \n",
       "2015-01-01 01:00:00  0.155680 -1.213432  0.000000  0.000000 -0.599583  \n",
       "2015-01-01 02:00:00 -0.145701 -1.310521 -0.952812 -0.716423 -0.691364  \n",
       "2015-01-01 03:00:00 -0.839993  0.000000 -1.093459 -0.977522 -0.729489  \n",
       "2015-01-01 04:00:00 -1.221742 -1.342884 -1.130380 -1.170083 -0.753493  "
      ]
     },
     "execution_count": 22,
     "metadata": {},
     "output_type": "execute_result"
    }
   ],
   "source": [
    "data_train_missing_vals.head()"
   ]
  },
  {
   "cell_type": "code",
   "execution_count": 23,
   "metadata": {},
   "outputs": [],
   "source": [
    "create_csv_data = False"
   ]
  },
  {
   "cell_type": "code",
   "execution_count": 24,
   "metadata": {},
   "outputs": [],
   "source": [
    "if create_csv_data:\n",
    "    for i in range(data_train_missing_vals.shape[1]):\n",
    "        data_train_missing_vals.iloc[:,i].to_csv('../../data/traffic_train_missing_40/'+ 'MT_{0:03}'.format(i+1) + '.csv')\n",
    "        data_train.iloc[:,i].to_csv('../../data/traffic_train/'+ 'MT_{0:03}'.format(i+1) + '.csv')\n"
   ]
  },
  {
   "cell_type": "code",
   "execution_count": 25,
   "metadata": {},
   "outputs": [],
   "source": [
    "from sklearn.metrics import mean_absolute_error as mae\n",
    "from sklearn.metrics import mean_squared_error as mse\n",
    "def evaluate_Testset(y_true, y_pred):\n",
    "    def mape(y_true, y_pred): \n",
    "      return np.mean(np.abs((y_true - y_pred) / y_true)) * 100\n",
    "    MSE = mse(y_true, y_pred)\n",
    "    RMSE = np.sqrt(MSE)\n",
    "    MAE = mae(y_true, y_pred)\n",
    "    MAPE = mape(y_true, y_pred)\n",
    "    return MSE, RMSE, MAE, MAPE\n",
    "\n",
    "# Function to estimate accuracy for one user\n",
    "def accuracy_Testset(y_true, y_pred):\n",
    "  diff_pred = list()\n",
    "  diff_true = list()\n",
    "  accuracy = 0.\n",
    "  for i in range(len(y_true)-1):\n",
    "      diff_pred.append(y_pred[i+1]-y_pred[i])\n",
    "      diff_true.append(y_true[i+1]-y_true[i])\n",
    "  count = sum(diff_pred[i] * diff_true[i] > 0 for i in range(len(diff_pred)))\n",
    "  accuracy = count/len(diff_pred) * 100\n",
    "  return accuracy\n",
    "\n",
    "# Function to estimate average accuracy for multiple users\n",
    "def average_acc(y_true, y_pred):\n",
    "    n_users = y_true.shape[0]\n",
    "    acc_list = []\n",
    "    for i in range(n_users):\n",
    "        y_true_i = y_true[i]\n",
    "        y_pred_i = y_pred[i]\n",
    "        acc = accuracy_Testset(y_true_i, y_pred_i)\n",
    "        acc_list.append(acc)\n",
    "    acc_np = np.array(acc_list)\n",
    "    # print(acc_np)\n",
    "    avg_acc = np.mean(acc_np)\n",
    "    return avg_acc"
   ]
  },
  {
   "cell_type": "markdown",
   "metadata": {},
   "source": [
    "# Run Test for 20 users, each user contain a time series data:\n",
    "\n",
    "Setting:\n",
    "- 20 users\n",
    "- each global training round select 10% of users\n",
    "- 20% missing values\n",
    "- each user has a time series data with missing values"
   ]
  },
  {
   "cell_type": "code",
   "execution_count": 26,
   "metadata": {
    "scrolled": true
   },
   "outputs": [
    {
     "name": "stdout",
     "output_type": "stream",
     "text": [
      "imputation score: 0.19399776107933084\n",
      "Forecasting accuracy (RMSE) my: 0.6232490527998037\n",
      "MSE: 0.38843938181585247, RMSE: 0.6232490527998037, MAE: 0.5493146755177989, MAPE: 702.102346787457, Acc: 58.55263157894736\n",
      "imputation score: 0.6703631830199243\n",
      "Forecasting accuracy (RMSE) my: 0.5470237342250083\n",
      "MSE: 0.2992349658054725, RMSE: 0.5470237342250083, MAE: 0.44846569739280495, MAPE: 989.8746832541949, Acc: 72.5877192982456\n",
      "imputation score: 0.7942335479673194\n",
      "Forecasting accuracy (RMSE) my: 0.6472761177671822\n",
      "MSE: 0.41896637263175524, RMSE: 0.6472761177671823, MAE: 0.4986757209176593, MAPE: 1516.1934566145521, Acc: 67.32456140350877\n",
      "imputation score: 0.8640874282447204\n",
      "Forecasting accuracy (RMSE) my: 0.716464458669668\n",
      "MSE: 0.5133213205368204, RMSE: 0.716464458669668, MAE: 0.5520054101007126, MAPE: 3622.6427092310255, Acc: 63.377192982456144\n",
      "imputation score: 0.9808267261948762\n",
      "Forecasting accuracy (RMSE) my: 47.846295662135454\n",
      "MSE: 2289.2680085884817, RMSE: 47.846295662135454, MAE: 11.167299290973812, MAPE: 48066.556229268295, Acc: 51.3157894736842\n"
     ]
    },
    {
     "data": {
      "text/plain": [
       "[0.6232490527998037,\n",
       " 0.5470237342250083,\n",
       " 0.6472761177671822,\n",
       " 0.716464458669668,\n",
       " 47.846295662135454]"
      ]
     },
     "execution_count": 26,
     "metadata": {},
     "output_type": "execute_result"
    }
   ],
   "source": [
    "rmse_sd = []\n",
    "for dim in [1,10,20,30,70]:\n",
    "    Y1, Y_sd, weights_sd, lst_U_sd, rmse, y_true_sd, y_pred_sd = test_sd(data_train_missing_vals, data_test, L=L, n_users=20, M_ts=window, dim=dim, days=1, plot_all=False, plot_single=False)\n",
    "    MSE, RMSE, MAE, MAPE = evaluate_Testset(y_true_sd, y_pred_sd)\n",
    "    acc = average_acc(y_true_sd, y_pred_sd)\n",
    "    print(f\"MSE: {MSE}, RMSE: {RMSE}, MAE: {MAE}, MAPE: {MAPE}, Acc: {acc}\")\n",
    "    rmse_sd.append(rmse)\n",
    "rmse_sd"
   ]
  },
  {
   "cell_type": "code",
   "execution_count": 27,
   "metadata": {},
   "outputs": [
    {
     "name": "stdout",
     "output_type": "stream",
     "text": [
      "Forecasting accuracy (RMSE): 0.5869669019545368\n",
      "MSE: 0.34453014399010684, RMSE: 0.5869669019545368, MAE: 0.5244784288401328, MAPE: 779.3302219115574, Acc: 62.280701754385966\n",
      "Forecasting accuracy (RMSE): 0.5245326716796014\n",
      "MSE: 0.27513452365934044, RMSE: 0.5245326716796013, MAE: 0.43364884288400807, MAPE: 277.76498324529314, Acc: 68.85964912280701\n",
      "Forecasting accuracy (RMSE): 0.48209830846604523\n",
      "MSE: 0.2324187790258221, RMSE: 0.48209830846604523, MAE: 0.35976146673535897, MAPE: 1173.0700890585408, Acc: 63.377192982456144\n",
      "Forecasting accuracy (RMSE): 0.7056659188459354\n",
      "MSE: 0.4979643890206784, RMSE: 0.7056659188459354, MAE: 0.5547211947228863, MAPE: 1069.1196923456055, Acc: 58.55263157894736\n",
      "Forecasting accuracy (RMSE): 2.136107682809416\n",
      "MSE: 4.562956032557414, RMSE: 2.1361076828094165, MAE: 1.6400777262671415, MAPE: 2595.8455279974655, Acc: 53.28947368421052\n"
     ]
    },
    {
     "data": {
      "text/plain": [
       "[0.5869669019545368,\n",
       " 0.5245326716796014,\n",
       " 0.48209830846604523,\n",
       " 0.7056659188459354,\n",
       " 2.136107682809416]"
      ]
     },
     "execution_count": 27,
     "metadata": {},
     "output_type": "execute_result"
    }
   ],
   "source": [
    "rmse_mssa = []\n",
    "for rank in [1,10,20,30,70]:\n",
    "    Y2, Y_mssa, weights_mssa, rmse, y_true_mssa, y_pred_mssa = test_mssa(data_train_missing_vals, data_test, rank=rank, L=L, n_users=20, days=1, plot_all=False, plot_single=False)\n",
    "    MSE, RMSE, MAE, MAPE = evaluate_Testset(y_true_mssa, y_pred_mssa)\n",
    "    acc = average_acc(y_true_mssa, y_pred_mssa)\n",
    "    print(f\"MSE: {MSE}, RMSE: {RMSE}, MAE: {MAE}, MAPE: {MAPE}, Acc: {acc}\")\n",
    "    rmse_mssa.append(rmse)\n",
    "rmse_mssa"
   ]
  },
  {
   "cell_type": "code",
   "execution_count": 28,
   "metadata": {},
   "outputs": [
    {
     "name": "stdout",
     "output_type": "stream",
     "text": [
      "imputation score 0.06632447452234486\n",
      "Forecasting accuracy (RMSE) my: 0.6011275011908324\n",
      "imputation score 0.316703310537115\n",
      "Forecasting accuracy (RMSE) my: 0.7734631200156228\n",
      "imputation score 0.44672998486748455\n",
      "Forecasting accuracy (RMSE) my: 0.6071694577009967\n",
      "imputation score 0.5461435213985157\n",
      "Forecasting accuracy (RMSE) my: 0.5528768773287615\n",
      "imputation score 0.8431659863644058\n",
      "Forecasting accuracy (RMSE) my: 0.5042878968986745\n",
      "imputation score 0.9021639806057836\n",
      "Forecasting accuracy (RMSE) my: 0.5028041497070108\n",
      "imputation score 0.9553705948854567\n",
      "Forecasting accuracy (RMSE) my: 0.5041238021521246\n"
     ]
    },
    {
     "data": {
      "text/plain": [
       "[0.6011275011908324,\n",
       " 0.7734631200156228,\n",
       " 0.6071694577009967,\n",
       " 0.5528768773287615,\n",
       " 0.5042878968986745,\n",
       " 0.5028041497070108,\n",
       " 0.5041238021521246]"
      ]
     },
     "execution_count": 28,
     "metadata": {},
     "output_type": "execute_result"
    }
   ],
   "source": [
    "rmse_fedmssa = []\n",
    "for dim in [1,10,20,30,70, 80, 90]:\n",
    "    Y3, Y_my, weights_my, lst_U_my, rmse, imputed_data = test_fedMssa(data_train_missing_vals, data_test, L=L, n_users=20, M_ts=window, dim=dim, days=1, plot_all=False, plot_single=False, missingVal=1)\n",
    "    rmse_fedmssa.append(rmse)\n",
    "rmse_fedmssa"
   ]
  },
  {
   "attachments": {},
   "cell_type": "markdown",
   "metadata": {},
   "source": [
    "# Get imputed data from FedMSSA and Store as file for FedLSTM\n",
    "\n",
    "## Best rank for Electricity Dataset:\n",
    "- Missing percentage:  0% - rank: 80\n",
    "- Missing percentage: 20% - rank: 70\n",
    "- Missing percentage: 40% - rank: 30 "
   ]
  },
  {
   "cell_type": "code",
   "execution_count": 29,
   "metadata": {},
   "outputs": [
    {
     "name": "stdout",
     "output_type": "stream",
     "text": [
      "imputation score 0.9021639806057836\n",
      "Forecasting accuracy (RMSE) my: 0.5028041497070108\n"
     ]
    }
   ],
   "source": [
    "# Get imputed data from the FedMSSA with the best rank (=30 for example)\n",
    "MISS_VAL = 1 # Working with missing vals or not\n",
    "Y3, Y_my, weights_my, lst_U_my, rmse, imputed_data = test_fedMssa(data_train_missing_vals, data_test, L=L, n_users=20, M_ts=window, dim=80, days=1, plot_all=False, plot_single=False, missingVal=MISS_VAL)\n"
   ]
  },
  {
   "cell_type": "code",
   "execution_count": 30,
   "metadata": {},
   "outputs": [
    {
     "data": {
      "text/plain": [
       "(20, 100, 173)"
      ]
     },
     "execution_count": 30,
     "metadata": {},
     "output_type": "execute_result"
    }
   ],
   "source": [
    "# Convert imputed data to an array\n",
    "imputed_data_np = np.array(imputed_data)\n",
    "imputed_data_np.shape"
   ]
  },
  {
   "cell_type": "code",
   "execution_count": 31,
   "metadata": {},
   "outputs": [
    {
     "data": {
      "text/plain": [
       "(20, 17300)"
      ]
     },
     "execution_count": 31,
     "metadata": {},
     "output_type": "execute_result"
    }
   ],
   "source": [
    "# Flatten page matrix\n",
    "imputed_data_flatten = []\n",
    "for user in imputed_data_np:\n",
    "  user_data = user.flatten('F')\n",
    "  imputed_data_flatten.append(user_data)\n",
    "imputed_data_flatten_np = np.array(imputed_data_flatten)\n",
    "imputed_data_flatten_np.shape"
   ]
  },
  {
   "attachments": {},
   "cell_type": "markdown",
   "metadata": {},
   "source": [
    "### Make comparison between imputed data and original data"
   ]
  },
  {
   "cell_type": "code",
   "execution_count": 32,
   "metadata": {},
   "outputs": [
    {
     "data": {
      "text/plain": [
       "(20, 17376)"
      ]
     },
     "execution_count": 32,
     "metadata": {},
     "output_type": "execute_result"
    }
   ],
   "source": [
    "# Get the original data train\n",
    "ts_data_train = data_train.T\n",
    "ts_data_train = ts_data_train.to_numpy()\n",
    "ts_data_train.shape"
   ]
  },
  {
   "cell_type": "code",
   "execution_count": 33,
   "metadata": {},
   "outputs": [
    {
     "data": {
      "text/plain": [
       "(17376,)"
      ]
     },
     "execution_count": 33,
     "metadata": {},
     "output_type": "execute_result"
    }
   ],
   "source": [
    "user_id = 1\n",
    "# Get actual data for a user to test\n",
    "actual_data_client = ts_data_train[user_id]\n",
    "actual_data_client = actual_data_client[-25920:]\n",
    "actual_data_client.shape"
   ]
  },
  {
   "cell_type": "code",
   "execution_count": 34,
   "metadata": {},
   "outputs": [
    {
     "data": {
      "text/plain": [
       "(17300,)"
      ]
     },
     "execution_count": 34,
     "metadata": {},
     "output_type": "execute_result"
    }
   ],
   "source": [
    "# Get imputed data for corresponding user\n",
    "imputed_data_client = imputed_data_flatten_np[user_id]\n",
    "imputed_data_client.shape"
   ]
  },
  {
   "cell_type": "code",
   "execution_count": 35,
   "metadata": {},
   "outputs": [
    {
     "data": {
      "text/plain": [
       "[]"
      ]
     },
     "execution_count": 35,
     "metadata": {},
     "output_type": "execute_result"
    },
    {
     "data": {
      "image/png": "[encoded data removed]",
      "text/plain": [
       "<Figure size 432x288 with 1 Axes>"
      ]
     },
     "metadata": {
      "needs_background": "light"
     },
     "output_type": "display_data"
    }
   ],
   "source": [
    "# Visualize original data\n",
    "plt.plot(actual_data_client, label=\"actual\")\n",
    "plt.legend()\n",
    "plt.plot()"
   ]
  },
  {
   "cell_type": "code",
   "execution_count": 36,
   "metadata": {},
   "outputs": [
    {
     "data": {
      "text/plain": [
       "[]"
      ]
     },
     "execution_count": 36,
     "metadata": {},
     "output_type": "execute_result"
    },
    {
     "data": {
      "image/png": "[encoded data removed]",
      "text/plain": [
       "<Figure size 432x288 with 1 Axes>"
      ]
     },
     "metadata": {
      "needs_background": "light"
     },
     "output_type": "display_data"
    }
   ],
   "source": [
    "# Visualize original data\n",
    "plt.plot(imputed_data_client, label=\"imputed\")\n",
    "plt.legend()\n",
    "plt.plot()"
   ]
  },
  {
   "cell_type": "code",
   "execution_count": 37,
   "metadata": {},
   "outputs": [],
   "source": [
    "# Function to store the imputed data\n",
    "def store_imputed_data(n_users, L, dim, missing_percentage, imputed_data):\n",
    "    results_path = f\"../imputed_data/traffic\"\n",
    "    file_name = f\"numuser_{n_users}_L_{L}_dim_{dim}_missingPercentage_{missing_percentage}\"\n",
    "    file_path = os.path.join(results_path, file_name)\n",
    "    np.save(file_path, imputed_data)"
   ]
  },
  {
   "cell_type": "code",
   "execution_count": 38,
   "metadata": {},
   "outputs": [],
   "source": [
    "# Store imputed data\n",
    "store_train = False\n",
    "if store_train:\n",
    "    store_imputed_data(n_users=20, L=100, dim=80, missing_percentage=0, imputed_data=imputed_data_flatten_np)"
   ]
  },
  {
   "cell_type": "code",
   "execution_count": 39,
   "metadata": {},
   "outputs": [
    {
     "data": {
      "text/plain": [
       "(20, 168)"
      ]
     },
     "execution_count": 39,
     "metadata": {},
     "output_type": "execute_result"
    }
   ],
   "source": [
    "store_test = False\n",
    "data_test_np = data_test.to_numpy().T\n",
    "data_test_np.shape"
   ]
  },
  {
   "cell_type": "code",
   "execution_count": 40,
   "metadata": {},
   "outputs": [],
   "source": [
    "# Function to store the imputed data\n",
    "def store_test_data(test_data):\n",
    "    results_path = f\"../test_data/\"\n",
    "    file_name = f\"test_traff_data_168steps\"\n",
    "    file_path = os.path.join(results_path, file_name)\n",
    "    np.save(file_path, test_data)\n",
    "if store_test:\n",
    "    store_test_data(data_test_np)"
   ]
  }
 ],
 "metadata": {
  "kernelspec": {
   "display_name": "Python 3",
   "language": "python",
   "name": "python3"
  },
  "language_info": {
   "codemirror_mode": {
    "name": "ipython",
    "version": 3
   },
   "file_extension": ".py",
   "mimetype": "text/x-python",
   "name": "python",
   "nbconvert_exporter": "python",
   "pygments_lexer": "ipython3",
   "version": "3.8.10"
  },
  "vscode": {
   "interpreter": {
    "hash": "31f2aee4e71d21fbe5cf8b01ff0e069b9275f58929596ceb00d14d90e3e16cd6"
   }
  }
 },
 "nbformat": 4,
 "nbformat_minor": 2
}
